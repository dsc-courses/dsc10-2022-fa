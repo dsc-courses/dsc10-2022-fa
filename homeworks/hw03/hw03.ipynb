{
 "cells": [
  {
   "cell_type": "markdown",
   "metadata": {},
   "source": [
    "# Homework 3: Data Visualization and Python Functions\n",
    "\n",
    "## Due Tuesday, October 18th at 11:59PM\n",
    "\n",
    "Welcome to Homework 3! This week, we will cover DataFrame manipulations, making visualizations, and defining functions. You can find additional help on these topics in  [BPD 10-12](https://notes.dsc10.com/02-data_sets/arrays.html) in the `babypandas` notes and [CIT 7-7.3](https://inferentialthinking.com/chapters/07/Visualization.html) in the textbook."
   ]
  },
  {
   "cell_type": "markdown",
   "metadata": {},
   "source": [
    "### Instructions\n",
    "\n",
    "This assignment is due on Tuesday, October 18th at 11:59PM. You are given six slip days throughout the quarter to extend deadlines. See the syllabus for more details. With the exception of using slip days, late work will not be accepted unless you have made special arrangements with your instructor.\n",
    "\n",
    "**Important**: For homeworks, the `otter` tests don't usually tell you that your answer is correct. More often, they help catch careless mistakes. It's up to you to ensure that your answer is correct. If you're not sure, ask someone (not for the answer, but for some guidance about your approach). These are great questions for office hours (see the schedule on the [Calendar](https://dsc10.com/calendar)) or EdStem. Directly sharing answers is not okay, but discussing problems with the course staff or with other students is encouraged. \n",
    "**Please do not use for-loops for any questions in this homework.** If you don't know what a for-loop is, don't worry – we haven't covered them yet. But if you do know what they are and are wondering why it's not OK to use them, it is because loops in Python are slow, and looping over arrays and DataFrames should usually be avoided."
   ]
  },
  {
   "cell_type": "code",
   "execution_count": null,
   "metadata": {},
   "outputs": [],
   "source": [
    "# Please don't change this cell, but do make sure to run it\n",
    "import babypandas as bpd\n",
    "import numpy as np\n",
    "\n",
    "import matplotlib.pyplot as plt\n",
    "plt.style.use('ggplot')\n",
    "\n",
    "import otter\n",
    "grader = otter.Notebook()"
   ]
  },
  {
   "cell_type": "markdown",
   "metadata": {},
   "source": [
    "## 1. Winter is Coming ❄️ ⚔️"
   ]
  },
  {
   "cell_type": "markdown",
   "metadata": {},
   "source": [
    "<img src=\"./images/Game_of_Thrones.jpeg\" width=400/>\n",
    "\n",
    "*Game of Thrones* is a hit fantasy-adventure series based on George R.R. Martin's book series, \"A Song of Ice and Fire.\" The series is set in a fictional world, where powerful families, or \"houses,\" fight for control of the Seven Kingdoms. In this question, we will investigate these battles.\n",
    "The data used in this question comes from [Chris Albon's \"The\n",
    "War of the Five Kings\" dataset](https://github.com/chrisalbon/war_of_the_five_kings_dataset), which contains detailed information on all of the battles in the series.\n",
    "\n",
    "The file named `battles.csv` in the `data/` directory has a row for each battle, and the following columns.\n",
    "\n",
    "|Column|Description|\n",
    "|------|-----------|\n",
    "|`'name'`|The name of the battle.|\n",
    "|`'year'`|The year in which the battle took place. The dataset contains battles from the years 298 to 300.|\n",
    "|`'attacker_king'`|The name of the king who was on the attacking side of the battle.|\n",
    "|`'defender_king'`|The name of the king who was on the defending side of the battle.|\n",
    "|`'major_death'`|Indicates whether a major character died during the battle. Values of `1.0` mean that some major character died, `0.0` means not.|\n",
    "|`'major_capture'`|Indicates whether a major character was captured during the battle. Values of `1.0` mean that some major character was captured, `0.0` means not.|\n",
    "|`'attacker_size'`|Number of people in the attacking army.|\n",
    "|`'defender_size'`|Number of people in the defending army.|\n",
    "|`'summer'`|Indicates if the battle took place in summer. Values of `1.0` mean the battle was in summer, `0.0` means not.|\n",
    "|`'location'`|The specific location where the battle took place.|\n",
    "|`'region'`|The more general region where the battle took place.|\n",
    "|`'attacker_win'`| Indicates whether the attacking army won the battle. Values of `1.0` mean the attackers won, `0.0` means they lost.|"
   ]
  },
  {
   "cell_type": "markdown",
   "metadata": {},
   "source": [
    "First, we'll read the data in as a DataFrame."
   ]
  },
  {
   "cell_type": "code",
   "execution_count": null,
   "metadata": {},
   "outputs": [],
   "source": [
    "battles = bpd.read_csv('data/battles.csv')\n",
    "battles"
   ]
  },
  {
   "cell_type": "markdown",
   "metadata": {},
   "source": [
    "You may notice the DataFrame has many `NaN` values. `NaN` means \"not a number,\" and it's how `babypandas` handles missing values. You don't need to worry about these, as they won't affect any of the calculations. Python knows to ignore them."
   ]
  },
  {
   "cell_type": "markdown",
   "metadata": {},
   "source": [
    "Let's explore certain columns to get to know the data a little better. The `.describe()` method gives us some useful information about a column. Try it out on the `name` column."
   ]
  },
  {
   "cell_type": "code",
   "execution_count": null,
   "metadata": {
    "scrolled": true
   },
   "outputs": [],
   "source": [
    "battles.get('name').describe()"
   ]
  },
  {
   "cell_type": "markdown",
   "metadata": {},
   "source": [
    "We learn that this column has 38 values, all of which are unique, and as a result the most frequent name appears only once.\n",
    "\n",
    "If we try this same command on the `'attacker_king'` column, we'll see that although there are 36 values (and therefore 2 missing values), there are only 4 distinct values. There are many battles with the same `'attacker_king'`. The most common `'attacker_king'` is `'Joffrey/Tommen Baratheon'`, with 14 instances. "
   ]
  },
  {
   "cell_type": "code",
   "execution_count": null,
   "metadata": {
    "scrolled": true
   },
   "outputs": [],
   "source": [
    "battles.get('attacker_king').describe()"
   ]
  },
  {
   "cell_type": "markdown",
   "metadata": {},
   "source": [
    "**Question 1.1.** The index of a DataFrame contains the label (or \"name\") of each row. Set the index of `battles` to whichever column makes the most sense. Make sure that you're actually changing the `battles` DataFrame! "
   ]
  },
  {
   "cell_type": "code",
   "execution_count": null,
   "metadata": {
    "scrolled": true
   },
   "outputs": [],
   "source": [
    "battles = ...\n",
    "battles"
   ]
  },
  {
   "cell_type": "code",
   "execution_count": null,
   "metadata": {
    "deletable": false,
    "editable": false
   },
   "outputs": [],
   "source": [
    "grader.check(\"q1_1\")"
   ]
  },
  {
   "cell_type": "markdown",
   "metadata": {},
   "source": [
    "**Question 1.2.** Assign `weakest_attack` to the name of the battle with the smallest attacking army and `weakest_defense` to the name of the battle smallest defending army.\n",
    "\n",
    "Similarly, assign `strongest_attack` to the name of the battle with the largest attacking army and `strongest_defense` to the name of the battle with the largest defending army\n",
    "\n",
    "In the case of a tie, choose any one of the battles included in the tie.\n",
    "\n",
    "_*Hint*_: When sorting values, `NaN` is always sorted to the last position, no matter if you chose to sort in ascending or descending order. Since there are `NaN` values in this dataset, accessing the last index will probably give you an incorrect answer. Sort accordingly!"
   ]
  },
  {
   "cell_type": "code",
   "execution_count": null,
   "metadata": {},
   "outputs": [],
   "source": [
    "weakest_attack = ...\n",
    "print(\"Weakest attack:\", weakest_attack)\n",
    "\n",
    "strongest_attack = ...\n",
    "print(\"Strongest attack:\", strongest_attack)\n",
    "\n",
    "weakest_defense = ...\n",
    "print(\"Weakest defense:\", weakest_defense)\n",
    "\n",
    "strongest_defense = ...\n",
    "print(\"Strongest defense:\", strongest_defense)"
   ]
  },
  {
   "cell_type": "code",
   "execution_count": null,
   "metadata": {
    "deletable": false,
    "editable": false
   },
   "outputs": [],
   "source": [
    "grader.check(\"q1_2\")"
   ]
  },
  {
   "cell_type": "markdown",
   "metadata": {},
   "source": [
    "**Question 1.3.** Leaders often like to choose where their battles are fought so they can gain an advantage over their opponent.  Create a DataFrame named `wester_river_north` containing only the the battles from `'The Westerlands'`, `'The Riverlands'`, and `'The North'` regions. All columns of `battles` should be included."
   ]
  },
  {
   "cell_type": "code",
   "execution_count": null,
   "metadata": {},
   "outputs": [],
   "source": [
    "wester_river_north = battles[(battles.get('region') == 'The Westerlands') | \n",
    "                             (battles.get('region') == 'The Riverlands') | \n",
    "                             ...\n",
    "wester_river_north"
   ]
  },
  {
   "cell_type": "code",
   "execution_count": null,
   "metadata": {
    "deletable": false,
    "editable": false
   },
   "outputs": [],
   "source": [
    "grader.check(\"q1_3\")"
   ]
  },
  {
   "cell_type": "markdown",
   "metadata": {},
   "source": [
    "**Question 1.4.** Make an appropriate plot that would help you answer the question,\n",
    "\n",
    "> Among battles from `'The Westerlands'`, `'The Riverlands'`,  and `'The North'` regions, do those with larger `'attacker_size'` also have larger `'defender_size'`?\n",
    "\n",
    "You only need to make a plot, you don't need to answer the question above.\n",
    "\n",
    "_*Notes*_:\n",
    "- You may notice that some battles are missing from your plot. This is to be expected – if a battle is missing data for `'attacker_size'` or `'defender_size'`, it won't be displayed in your plot.\n",
    "- You're encouraged to add a title to your plot, using the `title` optional argument, and to change the axis labels using the `plt.xlabel` and `plt.ylabel` functions, but you're not required to."
   ]
  },
  {
   "cell_type": "markdown",
   "metadata": {
    "deletable": false,
    "editable": false
   },
   "source": [
    "<!-- BEGIN QUESTION -->\n",
    "\n",
    "<!--\n",
    "BEGIN QUESTION\n",
    "name: q1_4\n",
    "manual: true\n",
    "-->"
   ]
  },
  {
   "cell_type": "code",
   "execution_count": null,
   "metadata": {},
   "outputs": [],
   "source": [
    "# Create your plot here\n",
    "..."
   ]
  },
  {
   "cell_type": "markdown",
   "metadata": {},
   "source": [
    "<!-- END QUESTION -->\n",
    "\n",
    "\n",
    "\n",
    "**Question 1.5.** Some characters in *Game of Thrones* have a large impact on the plot. When they die in battle, we record their deaths in the `'major_death'` column, which has a value of `1.0` if a major death occurred in that battle and `0.0` otherwise.\n",
    "\n",
    "Create a DataFrame named `major_deaths`, indexed by `'attacker_king'`. This DataFrame should have just one column, named `'num_major'`, that contains the total number of major deaths that each `attacker_king` saw in their battles.\n",
    "\n",
    "_*Hint*_: You will need to change the names of columns, which you can do using `.assign` and `.drop`. Instead of using `.drop`, you may want to use `.get` and pass in a `list` containing the name of a single column that you want to keep. This was done in [Lecture 8](https://dsc10.com/resources/lectures/lec08/lec08.html#Overlaid-plots)."
   ]
  },
  {
   "cell_type": "code",
   "execution_count": null,
   "metadata": {},
   "outputs": [],
   "source": [
    "major_deaths = ...\n",
    "major_deaths"
   ]
  },
  {
   "cell_type": "code",
   "execution_count": null,
   "metadata": {
    "deletable": false,
    "editable": false
   },
   "outputs": [],
   "source": [
    "grader.check(\"q1_5\")"
   ]
  },
  {
   "cell_type": "markdown",
   "metadata": {},
   "source": [
    "**Question 1.6.** It turns out that there is at least one `'attacker_king'` that never had any major deaths in their battles. Below, assign `happy_kings` to an _array_ of the name(s) of these `'attacker_king'`(s). Use Python to extract the name(s) for you; do not type in any name(s)."
   ]
  },
  {
   "cell_type": "code",
   "execution_count": null,
   "metadata": {},
   "outputs": [],
   "source": [
    "happy_kings = ...\n",
    "happy_kings "
   ]
  },
  {
   "cell_type": "code",
   "execution_count": null,
   "metadata": {
    "deletable": false,
    "editable": false
   },
   "outputs": [],
   "source": [
    "grader.check(\"q1_6\")"
   ]
  },
  {
   "cell_type": "markdown",
   "metadata": {},
   "source": [
    "**Question 1.7.** Suppose that you are royalty in the *Game of Thrones* universe, and you want to conquer more land. You want to team up with the strongest kings, so you're trying to find out who can give you the best attacking army. You want to find armies that:\n",
    "- Are large.\n",
    "- Manage to get rid of their enemies' leaders often.\n",
    "- Win often. \n",
    "\n",
    "Fortunately, these three properties correspond to three columns in `battles`. Create a DataFrame called `mean_stats`, indexed by `'attacker_king'`, that contains the mean `'attacker_size'`, `'major_death'`, and `'attacker_win'` for each king. `mean_stats` should only have these three columns."
   ]
  },
  {
   "cell_type": "code",
   "execution_count": null,
   "metadata": {},
   "outputs": [],
   "source": [
    "mean_stats = ...\n",
    "mean_stats"
   ]
  },
  {
   "cell_type": "code",
   "execution_count": null,
   "metadata": {
    "deletable": false,
    "editable": false
   },
   "outputs": [],
   "source": [
    "grader.check(\"q1_7\")"
   ]
  },
  {
   "cell_type": "markdown",
   "metadata": {},
   "source": [
    "**Question 1.8.** While it might make for an entertaining show, it would be no fun to participate in a big battle. From the perspective of a soldier in battle, we'll say that a battle is considered \"bad\" if there were lots of attackers/defenders involved, if important people were captured, and if important people were killed. Additionally, we'll say that battles that take place in summer are considered worse, as the heat makes it harder for soldiers to carry heavy armor and equipment.\n",
    "\n",
    "A battle's \"badness rating\" is a weighted average of these characteristics, with the weights as follows:\n",
    "\n",
    "- ``'attacker_size'``: 20%\n",
    "- ``'defender_size'``: 20%\n",
    "- ``'major_death'``: 30%\n",
    "- ``'major_capture'``: 20%\n",
    "- ``'summer'``: 10%\n",
    "\n",
    "For example, `'Battle of the Whispering Wood'` has:\n",
    "- an `'attacker_size'` of 1875,\n",
    "- a `'defender_size'` of 6000,\n",
    "- a `'major_death'` of 1.0,\n",
    "- a `'major_capture'` of 1.0, and\n",
    "- a `'summer'` of 1.0,\n",
    "\n",
    "so  `calculate_badness(\"Battle of the Whispering Wood\")` should return `1575.6`. \n",
    "\n",
    "Define a function called `calculate_badness` that takes in a battle's name and outputs the battle's \"badness rating\".\n",
    "\n",
    "_*Note*_: Once you've implemented `calculate_badness`, you should verify that your function works as intended, both for the example above and for other battles. This is good practice in general! "
   ]
  },
  {
   "cell_type": "code",
   "execution_count": null,
   "metadata": {},
   "outputs": [],
   "source": [
    "def calculate_badness(name):\n",
    "    ..."
   ]
  },
  {
   "cell_type": "code",
   "execution_count": null,
   "metadata": {
    "deletable": false,
    "editable": false
   },
   "outputs": [],
   "source": [
    "grader.check(\"q1_8\")"
   ]
  },
  {
   "cell_type": "markdown",
   "metadata": {},
   "source": [
    "**Question 1.9.** Use the `calculate_badness` function you've already written, along with the `.apply` method, to create an **array** called `badness_array` that contains the \"badness rating\" of each battle, in the same order as the rows of the `battles` DataFrame. Many battles may not have a \"badness rating\" if some data needed to calculate it is missing.\n",
    "\n",
    "_*Hint*_: Note that the `.apply` method allows you to apply a function to any *column* in a DataFrame, but not to the index. Instead, try using `.apply` on a version of the DataFrame that has the index reset to its default."
   ]
  },
  {
   "cell_type": "code",
   "execution_count": null,
   "metadata": {
    "scrolled": true
   },
   "outputs": [],
   "source": [
    "badness_array = ...\n",
    "badness_array"
   ]
  },
  {
   "cell_type": "code",
   "execution_count": null,
   "metadata": {
    "deletable": false,
    "editable": false
   },
   "outputs": [],
   "source": [
    "grader.check(\"q1_9\")"
   ]
  },
  {
   "cell_type": "markdown",
   "metadata": {},
   "source": [
    "**Question 1.10.** Create a DataFrame called `with_badness` that contains all the columns of `battles` plus one more called `'badness'`, containing the values in `badness_array`. Order the rows in descending order of `'badness'`. Make sure `with_badness` has the same index as `battles`.\n",
    "\n",
    "Then, save the name of the battle with the largest \"badness rating\" as `worst_battle`. "
   ]
  },
  {
   "cell_type": "code",
   "execution_count": null,
   "metadata": {},
   "outputs": [],
   "source": [
    "with_badness = ...\n",
    "worst_battle = ...\n",
    "\n",
    "print('The battle with the largest \"badness rating\" is:', worst_battle)\n",
    "with_badness"
   ]
  },
  {
   "cell_type": "code",
   "execution_count": null,
   "metadata": {
    "deletable": false,
    "editable": false
   },
   "outputs": [],
   "source": [
    "grader.check(\"q1_10\")"
   ]
  },
  {
   "cell_type": "markdown",
   "metadata": {},
   "source": [
    "## 2. Game On! 🎮"
   ]
  },
  {
   "cell_type": "markdown",
   "metadata": {},
   "source": [
    "The last section was about _Game of Thrones_. This section is also about games... video games! (Bad joke, we know 🙄.)\n",
    "\n",
    "Here, we'll work with a dataset taken from [Kaggle](https://www.kaggle.com/datasets/rush4ratio/video-game-sales-with-ratings) that contains sales information for thousands of video games, including some released this year. In the cell below, we load the dataset in as a DataFrame named `video_games`. Take some time to understand what each column of `video_games` represents, as we haven't provided you with a description of each column."
   ]
  },
  {
   "cell_type": "code",
   "execution_count": null,
   "metadata": {},
   "outputs": [],
   "source": [
    "# Run this cell to load the dataset.\n",
    "video_games = bpd.read_csv('data/video_game_ratings.csv')\n",
    "video_games"
   ]
  },
  {
   "cell_type": "markdown",
   "metadata": {},
   "source": [
    "**Question 2.1.** If you look at the `'votes'` column in the DataFrame, you'll notice that there are commas in some of the numbers. For example, in the second row of the DataFrame, the value in the `votes` column is `36,441`. These commas indicate that the `'votes'` column contains strings, not integers, since Python never displays integers with commas.\n",
    "\n",
    "Write a function `convert_votes_to_int` that takes in a string `v` as input and outputs `v` as an integer, after removing any commas. \n",
    "\n",
    "Then, use your function to update the `'votes'` column in the `video_games` DataFrame so that it contains integers rather than strings. Make sure to \"save\" your changes in the `video_games` DataFrame!\n",
    "\n",
    "_Hint_: You can use the `.assign` method to replace values in the `'votes'` column, without having to create an additional column."
   ]
  },
  {
   "cell_type": "code",
   "execution_count": null,
   "metadata": {},
   "outputs": [],
   "source": [
    "def convert_votes_to_int(v):\n",
    "    ..."
   ]
  },
  {
   "cell_type": "code",
   "execution_count": null,
   "metadata": {},
   "outputs": [],
   "source": [
    "video_games = ...\n",
    "video_games"
   ]
  },
  {
   "cell_type": "code",
   "execution_count": null,
   "metadata": {
    "deletable": false,
    "editable": false
   },
   "outputs": [],
   "source": [
    "grader.check(\"q2_1\")"
   ]
  },
  {
   "cell_type": "markdown",
   "metadata": {},
   "source": [
    "**Question 2.2.** You are curious as to whether there is a relationship between the number of votes a game receives and the rating of the game. Create an appropriate plot that shows the relationship between these two variables.\n",
    "\n",
    "Then use the plot you made to answer the following question: \n",
    "\n",
    "> What type of ratings do video games with a higher number of votes tend to have?\n",
    "\n",
    "Assign an integer from 1 to 3 representing your answer to the variable `q2_2`.\n",
    "\n",
    "1. Video games with a higher number of votes tend to have higher ratings.\n",
    "2. Video games with a higher number of votes tend to have lower ratings.\n",
    "3. There is no association between number of votes and rating."
   ]
  },
  {
   "cell_type": "code",
   "execution_count": null,
   "metadata": {},
   "outputs": [],
   "source": [
    "# Create your plot here\n",
    "..."
   ]
  },
  {
   "cell_type": "code",
   "execution_count": null,
   "metadata": {},
   "outputs": [],
   "source": [
    "q2_2 = ...\n",
    "q2_2"
   ]
  },
  {
   "cell_type": "code",
   "execution_count": null,
   "metadata": {
    "deletable": false,
    "editable": false
   },
   "outputs": [],
   "source": [
    "grader.check(\"q2_2\")"
   ]
  },
  {
   "cell_type": "markdown",
   "metadata": {},
   "source": [
    "**Question 2.3.** Assign `most_common_genres` to a DataFrame that contains the ten most common genres of video games, in descending order. The DataFrame should be indexed by `'genre'` and have only one column, `'count'`, which is the number of video games in that genre.\n",
    "\n",
    "*Note:* For this question, we will treat each video game as having only one genre. For example, `'Action, Adventure, Drama'` is considered to be its own genre."
   ]
  },
  {
   "cell_type": "code",
   "execution_count": null,
   "metadata": {
    "scrolled": true
   },
   "outputs": [],
   "source": [
    "most_common_genres = ...\n",
    "most_common_genres"
   ]
  },
  {
   "cell_type": "code",
   "execution_count": null,
   "metadata": {
    "deletable": false,
    "editable": false
   },
   "outputs": [],
   "source": [
    "grader.check(\"q2_3\")"
   ]
  },
  {
   "cell_type": "markdown",
   "metadata": {},
   "source": [
    "**Question 2.4.** Using the `most_common_genres` DataFrame you created in Question 2.3, create a horizontal bar chart that shows the distribution of video games into these ten genres. Make sure your plot has the most common genre as the top-most bar in the bar chart."
   ]
  },
  {
   "cell_type": "markdown",
   "metadata": {
    "deletable": false,
    "editable": false
   },
   "source": [
    "<!-- BEGIN QUESTION -->\n",
    "\n",
    "<!--\n",
    "BEGIN QUESTION\n",
    "name: q2_4\n",
    "manual: true\n",
    "-->"
   ]
  },
  {
   "cell_type": "code",
   "execution_count": null,
   "metadata": {},
   "outputs": [],
   "source": [
    "# Create your plot here\n",
    "..."
   ]
  },
  {
   "cell_type": "markdown",
   "metadata": {},
   "source": [
    "<!-- END QUESTION -->\n",
    "\n",
    "\n",
    "\n",
    "**Question 2.5.** Assign the variable `third_lowest` to the genre of video games with the third lowest average rating (among all genres, not just the ones you looked at in Questions 2.3 and 2.4).\n",
    "\n",
    "Do not manually type out your answer. Use `babypandas` methods to produce the answer.\n",
    "\n",
    "*Note:* Again, we will consider a video game with multiple genres to have only one genre. For example, `'Action, Adventure, Drama'` is considered to be its own genre."
   ]
  },
  {
   "cell_type": "code",
   "execution_count": null,
   "metadata": {},
   "outputs": [],
   "source": [
    "third_lowest = ...\n",
    "third_lowest"
   ]
  },
  {
   "cell_type": "code",
   "execution_count": null,
   "metadata": {
    "deletable": false,
    "editable": false
   },
   "outputs": [],
   "source": [
    "grader.check(\"q2_5\")"
   ]
  },
  {
   "cell_type": "markdown",
   "metadata": {},
   "source": [
    "**Question 2.6.** Create a histogram showing the distribution of video game ratings in the `video_games` DataFrame.\n",
    "\n",
    "Remember to set `density=True` since we always use density histograms and `ec='w'` to make the separation of the bars more clear. You don't have to set the `bins` argument."
   ]
  },
  {
   "cell_type": "markdown",
   "metadata": {
    "deletable": false,
    "editable": false
   },
   "source": [
    "<!-- BEGIN QUESTION -->\n",
    "\n",
    "<!--\n",
    "BEGIN QUESTION\n",
    "name: q2_6\n",
    "manual: true\n",
    "-->"
   ]
  },
  {
   "cell_type": "code",
   "execution_count": null,
   "metadata": {},
   "outputs": [],
   "source": [
    "# Create your plot here\n",
    "..."
   ]
  },
  {
   "cell_type": "markdown",
   "metadata": {},
   "source": [
    "<!-- END QUESTION -->\n",
    "\n",
    "\n",
    "\n",
    "<br>"
   ]
  },
  {
   "cell_type": "markdown",
   "metadata": {
    "deletable": false,
    "editable": false
   },
   "source": [
    "**Question 2.7.** There is one director who has directed exactly 27 video games **alone** (with no-codirectors).\n",
    "\n",
    "Below, assign `director_of_27` to the name of this director. Do not manually type out the director's name. Instead, use `babypandas` methods to extract the name.\n",
    "\n",
    "<!--\n",
    "BEGIN QUESTION\n",
    "name: q2_7\n",
    "-->"
   ]
  },
  {
   "cell_type": "code",
   "execution_count": null,
   "metadata": {},
   "outputs": [],
   "source": [
    "director_of_27 = ...\n",
    "director_of_27"
   ]
  },
  {
   "cell_type": "code",
   "execution_count": null,
   "metadata": {
    "deletable": false,
    "editable": false
   },
   "outputs": [],
   "source": [
    "grader.check(\"q2_7\")"
   ]
  },
  {
   "cell_type": "markdown",
   "metadata": {},
   "source": [
    "## 3. The Best Invention of the 20th Century 🍜"
   ]
  },
  {
   "cell_type": "markdown",
   "metadata": {},
   "source": [
    "Instant ramen was first invented by Momofuku Ando in 1958 to cure hunger during wartime. It started off with only one kind for its original purpose, but the instant ramen industry has expanded over the years, and now there are over 100 different kinds of instant ramen. At the turn of the millenium, 2000 Japanese citizens even [ranked](https://abcnews.go.com/International/story?id=81946&page=1) instant ramen as the best invention of the 20th century! Click [here](https://www.cupnoodles-museum.jp/en/osaka_ikeda/) to learn more about the history of this quintessential college meal.\n",
    "\n",
    "<img src=\"./images/noodles-lowres-8607.png\" width=350/>"
   ]
  },
  {
   "cell_type": "markdown",
   "metadata": {},
   "source": [
    "We have a [dataset of instant ramen ratings from Kaggle](https://www.kaggle.com/datasets/residentmario/ramen-ratings?resource=download). First, we'll read in the data from a CSV. There is no good index, so we will leave it unset."
   ]
  },
  {
   "cell_type": "code",
   "execution_count": null,
   "metadata": {},
   "outputs": [],
   "source": [
    "ramen_data = bpd.read_csv('data/ramen-rating.csv')\n",
    "ramen_data"
   ]
  },
  {
   "cell_type": "markdown",
   "metadata": {},
   "source": [
    "Notice that the `'Country'` column contains a country code. We want to convert these country codes into actual country names that everyone can understand.\n",
    "\n",
    "We'll use a Python [dictionary](https://www.tutorialspoint.com/python/python_dictionary.htm) to help us with this conversion. A dictionary is a simple way to map a unique key to a value. For example, the dictionary below maps course codes to course names."
   ]
  },
  {
   "cell_type": "code",
   "execution_count": null,
   "metadata": {},
   "outputs": [],
   "source": [
    "dsc_courses = {\n",
    "    # key: value\n",
    "    'DSC 10': 'Principles of Data Science',\n",
    "    'DSC 20': 'Programming and Basic Data Structures for Data Science',\n",
    "    'DSC 30': 'Data Structures and Algorithms for Data Science',\n",
    "    'DSC 40A': 'Theoretical Foundations of Data Science I',\n",
    "    'DSC 40B': 'Theoretical Foundations of Data Science II',\n",
    "    'DSC 80': 'The Practice and Application of Data Science'\n",
    "}"
   ]
  },
  {
   "cell_type": "markdown",
   "metadata": {},
   "source": [
    "We can access the value corresponding to each key using bracket notation."
   ]
  },
  {
   "cell_type": "code",
   "execution_count": null,
   "metadata": {},
   "outputs": [],
   "source": [
    "dsc30_name = dsc_courses['DSC 30']\n",
    "dsc30_name"
   ]
  },
  {
   "cell_type": "markdown",
   "metadata": {},
   "source": [
    "Here, `'DSC 30'` is the key and `'Data Structures and Algorithms for Data Science'` is the value.\n",
    "\n",
    "Let's use a dictionary to help us with our country code to country name conversion. Below is a dictionary containing country codes as keys and country names as values for each of the countries in our ramen dataset."
   ]
  },
  {
   "cell_type": "code",
   "execution_count": null,
   "metadata": {},
   "outputs": [],
   "source": [
    "# Run this cell, DO NOT change it.\n",
    "country_codes = {\n",
    "    'AU':'Australia',\n",
    "    'BD':'Bangladesh', \n",
    "    'BR':'Brazil', \n",
    "    'KH':'Cambodia' , \n",
    "    'CA':'Canada', \n",
    "    'CN':'China',\n",
    "    'CO':'Colombia', \n",
    "    'DXB':'Dubai' , \n",
    "    'EE':'Estonia' , \n",
    "    'FIJI':'Fiji', \n",
    "    'FI':'Finland' , \n",
    "    'DE':'Germany',\n",
    "    'GHAN':'Ghana' , \n",
    "    'NL':'Holland', \n",
    "    'HK':'Hong Kong', \n",
    "    'HU':'Hungary', \n",
    "    'IN':'India', \n",
    "    'ID':'Indonesia',\n",
    "    'JP':'Japan', \n",
    "    'MY':'Malaysia', \n",
    "    'MX':'Mexico', \n",
    "    'MM':'Myanmar', \n",
    "    'NP':'Nepal', \n",
    "    'AN':'Netherlands',\n",
    "    'NG':'Nigeria', \n",
    "    'PK':'Pakistan', \n",
    "    'PH':'Philippines', \n",
    "    'PL':'Poland', \n",
    "    'SWK':'Sarawak',\n",
    "    'SG':'Singapore', \n",
    "    'KOR':'South Korea', \n",
    "    'SE':'Sweden', \n",
    "    'TW':'Taiwan', \n",
    "    'TH':'Thailand', \n",
    "    'UK' :'United Kingdom' ,\n",
    "    'USA':'United States', \n",
    "    'VN':'Vietnam' \n",
    "    }"
   ]
  },
  {
   "cell_type": "markdown",
   "metadata": {},
   "source": [
    "**Question 3.1.** Using the dictionary `country_codes`, define a function named `code_to_country` that takes as input a country code and returns the corresponding country's name. This should only take one line of code.\n",
    "\n",
    "_*Hints*_: \n",
    "- If you're stuck, take a look at the DSC 30 example above.\n",
    "- Once you've implemented `code_to_country`, you should verify that it works as intended by trying a few examples yourself. The provided tests will **not** do this for you."
   ]
  },
  {
   "cell_type": "code",
   "execution_count": null,
   "metadata": {},
   "outputs": [],
   "source": [
    "def code_to_country(code):\n",
    "    ..."
   ]
  },
  {
   "cell_type": "code",
   "execution_count": null,
   "metadata": {
    "deletable": false,
    "editable": false
   },
   "outputs": [],
   "source": [
    "grader.check(\"q3_1\")"
   ]
  },
  {
   "cell_type": "markdown",
   "metadata": {},
   "source": [
    "**Question 3.2.** Use your `code_to_country` function and the `.apply` method to convert all of the country codes in the `'Country'` column of `ramen_data` into country names. Do this without creating an additional column or reordering the existing columns. Assign the resulting DataFrame to the variable name `ramen`."
   ]
  },
  {
   "cell_type": "code",
   "execution_count": null,
   "metadata": {},
   "outputs": [],
   "source": [
    "ramen = ...\n",
    "ramen"
   ]
  },
  {
   "cell_type": "code",
   "execution_count": null,
   "metadata": {
    "deletable": false,
    "editable": false
   },
   "outputs": [],
   "source": [
    "grader.check(\"q3_2\")"
   ]
  },
  {
   "cell_type": "markdown",
   "metadata": {},
   "source": [
    "🚨 **Important**: For the rest of the questions in this section, use the DataFrame `ramen` instead of `ramen_data`."
   ]
  },
  {
   "cell_type": "markdown",
   "metadata": {},
   "source": [
    "**Question 3.3.** \n",
    "Define a function named `word_count` that returns the number of words in a ramen's `'Variety'`. It should take as input a string from the `'Variety'` column and  return the number of words in that string. We'll consider a piece of text to be a word if and only if it is separated from adjacent words by a space. \n",
    "For example:\n",
    "- `word_count('Cup Noodles Chicken Vegetable')` should return 4.\n",
    "- `word_count('Tonkotsu-Shoyu Rich Pork Flavor Ramen')` should return 5. Notice that `'Tonkotsu-Shoyu'` counts as one word.\n",
    "\n",
    "_*Hint*_: The string method [`.split`](https://docs.python.org/3/library/stdtypes.html#str.split) will be helpful."
   ]
  },
  {
   "cell_type": "code",
   "execution_count": null,
   "metadata": {},
   "outputs": [],
   "source": [
    "def word_count(variety):\n",
    "    ...\n",
    "    \n",
    "# Test cases for your own reference. Feel free to test out more!\n",
    "print(word_count('Cup Noodles Chicken Vegetable'))  # Should print 4\n",
    "print(word_count('Tonkotsu-Shoyu Rich Pork Flavor Ramen')) # Should print 5"
   ]
  },
  {
   "cell_type": "code",
   "execution_count": null,
   "metadata": {
    "deletable": false,
    "editable": false
   },
   "outputs": [],
   "source": [
    "grader.check(\"q3_3\")"
   ]
  },
  {
   "cell_type": "markdown",
   "metadata": {},
   "source": [
    "**Question 3.4.** Create a DataFrame called `with_word_count` with columns from left to right `'Brand'`, `'Country'`, `'Variety'` and `'Stars'` and a new column `'Word_Count'` that has the word count for each variety. Sort the DataFrame in descending order of `'Word_Count'`.\n",
    "\n",
    "_*Note*_: The `'Country'` column should have full country names, not codes."
   ]
  },
  {
   "cell_type": "code",
   "execution_count": null,
   "metadata": {},
   "outputs": [],
   "source": [
    "with_word_count = ...\n",
    "with_word_count"
   ]
  },
  {
   "cell_type": "code",
   "execution_count": null,
   "metadata": {
    "deletable": false,
    "editable": false
   },
   "outputs": [],
   "source": [
    "grader.check(\"q3_4\")"
   ]
  },
  {
   "cell_type": "markdown",
   "metadata": {},
   "source": [
    "**Question 3.5.** How many words does the longest ramen `'Variety'` have? Assign this number to `most_ramen_words`. How many words does the shortest ramen `'Variety'` have? Assign this number to `fewest_ramen_words`. What is the absolute difference between these values? Assign this number to `range_ramen_words`."
   ]
  },
  {
   "cell_type": "code",
   "execution_count": null,
   "metadata": {},
   "outputs": [],
   "source": [
    "most_ramen_words = ...\n",
    "fewest_ramen_words = ...\n",
    "range_ramen_words = ...\n",
    "\n",
    "print('Most ramen words', most_ramen_words)\n",
    "print('Fewest ramen words:', fewest_ramen_words)\n",
    "print('Range of ramen words:', range_ramen_words)"
   ]
  },
  {
   "cell_type": "code",
   "execution_count": null,
   "metadata": {
    "deletable": false,
    "editable": false
   },
   "outputs": [],
   "source": [
    "grader.check(\"q3_5\")"
   ]
  },
  {
   "cell_type": "markdown",
   "metadata": {},
   "source": [
    "**Question 3.6.** Create a function named `mean_word_count` that takes as an input the name of a ramen brand and returns the average `'Word_Count'` for all ramen varieties belonging to that brand."
   ]
  },
  {
   "cell_type": "code",
   "execution_count": null,
   "metadata": {},
   "outputs": [],
   "source": [
    "def mean_word_count(brand):\n",
    "    ..."
   ]
  },
  {
   "cell_type": "code",
   "execution_count": null,
   "metadata": {
    "deletable": false,
    "editable": false
   },
   "outputs": [],
   "source": [
    "grader.check(\"q3_6\")"
   ]
  },
  {
   "cell_type": "markdown",
   "metadata": {},
   "source": [
    "**Question 3.7.** Create a horizontal bar chart that displays the mean word count for all ramen brands that have **more than 10 varieties**. Sort the bars so the brands whose varieties have the most words on average appear at the very top, and those with the fewest words on average appear at the bottom.\n",
    "\n",
    "_*Hints*_: \n",
    "- If you use `.groupby` more than once on the same DataFrame, the order of rows will be the same, even with different aggregation methods, as long as the column you group by is the same.\n",
    "- To get the bar chart to display nicely, try adjusting the optional `figsize` argument, as we did in [Lecture 8](https://dsc10.com/resources/lectures/lec08/lec08.html#Numerical-variables)."
   ]
  },
  {
   "cell_type": "markdown",
   "metadata": {
    "deletable": false,
    "editable": false
   },
   "source": [
    "<!-- BEGIN QUESTION -->\n",
    "\n",
    "<!--\n",
    "BEGIN QUESTION\n",
    "name: q3_7\n",
    "manual: true\n",
    "-->"
   ]
  },
  {
   "cell_type": "code",
   "execution_count": null,
   "metadata": {},
   "outputs": [],
   "source": [
    "# Create your plot here\n",
    "..."
   ]
  },
  {
   "cell_type": "markdown",
   "metadata": {},
   "source": [
    "<!-- END QUESTION -->\n",
    "\n",
    "\n",
    "\n",
    "**Question 3.8.** Define a function named `point_total` that takes in a full country name and returns a point total for that country's ramen, according to the following scheme:\n",
    "- 1 point for every variety of ramen that has at least 1 star and less than 3 stars,\n",
    "- 2 points for every variety with at least 3 stars and less than 4 stars, and\n",
    "- 3 points for every variety with at least 4 stars (and at most 5 stars, which is the maximum possible).\n",
    "\n",
    "|Points Received | Stars (Condition)| \n",
    "| --- | --- | \n",
    "|1| $[1,3)$|\n",
    "|2| $[3, 4)$ | \n",
    "|3| $[4,5]$ |\n",
    "\n",
    "_*Hint*_: Make sure that your function works for countries that don't have varieties of ramen at every possible number of stars. If you aren't able to accomplish this using grouping, try another strategy! Remember, don't use a for-loop. There is a better solution using DataFrame manipulations."
   ]
  },
  {
   "cell_type": "code",
   "execution_count": null,
   "metadata": {},
   "outputs": [],
   "source": [
    "def point_total(country):\n",
    "    ..."
   ]
  },
  {
   "cell_type": "code",
   "execution_count": null,
   "metadata": {
    "deletable": false,
    "editable": false
   },
   "outputs": [],
   "source": [
    "grader.check(\"q3_8\")"
   ]
  },
  {
   "cell_type": "markdown",
   "metadata": {},
   "source": [
    "**Question 3.9.** Among the five countries listed below, which has the **highest** point total, using the points system from Question 3.8?\n",
    "\n",
    "-  `'United States'`\n",
    "-  `'Canada'`\n",
    "-  `'Sweden'`\n",
    "-  `'China'`\n",
    "-  `'Japan'`\n",
    "\n",
    "Save the name (not country code) of the country as `country` and the country's number of points as `points`. You can set the value of `country` and `points` by hand for this question based on the output of the function you just wrote, for various inputs."
   ]
  },
  {
   "cell_type": "code",
   "execution_count": null,
   "metadata": {},
   "outputs": [],
   "source": [
    "country = ...\n",
    "points = ..."
   ]
  },
  {
   "cell_type": "code",
   "execution_count": null,
   "metadata": {
    "deletable": false,
    "editable": false
   },
   "outputs": [],
   "source": [
    "grader.check(\"q3_9\")"
   ]
  },
  {
   "cell_type": "markdown",
   "metadata": {},
   "source": [
    "*Note*: While they don't serve _instant_ ramen, a new ramen restaurant just opened on campus, named [Underbelly](https://sandiego.eater.com/2022/10/3/23385430/izakaya-underbelly-japanese-restaurant-ramen-cocktail-bar-new-opening-ucsd). It's the second ramen restaurant on campus, joining [Showa](https://showaramen.com), which opened earlier this year. Try them out and see how many stars they deserve! ⭐"
   ]
  },
  {
   "cell_type": "markdown",
   "metadata": {},
   "source": [
    "## 4. Final Stretch 🧘‍♀️"
   ]
  },
  {
   "cell_type": "markdown",
   "metadata": {},
   "source": [
    "Suppose we have a DataFrame called `data` with two numerical columns, `'x'` and `'y'`. Consider the following scatter plot, which was generated by calling `data.plot(kind='scatter', x='x', y='y')`:\n",
    "\n",
    "<img src=\"./images/q4_scatter.png\" width=400/>\n",
    "\n",
    "Now consider these two histograms:\n",
    "\n",
    "<center>\n",
    "    <table><tr>\n",
    "        <td><center><b>Histogram A</b><br> <img src=\"images/q4_hist_one.png\" width=400></center> </td>\n",
    "        <td><center><b>Histogram B</b><br> <img src=\"images/q4_hist_two.png\" width=400></center> </td>\n",
    "    </tr></table>\n",
    "</center>"
   ]
  },
  {
   "cell_type": "markdown",
   "metadata": {},
   "source": [
    "**Question 4.1.** Which of the following lines of code generated Histogram A? Assign either `1`, `2`, `3`, or `4` to `which_code`.\n",
    " 1. `data.plot(kind='hist', density=False, y='x')`\n",
    " 2. `data.plot(kind='hist', density=False, y='y')` \n",
    " 3. `data.plot(kind='hist', density=True, y='x')`\n",
    " 4. `data.plot(kind='hist', density=True, y='y')`"
   ]
  },
  {
   "cell_type": "code",
   "execution_count": null,
   "metadata": {},
   "outputs": [],
   "source": [
    "which_code = ..."
   ]
  },
  {
   "cell_type": "code",
   "execution_count": null,
   "metadata": {
    "deletable": false,
    "editable": false
   },
   "outputs": [],
   "source": [
    "grader.check(\"q4_1\")"
   ]
  },
  {
   "cell_type": "markdown",
   "metadata": {},
   "source": [
    "**Question 4.2.** Suppose we run this block of code:\n",
    "\n",
    "```py\n",
    "new_data = bpd.DataFrame().assign(\n",
    "    x = data.get('x') / 6,\n",
    "    y = data.get('y')\n",
    ")\n",
    "```\n",
    "    \n",
    "We then run \n",
    "\n",
    "`new_data.plot(kind='hist', density=True, y='x')`.\n",
    "\n",
    "How will this histogram look compared to the histogram created by \n",
    "\n",
    "`data.plot(kind='hist', density=True, y='x')`, \n",
    "\n",
    "assuming both histograms are drawn on the same axes? Assign `histogram_difference` to either 1, 2, 3, or 4, corresponding to your choice.\n",
    "\n",
    "1. The `new_data` histogram will be wider and taller than the `data` histogram.\n",
    "2. The `new_data` histogram will be wider and shorter than the `data` histogram.\n",
    "3. The `new_data` histogram will be narrower and taller than the `data` histogram.\n",
    "4. The `new_data` histogram will be narrower and shorter than the `data` histogram.\n",
    "\n",
    "_*Hint*_: Look at the end of [Lecture 8](https://dsc10.com/resources/lectures/lec08/lec08.html#Plotting-overlaid-histograms) for an example of two histograms drawn on the same axes."
   ]
  },
  {
   "cell_type": "code",
   "execution_count": null,
   "metadata": {},
   "outputs": [],
   "source": [
    "histogram_difference = ..."
   ]
  },
  {
   "cell_type": "code",
   "execution_count": null,
   "metadata": {
    "deletable": false,
    "editable": false
   },
   "outputs": [],
   "source": [
    "grader.check(\"q4_2\")"
   ]
  },
  {
   "cell_type": "markdown",
   "metadata": {},
   "source": [
    "**Question 4.3.** Below, we show Histogram B again.\n",
    "\n",
    "<img src=\"./images/q4_hist_two.png\" width=400/>\n",
    "\n",
    "What **percent** of values in Histogram B are between -4 (inclusive) and -2 (exclusive)? While we cannot answer this question exactly since we do not know where the bins start and end, we can still approximate the answer. Assign the variable `percent_between` to a number 1 through 5, corresponding to the closest answer.\n",
    "\n",
    "1. 10% \n",
    "2. 13% \n",
    "3. 27%\n",
    "4. 35%\n",
    "5. 48%"
   ]
  },
  {
   "cell_type": "code",
   "execution_count": null,
   "metadata": {},
   "outputs": [],
   "source": [
    "percent_between = ..."
   ]
  },
  {
   "cell_type": "code",
   "execution_count": null,
   "metadata": {
    "deletable": false,
    "editable": false
   },
   "outputs": [],
   "source": [
    "grader.check(\"q4_3\")"
   ]
  },
  {
   "cell_type": "markdown",
   "metadata": {},
   "source": [
    "## Finish Line "
   ]
  },
  {
   "cell_type": "markdown",
   "metadata": {},
   "source": [
    "To submit your assignment:\n",
    "\n",
    "1. Select `Kernel -> Restart & Run All` to ensure that you have executed all cells, including the test cells.\n",
    "2. Read through the notebook to make sure everything is fine and all tests passed.\n",
    "3. Run the cell below to run all tests, and make sure that they all pass.\n",
    "4. Download your notebook using `File -> Download as -> Notebook (.ipynb)`, then upload your notebook to Gradescope."
   ]
  },
  {
   "cell_type": "code",
   "execution_count": null,
   "metadata": {},
   "outputs": [],
   "source": [
    "grader.check_all()"
   ]
  }
 ],
 "metadata": {
  "kernelspec": {
   "display_name": "Python 3 (ipykernel)",
   "language": "python",
   "name": "python3"
  },
  "language_info": {
   "codemirror_mode": {
    "name": "ipython",
    "version": 3
   },
   "file_extension": ".py",
   "mimetype": "text/x-python",
   "name": "python",
   "nbconvert_exporter": "python",
   "pygments_lexer": "ipython3",
   "version": "3.9.12"
  },
  "toc": {
   "base_numbering": 1,
   "nav_menu": {},
   "number_sections": true,
   "sideBar": true,
   "skip_h1_title": false,
   "title_cell": "Table of Contents",
   "title_sidebar": "Contents",
   "toc_cell": false,
   "toc_position": {},
   "toc_section_display": true,
   "toc_window_display": false
  }
 },
 "nbformat": 4,
 "nbformat_minor": 4
}
