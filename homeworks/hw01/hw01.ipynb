{
 "cells": [
  {
   "cell_type": "markdown",
   "metadata": {},
   "source": [
    "# Homework 1: Causality and Basic Python\n",
    "\n",
    "## Due Tuesday, October 4th at 11:59pm\n",
    "\n",
    "Welcome to Homework 1! This week's HW will cover causality and basic Python. You can find additional help on these topics in [Chapter 2](https://www.inferentialthinking.com/chapters/02/causality-and-experiments.html) of Computational and Inferential Thinking and [BPD 1-6](https://notes.dsc10.com/01-getting_started/tools.html) in the `babypandas` notes."
   ]
  },
  {
   "cell_type": "markdown",
   "metadata": {},
   "source": [
    "### Instructions\n",
    "\n",
    "This assignment is due Tuesday, October 4th at 11:59pm. You are given six slip days throughout the quarter to extend deadlines. See the syllabus for more details. With the exception of using slip days, late work will not be accepted unless you have made special arrangements with your instructor. \n",
    "\n",
    "Remember to start early and submit often. \n",
    "\n",
    "**Important**: For homeworks, the `otter` tests don't usually tell you that your answer is correct. More often, they help catch careless mistakes. It's up to you to ensure that your answer is correct. If you're not sure, ask someone (not for the answer, but for some guidance about your approach). These are great questions for office hours (the schedule can be found [here](https://dsc10.com/calendar)) or EdStem. Directly sharing answers is not okay, but discussing problems with the course staff or with other students is encouraged. "
   ]
  },
  {
   "cell_type": "code",
   "execution_count": 1,
   "metadata": {},
   "outputs": [],
   "source": [
    "# Please don't change this cell, but do make sure to run it.\n",
    "import babypandas as bpd\n",
    "import matplotlib.pyplot as plt\n",
    "import numpy as np\n",
    "import otter\n",
    "grader = otter.Notebook()\n",
    "\n",
    "plt.style.use('fivethirtyeight')"
   ]
  },
  {
   "cell_type": "markdown",
   "metadata": {},
   "source": [
    "## 1. College Graduates in Alaska 🎓"
   ]
  },
  {
   "cell_type": "markdown",
   "metadata": {},
   "source": [
    "According to the [USDA Economic Research Service](https://data.ers.usda.gov/reports.aspx?ID=17829), about 108 million people in the United States of America have completed college (received a bachelor's or higher degree). Only 220,017 of those people lived in Alaska. That's a proportion of $\\frac{220{,}017}{108{,}000{,}000} = 0.00204$, or $0.204\\%$, which certainly doesn't sound like a lot.\n",
    "\n",
    "However, it's hard to evaluate the meaning of this data without more information. If you could request one additional piece of data to better understand the education level of Alaskans as compared to all Americans, what would you want to know? Explain how you would use that piece of data to determine whether there are more people with a college degree in Alaska as compared to elsewhere in the US.\n",
    "\n",
    "**Note:** This is a manually graded question. It will not be \"autograded\"; our tutors will read and grade your work."
   ]
  },
  {
   "cell_type": "markdown",
   "metadata": {
    "deletable": false,
    "editable": false
   },
   "source": [
    "<!-- BEGIN QUESTION -->\n",
    "\n",
    "<!--\n",
    "BEGIN QUESTION\n",
    "name: q1\n",
    "manual: true\n",
    "-->"
   ]
  },
  {
   "cell_type": "markdown",
   "metadata": {},
   "source": [
    "_Type your answer here, replacing this text._"
   ]
  },
  {
   "cell_type": "markdown",
   "metadata": {},
   "source": [
    "<!-- END QUESTION -->\n",
    "\n",
    "\n",
    "\n",
    "## 2. Characters in Winnie-the-Pooh 🧸🍯🐷"
   ]
  },
  {
   "cell_type": "markdown",
   "metadata": {},
   "source": [
    "In Lecture 1, we counted the number of times that the characters Amy, Beth, Jo, Meg, and Laurie were named in each chapter of the classic book, _Little Women_. In this question, we'll look at another classic book – _Winnie-the-Pooh (1926)_ by A. A. Milne and illustrated by Ernest H. Shepard. At the start of 2022, the copyright protections of the original book (but not the Disney franchise!) expired, and so sites like Project Gutenberg are now able to post copies of the book without violating any copyright laws. [Click here](https://www.gutenberg.org/files/67098/67098-h/67098-h.htm) to read a version of the book that has all of its original illustrations!"
   ]
  },
  {
   "cell_type": "markdown",
   "metadata": {},
   "source": [
    "<img src='data/illus27.jpg' width=500>"
   ]
  },
  {
   "cell_type": "markdown",
   "metadata": {},
   "source": [
    "Four of the main characters in _Winnie-the-Pooh_ are Pooh (🧸), Piglet (🐷), Eeyore (🐴), and Christopher Robin (🧍).\n",
    "\n",
    "Below, we've written code that shows the number of mentions of each of these four characters in each of the 10 chapters of the book. However, instead of displaying this information in a scatter plot, as was done in Lecture 1, we will use a bar chart.\n",
    "\n",
    "Run the cell below."
   ]
  },
  {
   "cell_type": "code",
   "execution_count": 2,
   "metadata": {},
   "outputs": [],
   "source": [
    "# This cell contains code that hasn't yet been covered in the course.\n",
    "# It isn't expected that you'll understand the code, but you should be able to \n",
    "# interpret the bar chart it generates.\n",
    "\n",
    "# Open the book and split it into chapters\n",
    "book_file = 'data/winnie-the-pooh.txt'\n",
    "raw_book = open(book_file, encoding=\"utf-8\").read()\n",
    "end_pos = raw_book.index('*** END OF THE PROJECT GUTENBERG EBOOK WINNIE-THE-POOH ***')\n",
    "chapters = raw_book[:end_pos].split('CHAPTER ')[1:]\n",
    "\n",
    "# Find the number of words in each chapter\n",
    "chapter_lengths = (np.array([len(c.split(' ')) for c in chapters]) / 100)\n",
    "\n",
    "# Find the number of mentions per 100 words for each character and chapter\n",
    "characters = bpd.DataFrame().assign(\n",
    "    Chapter=np.arange(1, 11),\n",
    "    Pooh=np.char.count(chapters, 'Pooh') / chapter_lengths,\n",
    "    Piglet=np.char.count(chapters, 'Piglet') / chapter_lengths,\n",
    "    Eeyore=np.char.count(chapters, 'Eeyore') / chapter_lengths,\n",
    "    Christopher=np.char.count(chapters, 'Christopher') / chapter_lengths\n",
    ")\n",
    "\n",
    "characters.plot(kind='bar', x='Chapter', figsize=(14, 8));\n",
    "plt.ylabel('Mentions per 100 words in chapter');"
   ]
  },
  {
   "cell_type": "markdown",
   "metadata": {},
   "source": [
    "Notice, the y-axis of this graph is \"Mentions per 100 words in chapter\". The height of the bar for Pooh in Chapter 1 is 1.5; this means that 1.5 of every 100 words in Chapter 1 are `\"Pooh\"` (or in other words, $1.5\\%$ of the words in Chapter 1 are `\"Pooh\"`)."
   ]
  },
  {
   "cell_type": "markdown",
   "metadata": {},
   "source": [
    "**Question 2.1.** The **first time** Eeyore is mentioned is in this sentence:\n",
    "\n",
    "> The Old Grey Donkey, Eeyore, stood by himself in a thistly corner of the forest, his front feet well apart, his head on one side, and thought about things.\n",
    "\n",
    "In which chapter is this sentence? Assign the name `pooh_part1` to an integer between 1 and 10."
   ]
  },
  {
   "cell_type": "code",
   "execution_count": 3,
   "metadata": {},
   "outputs": [],
   "source": [
    "pooh_part1 = ..."
   ]
  },
  {
   "cell_type": "code",
   "execution_count": null,
   "metadata": {
    "deletable": false,
    "editable": false
   },
   "outputs": [],
   "source": [
    "grader.check(\"q2_1\")"
   ]
  },
  {
   "cell_type": "markdown",
   "metadata": {},
   "source": [
    "**Question 2.2.** Pooh is mentioned 47 times in Chapter 5. How many times is Christopher mentioned in Chapter 5? Assign the name `pooh_part2` to 1, 2, 3, 4, or 5.\n",
    "\n",
    "1. 5\n",
    "2. 14\n",
    "3. 19\n",
    "4. 22\n",
    "5. 50"
   ]
  },
  {
   "cell_type": "code",
   "execution_count": 6,
   "metadata": {},
   "outputs": [],
   "source": [
    "pooh_part2 = ..."
   ]
  },
  {
   "cell_type": "code",
   "execution_count": null,
   "metadata": {
    "deletable": false,
    "editable": false
   },
   "outputs": [],
   "source": [
    "grader.check(\"q2_2\")"
   ]
  },
  {
   "cell_type": "markdown",
   "metadata": {},
   "source": [
    "**Question 2.3.** Which of the following is a valid conclusion we can make just based off of the above plot? Assign `pooh_part3` to 1, 2, 3, 4, or 5. There is only one correct answer.\n",
    "\n",
    "1. Piglet is mentioned more times in Chapter 3 than he is in Chapter 5.\n",
    "\n",
    "2. The chapter that Pooh is mentioned the most in is Chapter 2.\n",
    "\n",
    "3. Christopher is mentioned roughly the same number of times in each of Chapters 1, 2, and 3.\n",
    "\n",
    "4. Pooh is mentioned roughly the same number of times in Chapters 4 and 5.\n",
    "\n",
    "5. Christopher and Eeyore are mentioned roughly the same number of times in Chapter 10."
   ]
  },
  {
   "cell_type": "code",
   "execution_count": 9,
   "metadata": {},
   "outputs": [],
   "source": [
    "pooh_part3 = ..."
   ]
  },
  {
   "cell_type": "code",
   "execution_count": null,
   "metadata": {
    "deletable": false,
    "editable": false
   },
   "outputs": [],
   "source": [
    "grader.check(\"q2_3\")"
   ]
  },
  {
   "cell_type": "markdown",
   "metadata": {},
   "source": [
    "**Note:** The tests this section only checked that you set each variable to a number in the correct range. Unlike in labs, tests in homeworks **do not** check that you answered correctly; they only check that your answer is *reasonable*, or in the correct format. To put it another way: all of your tests might pass, but that doesn't mean you'll get full credit -- some of your answers may still be wrong. It's up to you to make sure that they're right!"
   ]
  },
  {
   "cell_type": "markdown",
   "metadata": {},
   "source": [
    "## 3. Python Basics 🐍"
   ]
  },
  {
   "cell_type": "markdown",
   "metadata": {},
   "source": [
    "**Question 3.1.** When you run the following cell, Python produces a cryptic error message."
   ]
  },
  {
   "cell_type": "code",
   "execution_count": 12,
   "metadata": {},
   "outputs": [],
   "source": [
    "2022 = 2020 + 2.0"
   ]
  },
  {
   "cell_type": "markdown",
   "metadata": {},
   "source": [
    "Choose the best explanation of what's wrong with the code, and then assign 1, 2, 3, or 4 to `basics_part1` below to indicate your answer.\n",
    "\n",
    "1. Python is not able to add an `int` to a `float` because they are of different data types.\n",
    "\n",
    "2. The left hand side is an `int`, while the right hand side is a `float`. It should be `2022.0 = 2020 + 2.0`.\n",
    "\n",
    "3. The result should be written after the calculation. It should be `2020 + 2.0 = 2022`.\n",
    "\n",
    "4. This is creating a variable called `2022`, which doesn't make sense because `2022` is a number."
   ]
  },
  {
   "cell_type": "markdown",
   "metadata": {},
   "source": [
    "**Important: Once you have finished this question, \"comment\"  out the above code cell out by replacing it with `# 2022 = 2020 + 2.0`. This will prevent the error message from appearing when your notebook is graded.**"
   ]
  },
  {
   "cell_type": "code",
   "execution_count": 13,
   "metadata": {},
   "outputs": [],
   "source": [
    "basics_part1 = ..."
   ]
  },
  {
   "cell_type": "code",
   "execution_count": null,
   "metadata": {
    "deletable": false,
    "editable": false
   },
   "outputs": [],
   "source": [
    "grader.check(\"q3_1\")"
   ]
  },
  {
   "cell_type": "markdown",
   "metadata": {},
   "source": [
    "**Question 3.2.** Consider the following poorly-written code."
   ]
  },
  {
   "cell_type": "code",
   "execution_count": 16,
   "metadata": {},
   "outputs": [],
   "source": [
    "three = 3\n",
    "three = three * three\n",
    "three = three + three\n",
    "three = three * three\n",
    "three = -three"
   ]
  },
  {
   "cell_type": "markdown",
   "metadata": {},
   "source": [
    "As this code executes, what values does the variable `three` take on? Assign 1, 2, 3, or 4 to `basics_part2` to indicate your answer.\n",
    "\n",
    "1. The variable `three` takes on the values 3, 9, 18, 324, -324.\n",
    "\n",
    "2. The variable `three` takes on the values 3, 9, 81, 243, -243.\n",
    "\n",
    "3. The variable `three` takes on the values 3, 6, 12, 36, -36.\n",
    "\n",
    "4. The variable `three` takes on the values 3, 9, 18, -54, 54."
   ]
  },
  {
   "cell_type": "code",
   "execution_count": 17,
   "metadata": {},
   "outputs": [],
   "source": [
    "basics_part2 = ..."
   ]
  },
  {
   "cell_type": "code",
   "execution_count": null,
   "metadata": {
    "deletable": false,
    "editable": false
   },
   "outputs": [],
   "source": [
    "grader.check(\"q3_2\")"
   ]
  },
  {
   "cell_type": "markdown",
   "metadata": {},
   "source": [
    "## 4. Road Trip   🚘 "
   ]
  },
  {
   "cell_type": "markdown",
   "metadata": {},
   "source": [
    "You and your friend recently went on a road trip, and are trying to calculate some things about your journey. Answer the questions below, using Python to perform all the intermediate calculations, such as adding, squaring, and dividing.\n",
    "\n",
    "Note that the `math` package has not been imported. You don't need it for this question, and **you should not import it**, otherwise the autograder may produce an error.\n",
    "\n",
    "\n",
    "\n",
    "**Question 4.1.** On the first day of the trip, your friend drove the car three times, at speeds and for times seen below:\n",
    "\n",
    "| Journey | Speed (miles per hour) | Time (hours)|\n",
    "| --- | --- | --- |\n",
    "| Part 1 | 18 | 2 |\n",
    "| Part 2 | 47 | 1 |\n",
    "| Part 3 | 65 | 4 |\n",
    "\n",
    "\n",
    "Using this information, calculate the average speed, in miles per hour, at which your friend drove the car that day, and assign your answer to the variable `means_part1`. Recall from math and physics that average speed is the total distance divided by total time."
   ]
  },
  {
   "cell_type": "code",
   "execution_count": 20,
   "metadata": {},
   "outputs": [],
   "source": [
    "# Feel free to define intermediate variables to use in your solution.\n",
    "\n",
    "\n",
    "total_distance = ...\n",
    "total_time = ...\n",
    "\n",
    "means_part1 = ...\n",
    "means_part1"
   ]
  },
  {
   "cell_type": "code",
   "execution_count": null,
   "metadata": {
    "deletable": false,
    "editable": false
   },
   "outputs": [],
   "source": [
    "grader.check(\"q4_1\")"
   ]
  },
  {
   "cell_type": "markdown",
   "metadata": {},
   "source": [
    "**Question 4.2.** On the second day of the trip, your friend drove the car three times again, but this time at the speeds and distances seen below:\n",
    "\n",
    "| Journey | Speed (miles per hour) | Distance (miles)|\n",
    "| --- | --- | --- |\n",
    "| Part 1 | 18 | 2 |\n",
    "| Part 2 | 47 | 1 |\n",
    "| Part 3 | 65 | 4 |\n",
    "\n",
    "\n",
    "Using this information, calculate the average speed, in miles per hour, at which your friend drove the car that day, and assign your answer to the variable `means_part2`. \n",
    "\n",
    "Keep in mind that unlike in Question 4.1. where you calculated total time simply using addition, in this case you must find the time that each part of the journey travelled at a different speed took, before adding to find the total time. To calculate the time taken for each part of the trip, divide the distance for that part by the speed at which it was travelled at. Finally, add up the times for the three parts of the trip to find the total time."
   ]
  },
  {
   "cell_type": "code",
   "execution_count": 23,
   "metadata": {},
   "outputs": [],
   "source": [
    "# Feel free to define intermediate variables to use in your solution.\n",
    "\n",
    "\n",
    "total_distance = ...\n",
    "total_time = ...\n",
    "\n",
    "means_part2 = ...\n",
    "means_part2\n"
   ]
  },
  {
   "cell_type": "code",
   "execution_count": null,
   "metadata": {
    "deletable": false,
    "editable": false
   },
   "outputs": [],
   "source": [
    "grader.check(\"q4_2\")"
   ]
  },
  {
   "cell_type": "markdown",
   "metadata": {},
   "source": [
    "**Question 4.3.** On the way back home, your friend stops at a pet store to buy an aquarium. The only one available is a rectangular tank, which unfortunately doesn't fit in the car because of your suitcases. This tank has a height of 18 inches, a width of 47 inches, and a length of 65 inches. \n",
    "\n",
    "Your friend thinks that the aquarium would have fit in the car with all your suitcases if it had the same volume, but was shaped as a cube instead. What would the length of each side of such an aquarium be in inches? Save your answer in the variable `means_part3`."
   ]
  },
  {
   "cell_type": "code",
   "execution_count": 26,
   "metadata": {},
   "outputs": [],
   "source": [
    "# Feel free to define intermediate variables to use in your solution.\n",
    "\n",
    "\n",
    "means_part3 = ...\n",
    "means_part3"
   ]
  },
  {
   "cell_type": "code",
   "execution_count": null,
   "metadata": {
    "deletable": false,
    "editable": false
   },
   "outputs": [],
   "source": [
    "grader.check(\"q4_3\")"
   ]
  },
  {
   "cell_type": "markdown",
   "metadata": {},
   "source": [
    "In this problem, though you calculated three different quantities in three different ways, all of your results are actually considered **means**, of various kinds!\n",
    "\n",
    "In Question 4.1., given $n$ values $x_1, x_2, ..., x_n$, you found an *arithmetic mean*, using the formula\n",
    "$${x_1+x_2+...+x_n \\over n},$$\n",
    "where the numerator represented total distance and the denominator represented total time. An arithmetic mean is the usual type of mean or average you're used to seeing.\n",
    "\n",
    "In Question 4.2., given  $n$ values $x_1, x_2, ..., x_n$, you found a *harmonic mean*, using the formula\n",
    "$${n \\over {{1 \\over x_1}+{1 \\over x_2}+ ... + {1 \\over x_n}}},$$ \n",
    "where the numerator represented total distance and the denominator represented total time. To calculate the total time, you needed to sum the time taken for each part of the trip, calculated using the fact that time is distance over speed.\n",
    "\n",
    "Finally in Question 4.3., given $n$ values $x_1, x_2, ..., x_n$, you found a *geometric mean*, using the formula \n",
    "$${\\sqrt[n]{x_1 \\cdot x_2 \\cdot ... \\cdot x_n}},$$ \n",
    "where each value represented a dimension of the rectangular tank. \n",
    "\n",
    "There are many different of notions of mean. You'll learn about some of them if you take DSC 40A!\n"
   ]
  },
  {
   "cell_type": "markdown",
   "metadata": {},
   "source": [
    "## 5. Beverage Consumption Among Youth 🧃"
   ]
  },
  {
   "cell_type": "markdown",
   "metadata": {},
   "source": [
    "In this problem, we want to quantify how *dissimilar* three different age categories (little kids, big kids, and teens) are, in terms of their beverage consumption, using three commonly consumed beverages (water, milk, and soft drinks).\n",
    "\n",
    "The data below comes from the CDC's [Beverage Consumption Among Youth in the United States, 2013-2016](https://www.cdc.gov/nchs/products/databriefs/db320.htm).\n",
    "\n",
    "| Percent of Total Beverage Consumption       | Little Kids (Ages 2-5)  | Big Kids (Ages 6-11)  | Teens (Ages 12-19) |\n",
    "|-------------------------------------------|-------------|-----------|-----------|\n",
    "| Water        | 39.5 | 41.9 | 47.0 | \n",
    "| Milk       | 32.1 | 24.4 | 14.5 | \n",
    "| Soft Drinks    | 13.0 | 20.9  | 22.3 | \n",
    "\n",
    "We define the **dissimilarity** between two age groups as the largest absolute difference between their 3 respective consumption percentages.\n",
    "\n",
    "For example, if the following is true:\n",
    "* age group A's *consumption of water* is **10 percent more** than age group B's\n",
    "* age group A's *consumption of milk* is **3 percent less** than age group B's\n",
    "* age group A's *consumption of soft drinks* is **7 percent less** than age group B's\n",
    "\n",
    "then we would say the dissimilarity between age group A and age group B is 10, since 10 is larger than both 3 and 7."
   ]
  },
  {
   "cell_type": "markdown",
   "metadata": {},
   "source": [
    "**Question 5.1.** \n",
    "Using this method, compute the dissimilarity between little kids and big kids.  Name the result `dissimilarity`. Use a single expression (a single line of code) to compute the answer. Let Python perform all the arithmetic (like subtracting) rather than simplifying the expression yourself. The built-in `abs` function computes absolute values. "
   ]
  },
  {
   "cell_type": "code",
   "execution_count": 29,
   "metadata": {},
   "outputs": [],
   "source": [
    "dissimilarity = ...\n",
    "dissimilarity"
   ]
  },
  {
   "cell_type": "code",
   "execution_count": null,
   "metadata": {
    "deletable": false,
    "editable": false
   },
   "outputs": [],
   "source": [
    "grader.check(\"q5_1\")"
   ]
  },
  {
   "cell_type": "markdown",
   "metadata": {},
   "source": [
    "**Question 5.2.** Which pair of age groups is **most** dissimilar, according to this measurement? Assign either 1, 2, or 3 to the variable `most_dissimilar` below.\n",
    "\n",
    "1. little kids and big kids\n",
    "2. big kids and teens\n",
    "3. little kids and teens"
   ]
  },
  {
   "cell_type": "code",
   "execution_count": 33,
   "metadata": {},
   "outputs": [],
   "source": [
    "most_dissimilar = ..."
   ]
  },
  {
   "cell_type": "code",
   "execution_count": null,
   "metadata": {
    "deletable": false,
    "editable": false
   },
   "outputs": [],
   "source": [
    "grader.check(\"q5_2\")"
   ]
  },
  {
   "cell_type": "markdown",
   "metadata": {},
   "source": [
    "**Question 5.3.** It turns out that if we eliminated a certain one of the three beverage percentages in the table (for example, getting rid of the soft drinks row) and recalculated dissimilarities based on the remaining two percentages only, we would find the dissimilarity between each pair of age groups to be the same as if we had used all three percentages. In other words, one of the three rows of the table ends up not factoring into the calculation for dissimilarity for all three pairs of age groups.\n",
    "\n",
    "Which percentage can be eliminated without changing the dissimilarity of any pair of age groups in the table? Assign either 1, 2, or 3 to the variable `disposable` below.\n",
    "\n",
    "1. The consumption percentage of water.\n",
    "2. The consumption percentage of milk.\n",
    "3. The consumption percentage of soft drinks."
   ]
  },
  {
   "cell_type": "code",
   "execution_count": 36,
   "metadata": {},
   "outputs": [],
   "source": [
    "disposable = ..."
   ]
  },
  {
   "cell_type": "code",
   "execution_count": null,
   "metadata": {
    "deletable": false,
    "editable": false
   },
   "outputs": [],
   "source": [
    "grader.check(\"q5_3\")"
   ]
  },
  {
   "cell_type": "markdown",
   "metadata": {},
   "source": [
    "## 6. Covid and Brain Damage 🧠"
   ]
  },
  {
   "cell_type": "markdown",
   "metadata": {},
   "source": [
    "A study released on September 23, 2022 found that people who had COVID-19 have a higher risk for a host of brain injuries than people who were never infected by the coronavirus. [This Reuters article](https://www.reuters.com/business/healthcare-pharmaceuticals/covid-raises-risk-long-term-brain-injury-large-us-study-finds-2022-09-22/) is a good summary of the study.\n",
    "\n",
    "The [original research article](https://www.nature.com/articles/s41591-022-02001-z) by Evan Xu, Yan Xie & Ziyad Al-Aly published in Nature Magazine states:\n",
    "\n",
    ">\"Our results show that in the postacute phase of COVID-19, there was increased risk of an array of incident neurologic sequelae including ischemic and hemorrhagic stroke, cognition and memory disorders, peripheral nervous system disorders, episodic disorders (for example, migraine and seizures), extrapyramidal and movement disorders, mental health disorders, musculoskeletal disorders, sensory disorders, Guillain–Barré syndrome, and encephalitis or encephalopathy. We estimated that the hazard ratio of any neurologic sequela was 1.42 (95% confidence intervals 1.38, 1.47) and burden 70.69 (95% confidence intervals 63.54, 78.01) per 1,000 persons at 12 months. The risks and burdens were elevated even in people who did not require hospitalization during acute COVID-19. Limitations include a cohort comprising mostly White males. Taken together, our results provide evidence of increased risk of long-term neurologic disorders in people who had COVID-19.\""
   ]
  },
  {
   "cell_type": "markdown",
   "metadata": {},
   "source": [
    "**Question 6.1.** Does this study establish that COVID-19 causes brain damage?\n",
    "\n",
    "If you believe the answer is yes, set the variable `covid_q1` to 1; If you believe the answer is no, set `covid_q1` to 2."
   ]
  },
  {
   "cell_type": "code",
   "execution_count": 39,
   "metadata": {},
   "outputs": [],
   "source": [
    "covid_q1 = ..."
   ]
  },
  {
   "cell_type": "code",
   "execution_count": null,
   "metadata": {
    "deletable": false,
    "editable": false
   },
   "outputs": [],
   "source": [
    "grader.check(\"q6_1\")"
   ]
  },
  {
   "cell_type": "markdown",
   "metadata": {},
   "source": [
    "**Question 6.2.** Do you think this article describes an observational study or a randomized controlled experiment?\n",
    "\n",
    "If you believe this is an observational study, set the variable `covid_q2` to 1; If you believe this is a randomized controlled experiment, set `covid_q2` to 2."
   ]
  },
  {
   "cell_type": "code",
   "execution_count": 42,
   "metadata": {},
   "outputs": [],
   "source": [
    "covid_q2 = ..."
   ]
  },
  {
   "cell_type": "code",
   "execution_count": null,
   "metadata": {
    "deletable": false,
    "editable": false
   },
   "outputs": [],
   "source": [
    "grader.check(\"q6_2\")"
   ]
  },
  {
   "cell_type": "markdown",
   "metadata": {},
   "source": [
    "**Question 6.3.** How could we establish whether COVID-19 does indeed cause lasting brain damage? Choose the best answer and assign either 1, 2, or 3 to the variable `covid_q3` below.\n",
    "\n",
    "1. We could do an observational study to test this.\n",
    "2. We could do a randomized controlled trial to test this.\n",
    "3. None of the above."
   ]
  },
  {
   "cell_type": "code",
   "execution_count": 45,
   "metadata": {},
   "outputs": [],
   "source": [
    "covid_q3 = ..."
   ]
  },
  {
   "cell_type": "code",
   "execution_count": null,
   "metadata": {
    "deletable": false,
    "editable": false
   },
   "outputs": [],
   "source": [
    "grader.check(\"q6_3\")"
   ]
  },
  {
   "cell_type": "markdown",
   "metadata": {},
   "source": [
    "## 7. Taste of kale makes fetuses grimace? 🤢🥬"
   ]
  },
  {
   "cell_type": "markdown",
   "metadata": {},
   "source": [
    "The news article below [[source](https://www.theguardian.com/science/2022/sep/22/taste-of-kale-makes-unborn-babies-grimace-finds-research)] discusses whether fetuses differentiate specific flavours. The full study, published September 21, 2022 can be found [here](https://journals.sagepub.com/doi/10.1177/09567976221105460)"
   ]
  },
  {
   "cell_type": "markdown",
   "metadata": {},
   "source": [
    "<img src='https://journals.sagepub.com/cms/10.1177/09567976221105460/asset/images/large/10.1177_09567976221105460-fig1.jpeg' width=500>"
   ]
  },
  {
   "cell_type": "markdown",
   "metadata": {},
   "source": [
    "> \"The team looked at ultrasound scans from almost 70 pregnant women, aged 18 to 40 from the north-east of England, who were split into two groups. One group was asked to take a capsule of powdered kale 20 minutes before an ultrasound scan, and the other was asked to take a capsule of powdered carrot. Vegetable consumption by the mothers did not differ between the kale and carrot group.\n",
    "<br><br>\n",
    "The team then carried out a frame-by-frame analysis of the frequency of a host of different facial movements of the foetuses, including combinations that resembled laughing or crying. \n",
    "Overall, the researchers examined 180 scans from 99 foetuses, scanned at either 32 weeks, 36 weeks, or at both time points.\n",
    "<br><br>\n",
    "Among the results, the team found foetuses showed a crying expression about twice as often when the mother consumed a kale capsule compared with a carrot capsule or no capsule. When the mother consumed a carrot capsule however, the foetuses adopted a laughter-like expression about twice as often as they did when either a kale capsule or no capsule was swallowed by the mother.\n",
    "<br><br>\n",
    "But she cautioned the pregnant women were not randomised to experimental or control groups, and that prior exposure of the foetuses in the control group to different vegetables – including carrots and kale – was not known.\""
   ]
  },
  {
   "cell_type": "markdown",
   "metadata": {},
   "source": [
    "**Question 7.1.** Was this an observational study, a randomized controlled trial, or neither?\n",
    "\n",
    "If you believe this was an observational study, set the variable `kale_q1` to 1; if you believe this was a randomized controlled trial, set `kale_q1` to 2; if you believe this was neither, set `kale_q1` to 3."
   ]
  },
  {
   "cell_type": "code",
   "execution_count": 48,
   "metadata": {},
   "outputs": [],
   "source": [
    "kale_q1 = ..."
   ]
  },
  {
   "cell_type": "code",
   "execution_count": null,
   "metadata": {
    "deletable": false,
    "editable": false
   },
   "outputs": [],
   "source": [
    "grader.check(\"q7_1\")"
   ]
  },
  {
   "cell_type": "markdown",
   "metadata": {},
   "source": [
    "**Question 7.2.** Consider the last sentence of the article excerpt.\n",
    "> \"But she cautioned the pregnant women were not randomised to experimental or control groups, and that prior exposure of the foetuses in the control group to different vegetables – including carrots and kale – was not known.\"\n",
    "\n",
    "Why do you think the authors disclose this confounding factor despite the evidence that her team collected? Choose the best answer and assign either 1, 2, or 3 to the name `kale_q2` below.\n",
    "\n",
    "1. To let the reader know there may be no relationship between ingested flavor and fetal response.\n",
    "2. To let the reader know that the relationship between ingested flavor and fetal response may be non-causal.\n",
    "3. To let the reader know the relationship between ingested flavor and fetal response may be causal.\n"
   ]
  },
  {
   "cell_type": "code",
   "execution_count": 51,
   "metadata": {},
   "outputs": [],
   "source": [
    "kale_q2 = ..."
   ]
  },
  {
   "cell_type": "code",
   "execution_count": null,
   "metadata": {
    "deletable": false,
    "editable": false
   },
   "outputs": [],
   "source": [
    "grader.check(\"q7_2\")"
   ]
  },
  {
   "cell_type": "markdown",
   "metadata": {},
   "source": [
    "**Question 7.3.** Give your own casual explanation and your own non-causal explanation for the results of the study. Make sure to specify which is the causal reason and which is the non-causal reason."
   ]
  },
  {
   "cell_type": "markdown",
   "metadata": {
    "deletable": false,
    "editable": false
   },
   "source": [
    "<!-- BEGIN QUESTION -->\n",
    "\n",
    "<!--\n",
    "BEGIN QUESTION\n",
    "name: q7_3\n",
    "manual: true\n",
    "-->"
   ]
  },
  {
   "cell_type": "markdown",
   "metadata": {},
   "source": [
    "_Type your answer here, replacing this text._"
   ]
  },
  {
   "cell_type": "markdown",
   "metadata": {},
   "source": [
    "<!-- END QUESTION -->\n",
    "\n",
    "\n",
    "\n",
    "## 8. Concussions in Athletes ⛹️‍♀️"
   ]
  },
  {
   "cell_type": "markdown",
   "metadata": {},
   "source": [
    "The following is an excerpt from a news article on the effects of recent legislation intended to prevent concussions in athletes.\n",
    "\n",
    "> “Since 2014, all 50 states and the District of Columbia have passed laws to protect young athletes against traumatic brain injury (TBI). Washington State was the first in 2009.\n",
    "<br><br>\n",
    "Most of the laws require athletes with suspected concussions to stop playing until a doctor clears them to return. Coaches, players, and parents must also receive yearly education about concussions.\n",
    "<br><br>\n",
    "Between fall 2005 and spring 2016, student athletes reported about 2.7 million concussions. Of those, 89 percent were new and 11 percent were repeat injuries.\n",
    "<br><br>\n",
    "In 2005, nearly 135,000 initial concussions were reported. The number jumped to more than 360,000 by 2016.\n",
    "<br><br>\n",
    "After concussion laws were introduced, however, repeat injuries fell dramatically, from about 14 percent of all concussions in 2005 to roughly 7 percent in 2016.\""
   ]
  },
  {
   "cell_type": "markdown",
   "metadata": {},
   "source": [
    "Which of the following is the most likely explanation for the fact that initial concussions nearly tripled from 135,000 in 2005 to 360,000 in 2016? Choose the best answer and assign either 1, 2, 3, or 4 to the name `athletes` below.\n",
    "\n",
    "1. An increase in the danger of athletics.\n",
    "2. An increase in the number of athletes.\n",
    "3. An increase in awareness about concussions.\n",
    "4. An increase in the population of the United States."
   ]
  },
  {
   "cell_type": "code",
   "execution_count": 54,
   "metadata": {},
   "outputs": [],
   "source": [
    "athletes = ..."
   ]
  },
  {
   "cell_type": "code",
   "execution_count": null,
   "metadata": {
    "deletable": false,
    "editable": false
   },
   "outputs": [],
   "source": [
    "grader.check(\"q8\")"
   ]
  },
  {
   "cell_type": "markdown",
   "metadata": {},
   "source": [
    "## 9. Randomized Controlled Experiments 🎲"
   ]
  },
  {
   "cell_type": "markdown",
   "metadata": {},
   "source": [
    "A researcher wants to run a randomized controlled trial to answer one of the questions below. Which of these questions is she not able to answer via RCT? Choose the best answer and assign either 1, 2, 3, or 4 to the name `no_rct` below.\n",
    "\n",
    "\n",
    "1. Does attending a programming bootcamp cause students to get better grades in a programming course?\n",
    "2. Does drinking cold water help with muscle recovery after a workout?\n",
    "3. Does playing the lottery cause heart disease?\n",
    "4. Does being convicted of a crime lower self-esteem?"
   ]
  },
  {
   "cell_type": "code",
   "execution_count": 57,
   "metadata": {},
   "outputs": [],
   "source": [
    "no_rct = ..."
   ]
  },
  {
   "cell_type": "code",
   "execution_count": null,
   "metadata": {
    "deletable": false,
    "editable": false
   },
   "outputs": [],
   "source": [
    "grader.check(\"q9\")"
   ]
  },
  {
   "cell_type": "markdown",
   "metadata": {},
   "source": [
    "## Finish Line: Almost there, but make sure to follow the steps below to submit! 🏁"
   ]
  },
  {
   "cell_type": "markdown",
   "metadata": {},
   "source": [
    "1. Make sure to comment out the code in Question 3.1 that causes an error.\n",
    "2. Select `Kernel -> Restart & Run All` to ensure that you have executed all cells, including the test cells. \n",
    "2. Read through the notebook to make sure all cells ran and all tests passed.\n",
    "3. Run the cell below to run all tests, and make sure that they all pass.\n",
    "4. Download your notebook using `File -> Download as -> Notebook (.ipynb)`, then upload your notebook to Gradescope.\n",
    "5. For a lab, the grade you see on Gradescope is your score on the assignment. For a homework or a project, the grade you see on Gradescope is **not your final score**. We will run correctness tests after the assignment's due date has passed."
   ]
  },
  {
   "cell_type": "code",
   "execution_count": 60,
   "metadata": {},
   "outputs": [],
   "source": [
    "grader.check_all()"
   ]
  },
  {
   "cell_type": "code",
   "execution_count": null,
   "metadata": {},
   "outputs": [],
   "source": []
  }
 ],
 "metadata": {
  "kernelspec": {
   "display_name": "Python 3 (ipykernel)",
   "language": "python",
   "name": "python3"
  },
  "language_info": {
   "codemirror_mode": {
    "name": "ipython",
    "version": 3
   },
   "file_extension": ".py",
   "mimetype": "text/x-python",
   "name": "python",
   "nbconvert_exporter": "python",
   "pygments_lexer": "ipython3",
   "version": "3.9.7"
  }
 },
 "nbformat": 4,
 "nbformat_minor": 4
}
