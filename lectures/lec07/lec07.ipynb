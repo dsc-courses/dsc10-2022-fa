{
 "cells": [
  {
   "cell_type": "code",
   "execution_count": null,
   "metadata": {
    "slideshow": {
     "slide_type": "skip"
    }
   },
   "outputs": [],
   "source": [
    "# Set up packages for lecture. Don't worry about understanding this code, but\n",
    "# make sure to run it if you're following along.\n",
    "import numpy as np\n",
    "import babypandas as bpd\n",
    "import pandas as pd\n",
    "\n",
    "import matplotlib.pyplot as plt\n",
    "from matplotlib_inline.backend_inline import set_matplotlib_formats\n",
    "set_matplotlib_formats(\"svg\")\n",
    "plt.style.use('ggplot')\n",
    "plt.rcParams['figure.figsize'] = (10, 5)\n",
    "\n",
    "np.set_printoptions(threshold=20, precision=2, suppress=True)\n",
    "pd.set_option(\"display.max_rows\", 7)\n",
    "pd.set_option(\"display.max_columns\", 8)\n",
    "pd.set_option(\"display.precision\", 2)\n",
    "\n",
    "from IPython.display import HTML, display, IFrame"
   ]
  },
  {
   "cell_type": "markdown",
   "metadata": {
    "slideshow": {
     "slide_type": "slide"
    }
   },
   "source": [
    "# Lecture 7 –  Data Visualization 📈\n",
    "## DSC 10, Fall 2022"
   ]
  },
  {
   "cell_type": "markdown",
   "metadata": {
    "slideshow": {
     "slide_type": "slide"
    }
   },
   "source": [
    "### Announcements\n",
    "\n",
    "- Lab 2 is due on **Saturday 10/8 at 11:59pm**.\n",
    "- Homework 2 is due on **Tuesday 10/11 at 11:59pm**.\n",
    "- Take a look at the [solutions notebook](https://dsc10.com/resources/lectures/lec06/lec06solutions.html) and [supplemental video](https://youtu.be/xg7rnjWnZ48) for Lecture 6."
   ]
  },
  {
   "cell_type": "markdown",
   "metadata": {
    "slideshow": {
     "slide_type": "slide"
    }
   },
   "source": [
    "### Agenda\n",
    "\n",
    "- Why visualize?\n",
    "- Terminology.\n",
    "- Scatter plots.\n",
    "- Line plots.\n",
    "- Bar charts.\n",
    "\n",
    "Don't forget about the [DSC 10 Reference Sheet](https://drive.google.com/file/d/1mQApk9Ovdi-QVqMgnNcq5dZcWucUKoG-/view) and the [Resources tab of the course website](https://dsc10.com/resources/)!"
   ]
  },
  {
   "cell_type": "markdown",
   "metadata": {
    "slideshow": {
     "slide_type": "slide"
    }
   },
   "source": [
    "### Aside: keyboard shortcuts\n",
    "\n",
    "There are several keyboard shortcuts built into Jupyter Notebooks designed to help you save time. To see them, either click the keyboard button in the toolbar above or hit the H key on your keyboard (as long as you're not actively editing a cell).\n",
    "\n",
    "Particularly useful shortcuts:\n",
    "\n",
    "| Action | Keyboard shortcut |\n",
    "| --- | --- |\n",
    "| Run cell + jump to next cell | SHIFT + ENTER |\n",
    "| Save the notebook | CTRL/CMD + S |\n",
    "| Create new cell above/below | A/B |\n",
    "| Delete cell | DD |\n",
    "| Convert cell to Markdown | M |\n",
    "| Convert cell to code | Y |\n",
    "\n",
    "Note: the latter three only work if you're not actively editing a cell (to exit \"edit mode\", click somewhere outside of a cell)."
   ]
  },
  {
   "cell_type": "markdown",
   "metadata": {
    "slideshow": {
     "slide_type": "slide"
    }
   },
   "source": [
    "## Why visualize?"
   ]
  },
  {
   "cell_type": "markdown",
   "metadata": {
    "slideshow": {
     "slide_type": "slide"
    }
   },
   "source": [
    "Run these cells to load the _Little Women_ data from Lecture 1."
   ]
  },
  {
   "cell_type": "code",
   "execution_count": null,
   "metadata": {
    "slideshow": {
     "slide_type": "-"
    }
   },
   "outputs": [],
   "source": [
    "chapters = open('data/lw.txt').read().split('CHAPTER ')[1:]"
   ]
  },
  {
   "cell_type": "code",
   "execution_count": null,
   "metadata": {
    "slideshow": {
     "slide_type": "-"
    }
   },
   "outputs": [],
   "source": [
    "# Counts of names in the chapters of Little Women\n",
    "\n",
    "counts = bpd.DataFrame().assign(\n",
    "    Amy=np.char.count(chapters, 'Amy'),\n",
    "    Beth=np.char.count(chapters, 'Beth'),\n",
    "    Jo=np.char.count(chapters, 'Jo'),\n",
    "    Meg=np.char.count(chapters, 'Meg'),\n",
    "    Laurie=np.char.count(chapters, 'Laurie'),\n",
    ")\n",
    "\n",
    "# cumulative number of times each name appears\n",
    "\n",
    "lw_counts = bpd.DataFrame().assign(\n",
    "    Amy=np.cumsum(counts.get('Amy')),\n",
    "    Beth=np.cumsum(counts.get('Beth')),\n",
    "    Jo=np.cumsum(counts.get('Jo')),\n",
    "    Meg=np.cumsum(counts.get('Meg')),\n",
    "    Laurie=np.cumsum(counts.get('Laurie')),\n",
    "    Chapter=np.arange(1, 48, 1)\n",
    ")\n",
    "\n",
    "lw_counts"
   ]
  },
  {
   "cell_type": "markdown",
   "metadata": {
    "slideshow": {
     "slide_type": "slide"
    }
   },
   "source": [
    "### Little Women\n",
    "\n",
    "In Lecture 1, we were able to answer questions about the plot of _Little Women_ without having to read the novel. Some of those questions included:\n",
    "\n",
    "- Who is the main character?\n",
    "- Which pair of characters gets married in Chapter 35?"
   ]
  },
  {
   "cell_type": "code",
   "execution_count": null,
   "metadata": {},
   "outputs": [],
   "source": [
    "lw_counts.plot(x='Chapter');"
   ]
  },
  {
   "cell_type": "markdown",
   "metadata": {
    "slideshow": {
     "slide_type": "slide"
    }
   },
   "source": [
    "### Napoleon's March"
   ]
  },
  {
   "cell_type": "markdown",
   "metadata": {},
   "source": [
    "<center><img src=\"./data/minard.jpg\"/></center>"
   ]
  },
  {
   "cell_type": "markdown",
   "metadata": {
    "slideshow": {
     "slide_type": "slide"
    }
   },
   "source": [
    "### John Snow"
   ]
  },
  {
   "cell_type": "markdown",
   "metadata": {},
   "source": [
    "<center><img src='data/map.jpg'></center>"
   ]
  },
  {
   "cell_type": "markdown",
   "metadata": {
    "slideshow": {
     "slide_type": "slide"
    }
   },
   "source": [
    "### Why visualize?"
   ]
  },
  {
   "cell_type": "markdown",
   "metadata": {
    "slideshow": {
     "slide_type": "fragment"
    }
   },
   "source": [
    "- Computers are better than humans at crunching numbers, but humans are better at identifying visual patterns."
   ]
  },
  {
   "cell_type": "markdown",
   "metadata": {
    "slideshow": {
     "slide_type": "fragment"
    }
   },
   "source": [
    "- Visualizations allow us to understand lots of data quickly – they make it easier to spot trends and communicate our results with others."
   ]
  },
  {
   "cell_type": "markdown",
   "metadata": {
    "slideshow": {
     "slide_type": "fragment"
    }
   },
   "source": [
    "- There are many types of visualizations; in this class, we'll look at scatter plots, line plots, bar charts, and histograms, but there are many others.\n",
    "    - The right choice depends on the type of data."
   ]
  },
  {
   "cell_type": "markdown",
   "metadata": {
    "slideshow": {
     "slide_type": "slide"
    }
   },
   "source": [
    "## Terminology"
   ]
  },
  {
   "cell_type": "markdown",
   "metadata": {
    "slideshow": {
     "slide_type": "slide"
    }
   },
   "source": [
    "### Individuals and variables\n",
    "\n",
    "<center><img src='data/ind-var.png' width=90%/></center>"
   ]
  },
  {
   "cell_type": "markdown",
   "metadata": {
    "slideshow": {
     "slide_type": "fragment"
    }
   },
   "source": [
    "- <span style=\"color:#6d9eeb\"><b>Individual (row):</b></span> Person/place/thing for which data is recorded. Also called an **observation**."
   ]
  },
  {
   "cell_type": "markdown",
   "metadata": {
    "slideshow": {
     "slide_type": "fragment"
    }
   },
   "source": [
    "- <span style=\"color:#ff9900\"><b>Variable (column):</b></span> Something that is recorded for each individual. Also called a **feature**."
   ]
  },
  {
   "cell_type": "markdown",
   "metadata": {
    "slideshow": {
     "slide_type": "slide"
    }
   },
   "source": [
    "### Types of variables\n",
    "\n",
    "There are two main types of variables:\n",
    "\n",
    "- **Numerical**: It makes sense to do arithmetic with the values.\n",
    "- **Categorical**: Values fall into categories, that may or may not have some _order_ to them."
   ]
  },
  {
   "cell_type": "markdown",
   "metadata": {
    "slideshow": {
     "slide_type": "slide"
    }
   },
   "source": [
    "### Examples of numerical variables"
   ]
  },
  {
   "cell_type": "markdown",
   "metadata": {
    "slideshow": {
     "slide_type": "fragment"
    }
   },
   "source": [
    "- Salaries of NBA players 🏀.\n",
    "    - Individual: an NBA player.\n",
    "    - Variable: their salary."
   ]
  },
  {
   "cell_type": "markdown",
   "metadata": {
    "slideshow": {
     "slide_type": "fragment"
    }
   },
   "source": [
    "- Movie gross earnings 💰.\n",
    "    - Individual: a movie.\n",
    "    - Variable: its gross earnings."
   ]
  },
  {
   "cell_type": "markdown",
   "metadata": {
    "slideshow": {
     "slide_type": "fragment"
    }
   },
   "source": [
    "- Booster doses administered per day 💉.\n",
    "    - Individual: date.\n",
    "    - Variable: number of booster doses administered on that date."
   ]
  },
  {
   "cell_type": "markdown",
   "metadata": {
    "slideshow": {
     "slide_type": "slide"
    }
   },
   "source": [
    "### Examples of categorical variables"
   ]
  },
  {
   "cell_type": "markdown",
   "metadata": {
    "slideshow": {
     "slide_type": "fragment"
    }
   },
   "source": [
    "- Movie genres 🎬.\n",
    "    - Individual: a movie.\n",
    "    - Variable: its genre."
   ]
  },
  {
   "cell_type": "markdown",
   "metadata": {
    "slideshow": {
     "slide_type": "fragment"
    }
   },
   "source": [
    "- Zip codes 🏠.\n",
    "    - Individual: US resident.\n",
    "    - Variable: zip code.\n",
    "        - Even though they look like numbers, zip codes are categorical (arithmetic doesn't make sense)."
   ]
  },
  {
   "cell_type": "markdown",
   "metadata": {
    "slideshow": {
     "slide_type": "fragment"
    }
   },
   "source": [
    "- Level of prior programming experience for students in DSC 10 🧑‍🎓.\n",
    "    - Individual: student in DSC 10.\n",
    "    - Variable: their level of prior programming experience, e.g. none, low, medium, or high. \n",
    "        - There is an _order_ to these categories!"
   ]
  },
  {
   "cell_type": "markdown",
   "metadata": {
    "slideshow": {
     "slide_type": "slide"
    }
   },
   "source": [
    "### Concept Check ✅ – Answer at [cc.dsc10.com](http://cc.dsc10.com) \n",
    "\n",
    "Which of these is **not** a numerical variable?\n",
    "\n",
    "A. Fuel economy in miles per gallon.\n",
    "\n",
    "B. Number of quarters at UCSD.\n",
    "\n",
    "C. College at UCSD (Sixth, Seventh, etc).\n",
    "\n",
    "D. Bank account number.\n",
    "\n",
    "E. More than one of these are not numerical variables."
   ]
  },
  {
   "cell_type": "markdown",
   "metadata": {
    "slideshow": {
     "slide_type": "slide"
    }
   },
   "source": [
    "### Types of visualizations\n",
    "\n",
    "The type of visualization we create depends on the kinds of variables we're visualizing.\n",
    "\n",
    "- **Scatter plot**: numerical vs. numerical.\n",
    "- **Line plot**: sequential numerical (time) vs. numerical.\n",
    "- **Bar chart**: categorical vs. numerical.\n",
    "- **Histogram**: numerical.\n",
    "    - Will cover next time.\n",
    "    \n",
    "**Note:** We may interchange the words \"plot\", \"chart\", and \"graph\"; they all mean the same thing."
   ]
  },
  {
   "cell_type": "markdown",
   "metadata": {
    "slideshow": {
     "slide_type": "slide"
    }
   },
   "source": [
    "## Scatter plots"
   ]
  },
  {
   "cell_type": "markdown",
   "metadata": {
    "slideshow": {
     "slide_type": "slide"
    }
   },
   "source": [
    "### Dataset of 50 top-grossing actors"
   ]
  },
  {
   "cell_type": "markdown",
   "metadata": {
    "slideshow": {
     "slide_type": "-"
    }
   },
   "source": [
    "|Column |Contents|\n",
    "|----------|------------|\n",
    "`'Actor'`|Name of actor\n",
    "`'Total Gross'`|\tTotal gross domestic box office receipt, in millions of dollars, of all of the actor’s movies\n",
    "`'Number of Movies'`|\tThe number of movies the actor has been in\n",
    "`'Average per Movie'`|\tTotal gross divided by number of movies\n",
    "`'#1 Movie'`|\tThe highest grossing movie the actor has been in\n",
    "`'Gross'`|\tGross domestic box office receipt, in millions of dollars, of the actor’s #1 Movie"
   ]
  },
  {
   "cell_type": "code",
   "execution_count": null,
   "metadata": {
    "slideshow": {
     "slide_type": "slide"
    }
   },
   "outputs": [],
   "source": [
    "actors = bpd.read_csv('data/actors.csv').set_index('Actor')\n",
    "actors"
   ]
  },
  {
   "cell_type": "markdown",
   "metadata": {
    "slideshow": {
     "slide_type": "slide"
    }
   },
   "source": [
    "### Scatter plots\n",
    "\n",
    "What is the relationship between `'Number of Movies'` and `'Total Gross'`?"
   ]
  },
  {
   "cell_type": "code",
   "execution_count": null,
   "metadata": {},
   "outputs": [],
   "source": [
    "actors.plot(kind='scatter', x='Number of Movies', y='Total Gross');"
   ]
  },
  {
   "cell_type": "markdown",
   "metadata": {
    "slideshow": {
     "slide_type": "slide"
    }
   },
   "source": [
    "### Scatter plots\n",
    "\n",
    "- Scatter plots visualize the relationship between two numerical variables.\n",
    "- To create one from a DataFrame `df`, use\n",
    "```\n",
    "df.plot(\n",
    "    kind='scatter', \n",
    "    x=x_column_for_horizontal, \n",
    "    y=y_column_for_vertical\n",
    ")\n",
    "```\n",
    "- The resulting scatter plot has one point per row of `df`.\n",
    "- If you put a semicolon after a call to `.plot`, it will hide the weird text output that displays."
   ]
  },
  {
   "cell_type": "markdown",
   "metadata": {
    "slideshow": {
     "slide_type": "slide"
    }
   },
   "source": [
    "### Scatter plots\n",
    "\n",
    "What is the relationship between `'Number of Movies'` and `'Average per Movie'`?"
   ]
  },
  {
   "cell_type": "code",
   "execution_count": null,
   "metadata": {},
   "outputs": [],
   "source": [
    "actors.plot(kind='scatter', x='Number of Movies', y='Average per Movie');"
   ]
  },
  {
   "cell_type": "markdown",
   "metadata": {
    "slideshow": {
     "slide_type": "fragment"
    }
   },
   "source": [
    "Note that in the above plot, there's a _negative_ association and an outlier."
   ]
  },
  {
   "cell_type": "markdown",
   "metadata": {
    "slideshow": {
     "slide_type": "slide"
    }
   },
   "source": [
    "### Who was in 60 or more movies?"
   ]
  },
  {
   "cell_type": "code",
   "execution_count": null,
   "metadata": {},
   "outputs": [],
   "source": [
    "actors[actors.get('Number of Movies') >= 60]"
   ]
  },
  {
   "cell_type": "markdown",
   "metadata": {
    "slideshow": {
     "slide_type": "slide"
    }
   },
   "source": [
    "### Who is the outlier?\n",
    "\n",
    "Whoever they are, they made very few, high grossing movies."
   ]
  },
  {
   "cell_type": "code",
   "execution_count": null,
   "metadata": {},
   "outputs": [],
   "source": [
    "actors[actors.get('Number of Movies') < 10]"
   ]
  },
  {
   "cell_type": "markdown",
   "metadata": {
    "slideshow": {
     "slide_type": "slide"
    }
   },
   "source": [
    "### Anthony Daniels\n",
    "\n",
    "<center><img src='data/c3po.png' width=200></center>"
   ]
  },
  {
   "cell_type": "markdown",
   "metadata": {
    "slideshow": {
     "slide_type": "slide"
    }
   },
   "source": [
    "## Line plots 📉"
   ]
  },
  {
   "cell_type": "markdown",
   "metadata": {
    "slideshow": {
     "slide_type": "slide"
    }
   },
   "source": [
    "### Dataset aggregating movies by year"
   ]
  },
  {
   "cell_type": "markdown",
   "metadata": {
    "slideshow": {
     "slide_type": "-"
    }
   },
   "source": [
    "|Column|\tContent|\n",
    "|------|-----------|\n",
    "`'Year'`|\tYear\n",
    "`'Total Gross in Billions'`|\tTotal domestic box office gross, in billions of dollars, of all movies released\n",
    "`'Number of Movies'`|\tNumber of movies released\n",
    "`'#1 Movie'`|\tHighest grossing movie"
   ]
  },
  {
   "cell_type": "code",
   "execution_count": null,
   "metadata": {
    "slideshow": {
     "slide_type": "slide"
    }
   },
   "outputs": [],
   "source": [
    "movies_by_year = bpd.read_csv('data/movies_by_year.csv').set_index('Year')\n",
    "movies_by_year"
   ]
  },
  {
   "cell_type": "markdown",
   "metadata": {
    "slideshow": {
     "slide_type": "slide"
    }
   },
   "source": [
    "### Line plots\n",
    "\n",
    "How has the number of movies changed over time? 🤔"
   ]
  },
  {
   "cell_type": "code",
   "execution_count": null,
   "metadata": {},
   "outputs": [],
   "source": [
    "movies_by_year.plot(kind='line', y='Number of Movies');"
   ]
  },
  {
   "cell_type": "markdown",
   "metadata": {
    "slideshow": {
     "slide_type": "slide"
    }
   },
   "source": [
    "### Line plots\n",
    "\n",
    "- Line plots show trends in numerical variables over time.\n",
    "- To create one from a DataFrame `df`, use\n",
    "```\n",
    "df.plot(\n",
    "    kind='line', \n",
    "    x=x_column_for_horizontal, \n",
    "    y=y_column_for_vertical\n",
    ")\n",
    "```"
   ]
  },
  {
   "cell_type": "markdown",
   "metadata": {
    "slideshow": {
     "slide_type": "slide"
    }
   },
   "source": [
    "### Plotting tip\n",
    "\n",
    "- **Tip**: if you want the x-axis to be the index, omit the `x=` argument!\n",
    "- Doesn't work for scatter plots, but works for most other plot types."
   ]
  },
  {
   "cell_type": "code",
   "execution_count": null,
   "metadata": {},
   "outputs": [],
   "source": [
    "movies_by_year.plot(kind='line', y='Number of Movies');"
   ]
  },
  {
   "cell_type": "markdown",
   "metadata": {
    "slideshow": {
     "slide_type": "slide"
    }
   },
   "source": [
    "### Since the year 2000\n",
    "\n",
    "We can create a line plot of just 2000 onwards by querying `movies_by_year` before calling `.plot`."
   ]
  },
  {
   "cell_type": "code",
   "execution_count": null,
   "metadata": {
    "scrolled": false,
    "slideshow": {
     "slide_type": "-"
    }
   },
   "outputs": [],
   "source": [
    "movies_by_year[movies_by_year.index >= 2000].plot(kind='line', y='Number of Movies');"
   ]
  },
  {
   "cell_type": "markdown",
   "metadata": {},
   "source": [
    "What do you think explains the declines around 2008 and 2020?"
   ]
  },
  {
   "cell_type": "markdown",
   "metadata": {
    "slideshow": {
     "slide_type": "slide"
    }
   },
   "source": [
    "### How did this affect total gross?"
   ]
  },
  {
   "cell_type": "code",
   "execution_count": null,
   "metadata": {},
   "outputs": [],
   "source": [
    "movies_by_year[movies_by_year.index >= 2000].plot(kind='line', y='Total Gross in Billions');"
   ]
  },
  {
   "cell_type": "markdown",
   "metadata": {
    "slideshow": {
     "slide_type": "slide"
    }
   },
   "source": [
    "### What was the top grossing movie of 2016? 🐟"
   ]
  },
  {
   "cell_type": "code",
   "execution_count": null,
   "metadata": {},
   "outputs": [],
   "source": [
    "..."
   ]
  },
  {
   "cell_type": "markdown",
   "metadata": {
    "slideshow": {
     "slide_type": "slide"
    }
   },
   "source": [
    "## Bar charts 📊"
   ]
  },
  {
   "cell_type": "markdown",
   "metadata": {
    "slideshow": {
     "slide_type": "slide"
    }
   },
   "source": [
    "### Dataset of the global top 200 songs on Spotify as of Tuesday (10/4/22)\n",
    "\n",
    "[Downloaded from here – check it out!](https://spotifycharts.com/regional)"
   ]
  },
  {
   "cell_type": "code",
   "execution_count": null,
   "metadata": {},
   "outputs": [],
   "source": [
    "charts = (bpd.read_csv('data/regional-global-daily-2022-10-04.csv')\n",
    "          .set_index('rank')\n",
    "          .get(['track_name', 'artist_names', 'streams', 'uri'])\n",
    "         )\n",
    "charts"
   ]
  },
  {
   "cell_type": "markdown",
   "metadata": {
    "slideshow": {
     "slide_type": "slide"
    }
   },
   "source": [
    "### Bar charts\n",
    "\n",
    "How many streams do the top 10 songs have?"
   ]
  },
  {
   "cell_type": "code",
   "execution_count": null,
   "metadata": {},
   "outputs": [],
   "source": [
    "charts"
   ]
  },
  {
   "cell_type": "code",
   "execution_count": null,
   "metadata": {},
   "outputs": [],
   "source": [
    "charts.take(np.arange(10))"
   ]
  },
  {
   "cell_type": "code",
   "execution_count": null,
   "metadata": {},
   "outputs": [],
   "source": [
    "charts.take(np.arange(10)).plot(kind='barh', x='track_name', y='streams');"
   ]
  },
  {
   "cell_type": "markdown",
   "metadata": {
    "slideshow": {
     "slide_type": "slide"
    }
   },
   "source": [
    "### Bar charts\n",
    "\n",
    "- Bar charts visualize the relationship between a categorical variable and a numerical variable.\n",
    "- In a bar chart...\n",
    "    - The thickness and spacing of bars is arbitrary.\n",
    "    - The order of the categorical labels doesn't matter.\n",
    "- To create one from a DataFrame `df`, use\n",
    "```\n",
    "df.plot(\n",
    "    kind='barh', \n",
    "    x=categorical_column_name, \n",
    "    y=numerical_column_name\n",
    ")\n",
    "```\n",
    "- The **\"h\"** in `'barh'` stands for **\"horizontal\"**.\n",
    "    - It's easier to read labels this way.\n",
    "- In the previous chart, we set `y='Streams'` even though streams are measured by x-axis length."
   ]
  },
  {
   "cell_type": "code",
   "execution_count": null,
   "metadata": {
    "slideshow": {
     "slide_type": "slide"
    }
   },
   "outputs": [],
   "source": [
    "# The bars appear in the opposite order relative to the DataFrame\n",
    "(charts\n",
    " .take(np.arange(10))\n",
    " .sort_values(by='streams')\n",
    " .plot(kind='barh', x='track_name', y='streams')\n",
    ");"
   ]
  },
  {
   "cell_type": "markdown",
   "metadata": {
    "slideshow": {
     "slide_type": "slide"
    }
   },
   "source": [
    "### How many songs do the top 15 artists have in the top 200?"
   ]
  },
  {
   "cell_type": "markdown",
   "metadata": {
    "slideshow": {
     "slide_type": "fragment"
    }
   },
   "source": [
    "First, let's create a DataFrame with a single column that describes the number of songs in the top 200 per artist. This involves using `.groupby` with `.count()`. Since we want one row per artist, we will group by `'artist_names'`."
   ]
  },
  {
   "cell_type": "code",
   "execution_count": null,
   "metadata": {},
   "outputs": [],
   "source": [
    "charts"
   ]
  },
  {
   "cell_type": "code",
   "execution_count": null,
   "metadata": {},
   "outputs": [],
   "source": [
    "songs_per_artist = charts.groupby('artist_names').count()\n",
    "songs_per_artist"
   ]
  },
  {
   "cell_type": "markdown",
   "metadata": {
    "slideshow": {
     "slide_type": "fragment"
    }
   },
   "source": [
    "Using `.sort_values` and `.take`, we'll keep just the top 15 artists. Note that all columns in `songs_per_artist` contain the same information (this is a consequence of using `.count()`)."
   ]
  },
  {
   "cell_type": "code",
   "execution_count": null,
   "metadata": {},
   "outputs": [],
   "source": [
    "top_15_artists = (songs_per_artist\n",
    "                  .sort_values('streams', ascending=False)\n",
    "                  .take(np.arange(15)))\n",
    "top_15_artists"
   ]
  },
  {
   "cell_type": "markdown",
   "metadata": {
    "slideshow": {
     "slide_type": "fragment"
    }
   },
   "source": [
    "Using `.assign` and `.drop`, we'll create a column named `'count'` that contains the same information that the other 3 columns contain, and then `.get` only that column (or equivalently, drop the other 3 columns)."
   ]
  },
  {
   "cell_type": "code",
   "execution_count": null,
   "metadata": {},
   "outputs": [],
   "source": [
    "# If we give .get a list, it will return a DataFrame instead of a Series!\n",
    "top_15_artists = (top_15_artists\n",
    "                  .assign(count=top_15_artists.get('streams'))\n",
    "                  .get(['count']))\n",
    "top_15_artists"
   ]
  },
  {
   "cell_type": "markdown",
   "metadata": {
    "slideshow": {
     "slide_type": "fragment"
    }
   },
   "source": [
    "Before calling `.plot(kind='barh', y='count')`, we'll sort `top_15_artists` by `'count'` in **increasing** order. This is because, weirdly, Python reverses the order of rows when creating bars in horizontal bar charts."
   ]
  },
  {
   "cell_type": "code",
   "execution_count": null,
   "metadata": {},
   "outputs": [],
   "source": [
    "top_15_artists.sort_values(by='count').plot(kind='barh', y='count');"
   ]
  },
  {
   "cell_type": "markdown",
   "metadata": {
    "slideshow": {
     "slide_type": "slide"
    }
   },
   "source": [
    "### Vertical bar charts\n",
    "\n",
    "To create a vertical bar chart, use `kind='bar'` instead of `kind='barh'`. These are typically harder to read, though."
   ]
  },
  {
   "cell_type": "code",
   "execution_count": null,
   "metadata": {},
   "outputs": [],
   "source": [
    "top_15_artists.plot(kind='bar', y='count');"
   ]
  },
  {
   "cell_type": "markdown",
   "metadata": {
    "slideshow": {
     "slide_type": "slide"
    }
   },
   "source": [
    "### Aside: How many streams did Justin Bieber's songs on the chart receive?"
   ]
  },
  {
   "cell_type": "code",
   "execution_count": null,
   "metadata": {},
   "outputs": [],
   "source": [
    "(charts\n",
    " [charts.get('artist_names') == 'Justin Bieber']\n",
    " .sort_values('streams')\n",
    " .plot(kind='barh', x='track_name', y='streams')\n",
    ");"
   ]
  },
  {
   "cell_type": "markdown",
   "metadata": {
    "slideshow": {
     "slide_type": "fragment"
    }
   },
   "source": [
    "It seems like we're missing a popular song..."
   ]
  },
  {
   "cell_type": "markdown",
   "metadata": {
    "slideshow": {
     "slide_type": "slide"
    }
   },
   "source": [
    "### How do we include featured songs, as well?\n",
    "\n",
    "Answer: Using `.str.contains`."
   ]
  },
  {
   "cell_type": "code",
   "execution_count": null,
   "metadata": {},
   "outputs": [],
   "source": [
    "bieber = charts[charts.get('artist_names').str.contains('Justin Bieber')]\n",
    "bieber"
   ]
  },
  {
   "cell_type": "code",
   "execution_count": null,
   "metadata": {},
   "outputs": [],
   "source": [
    "bieber.sort_values('streams').plot(kind='barh', x='track_name', y='streams');"
   ]
  },
  {
   "cell_type": "markdown",
   "metadata": {
    "slideshow": {
     "slide_type": "slide"
    }
   },
   "source": [
    "## Fun demo 🎵"
   ]
  },
  {
   "cell_type": "code",
   "execution_count": null,
   "metadata": {
    "slideshow": {
     "slide_type": "slide"
    }
   },
   "outputs": [],
   "source": [
    "# Run this cell, don't worry about what it does.\n",
    "def show_spotify(uri):\n",
    "    code = uri[uri.rfind(':')+1:]\n",
    "    src = f\"https://open.spotify.com/embed/track/{code}\"\n",
    "    width = 400\n",
    "    height = 75\n",
    "    display(IFrame(src, width, height))"
   ]
  },
  {
   "cell_type": "markdown",
   "metadata": {
    "slideshow": {
     "slide_type": "slide"
    }
   },
   "source": [
    "#### Let's find the URI of a song we care about."
   ]
  },
  {
   "cell_type": "code",
   "execution_count": null,
   "metadata": {},
   "outputs": [],
   "source": [
    "charts"
   ]
  },
  {
   "cell_type": "code",
   "execution_count": null,
   "metadata": {},
   "outputs": [],
   "source": [
    "favorite_song = 'Mr. Brightside'"
   ]
  },
  {
   "cell_type": "code",
   "execution_count": null,
   "metadata": {},
   "outputs": [],
   "source": [
    "song_uri = (charts\n",
    "            [charts.get('track_name') == favorite_song]\n",
    "            .get('uri')\n",
    "            .iloc[0])\n",
    "song_uri"
   ]
  },
  {
   "cell_type": "markdown",
   "metadata": {
    "slideshow": {
     "slide_type": "slide"
    }
   },
   "source": [
    "Watch what happens! 🎶"
   ]
  },
  {
   "cell_type": "code",
   "execution_count": null,
   "metadata": {},
   "outputs": [],
   "source": [
    "show_spotify(song_uri)"
   ]
  },
  {
   "cell_type": "markdown",
   "metadata": {},
   "source": [
    "Try it out yourself!"
   ]
  },
  {
   "cell_type": "markdown",
   "metadata": {
    "slideshow": {
     "slide_type": "slide"
    }
   },
   "source": [
    "## Summary"
   ]
  },
  {
   "cell_type": "markdown",
   "metadata": {
    "slideshow": {
     "slide_type": "slide"
    }
   },
   "source": [
    "### Summary\n",
    "\n",
    "- Visualizations make it easy to extract patterns from datasets.\n",
    "- There are two main types of variables: categorical and numerical.\n",
    "- The types of the variables we're visualizing inform our choice of which type of visualization to use.\n",
    "- Today, we looked at scatter plots, line plots, and bar charts.\n",
    "- **Next time:** Histograms and overlaid plots."
   ]
  },
  {
   "cell_type": "markdown",
   "metadata": {
    "slideshow": {
     "slide_type": "slide"
    }
   },
   "source": [
    "### Let's discuss!\n",
    "\n",
    "- As mentioned earlier, visualizations allow us to easily spot trends and communicate our results with others.\n",
    "- Some visualizations make it more difficult to see the trend in data, by\n",
    "    - Adding \"[chart junk](https://eagereyes.org/criticism/chart-junk-considered-useful-after-all).\"\n",
    "    - Using misleading axes and sizes.\n",
    "\n",
    "<center><img src=\"data/usefuljunk-monster.jpg\" width=30%></center>\n",
    "\n",
    "- In [**this thread on EdStem**](https://edstem.org/us/courses/29053/discussion/1903354), post some examples of particularly misleading or interesting visualizations! We'll share our favorites in class on Monday."
   ]
  }
 ],
 "metadata": {
  "kernelspec": {
   "display_name": "Python 3 (ipykernel)",
   "language": "python",
   "name": "python3"
  },
  "language_info": {
   "codemirror_mode": {
    "name": "ipython",
    "version": 3
   },
   "file_extension": ".py",
   "mimetype": "text/x-python",
   "name": "python",
   "nbconvert_exporter": "python",
   "pygments_lexer": "ipython3",
   "version": "3.9.7"
  },
  "livereveal": {
   "scroll": true,
   "transition": "none"
  },
  "rise": {
   "enable_chalkboard": true
  }
 },
 "nbformat": 4,
 "nbformat_minor": 2
}
