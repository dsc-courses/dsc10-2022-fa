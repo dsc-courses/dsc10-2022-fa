{
 "cells": [
  {
   "cell_type": "code",
   "execution_count": null,
   "id": "aae39125",
   "metadata": {
    "slideshow": {
     "slide_type": "skip"
    }
   },
   "outputs": [],
   "source": [
    "# Set up packages for lecture. Don't worry about understanding this code, but\n",
    "# make sure to run it if you're following along.\n",
    "import numpy as np\n",
    "import babypandas as bpd\n",
    "import pandas as pd\n",
    "from matplotlib_inline.backend_inline import set_matplotlib_formats\n",
    "import matplotlib.pyplot as plt\n",
    "from scipy import stats\n",
    "import otter\n",
    "set_matplotlib_formats(\"svg\")\n",
    "plt.style.use('ggplot')\n",
    "\n",
    "np.set_printoptions(threshold=20, precision=2, suppress=True)\n",
    "pd.set_option(\"display.max_rows\", 7)\n",
    "pd.set_option(\"display.max_columns\", 8)\n",
    "pd.set_option(\"display.precision\", 2)\n",
    "\n",
    "# Setup to start where we left off last time\n",
    "keep_cols = ['business_name', 'inspection_date', 'inspection_score', 'risk_category', 'Neighborhoods', 'Zip Codes']\n",
    "restaurants_full = bpd.read_csv('data/restaurants.csv').get(keep_cols)\n",
    "bakeries = restaurants_full[restaurants_full.get('business_name').str.lower().str.contains('bake')]\n",
    "bakeries = bakeries[bakeries.get('inspection_score') >= 0] # Keeping only the rows where we know the inspection score"
   ]
  },
  {
   "cell_type": "markdown",
   "id": "74d43ae1",
   "metadata": {
    "slideshow": {
     "slide_type": "slide"
    }
   },
   "source": [
    "# Lecture 28 – Review, Conclusion\n",
    "\n",
    "## DSC 10, Fall 2022"
   ]
  },
  {
   "cell_type": "markdown",
   "id": "2184c187",
   "metadata": {
    "slideshow": {
     "slide_type": "slide"
    }
   },
   "source": [
    "### Announcements\n",
    "\n",
    "- The Final Exam is **tomorrow from 11:30am to 2:30pm in Center Hall**.\n",
    "    - See [this post](https://edstem.org/us/courses/29053/discussion/2241665) on EdStem for details.\n",
    "- Come to WLH 2205 from 5-9pm tonight for the last study session/group office hours. See the [calendar](https://dsc10.com/calendar) for today's other office hours.\n",
    "- If at least 80% of the class fills out both [CAPEs](https://cape.ucsd.edu) and the [End of Quarter Survey](https://docs.google.com/forms/d/e/1FAIpQLSeiZodx0wMHVxC-PfSGXu0mrI2R8XgS1RUzI-VZhZc9TbT3lA/viewform), then we will add 0.5% of extra credit to everyone's overall grade.\n",
    "    - **The deadline is tomorrow at 8am!**\n",
    "    - As of earlier today, we're at 67% on CAPEs and 51% on the End of Quarter Survey."
   ]
  },
  {
   "cell_type": "markdown",
   "id": "f36463e3",
   "metadata": {
    "slideshow": {
     "slide_type": "slide"
    }
   },
   "source": [
    "### Agenda\n",
    "\n",
    "- More review.\n",
    "- Working on personal projects.\n",
    "- Demo: Gapminder 🌎.\n",
    "- Some parting thoughts."
   ]
  },
  {
   "cell_type": "markdown",
   "id": "05c7326c",
   "metadata": {
    "slideshow": {
     "slide_type": "slide"
    }
   },
   "source": [
    "## Bakeries 🧁"
   ]
  },
  {
   "cell_type": "markdown",
   "id": "a2144e56",
   "metadata": {
    "slideshow": {
     "slide_type": "slide"
    }
   },
   "source": [
    "Let's pick up where we left off last lecture."
   ]
  },
  {
   "cell_type": "code",
   "execution_count": null,
   "id": "ead4dc8e",
   "metadata": {},
   "outputs": [],
   "source": [
    "bakeries"
   ]
  },
  {
   "cell_type": "code",
   "execution_count": null,
   "id": "2197e984",
   "metadata": {},
   "outputs": [],
   "source": [
    "np.random.seed(23) # Ignore this\n",
    "\n",
    "sample_of_bakeries = ...\n",
    "sample_of_bakeries"
   ]
  },
  {
   "cell_type": "markdown",
   "id": "9d742fca",
   "metadata": {
    "slideshow": {
     "slide_type": "slide"
    }
   },
   "source": [
    "### Concept Check ✅ – Answer at [cc.dsc10.com](http://cc.dsc10.com) \n",
    "\n",
    "Using a single sample of 200 bakeries, how can we estimate the **median** inspection score of all bakeries in San Francisco with an inspection score? What technique should we use?\n",
    "\n",
    "A. Standard hypothesis testing\n",
    "\n",
    "B. Permutation testing  \n",
    "\n",
    "C. Bootstrapping\n",
    "\n",
    "D. The Central Limit Theorem"
   ]
  },
  {
   "cell_type": "markdown",
   "id": "648d6da7",
   "metadata": {},
   "source": [
    "<details>\n",
    "<summary>Click for the answer <b>after</b> you've entered your guess above. <b>Don't scroll any further.</b></summary>\n",
    "    \n",
    "Bootstrapping. The CLT only applies to sample means (and sums), not to any other statistics.\n",
    "\n",
    "</details>"
   ]
  },
  {
   "cell_type": "markdown",
   "id": "287d4657",
   "metadata": {
    "slideshow": {
     "slide_type": "slide"
    }
   },
   "source": [
    "There is no CLT for sample medians, so instead we'll have to resort to bootstrapping to estimate the distribution of the sample median.\n",
    "\n",
    "Recall, bootstrapping is the act of **sampling from the original sample, with replacement**. This is also called **resampling**."
   ]
  },
  {
   "cell_type": "code",
   "execution_count": null,
   "id": "9bcfcd91",
   "metadata": {},
   "outputs": [],
   "source": [
    "# The median of our original sample – this is just one number\n",
    "..."
   ]
  },
  {
   "cell_type": "code",
   "execution_count": null,
   "id": "34e82411",
   "metadata": {},
   "outputs": [],
   "source": [
    "# The median of a single bootstrap resample – this is just one number\n",
    "..."
   ]
  },
  {
   "cell_type": "markdown",
   "id": "2dd65c07",
   "metadata": {
    "slideshow": {
     "slide_type": "slide"
    }
   },
   "source": [
    "Let's resample repeatedly."
   ]
  },
  {
   "cell_type": "code",
   "execution_count": null,
   "id": "4a869911",
   "metadata": {},
   "outputs": [],
   "source": [
    "np.random.seed(23) # Ignore this\n",
    "\n",
    "boot_medians = np.array([])\n",
    "\n",
    "..."
   ]
  },
  {
   "cell_type": "code",
   "execution_count": null,
   "id": "1c2bea2f",
   "metadata": {},
   "outputs": [],
   "source": [
    "boot_medians"
   ]
  },
  {
   "cell_type": "code",
   "execution_count": null,
   "id": "6116d370",
   "metadata": {
    "slideshow": {
     "slide_type": "slide"
    }
   },
   "outputs": [],
   "source": [
    "bpd.DataFrame().assign(boot_medians=boot_medians).plot(kind='hist', density=True, ec='w', bins=10, figsize=(10, 5));"
   ]
  },
  {
   "cell_type": "markdown",
   "id": "c813ee4f",
   "metadata": {},
   "source": [
    "Note that this distribution is not at all normal.\n",
    "\n",
    "To compute a 95% confidence interval, we take the middle 95% of the bootstrapped medians."
   ]
  },
  {
   "cell_type": "code",
   "execution_count": null,
   "id": "7dea15e9",
   "metadata": {},
   "outputs": [],
   "source": [
    "..."
   ]
  },
  {
   "cell_type": "markdown",
   "id": "3b1f42e8",
   "metadata": {
    "slideshow": {
     "slide_type": "slide"
    }
   },
   "source": [
    "### Discussion Question\n",
    "\n",
    "Which of the following interpretations of this confidence interval are valid?\n",
    "\n",
    "1. 95% of SF bakeries have an inspection score between 85 and 88.  \n",
    "2. 95% of the resamples have a median inspection score between 85 and 88.  \n",
    "3. There is a 95% chance that our sample has a median inspection score between 85 and 88.  \n",
    "4. There is a 95% chance that the median inspection score of all SF bakeries is between 85 and 88.  \n",
    "5. If we had taken 100 samples from the same population, about 95 of these samples would have a median inspection score between 85 and 88.  \n",
    "6.  If we had taken 100 samples from the same population, about 95 of the confidence intervals created would contain the median inspection score of all SF bakeries.  "
   ]
  },
  {
   "cell_type": "markdown",
   "id": "bb9aa1b0",
   "metadata": {},
   "source": [
    "<details>\n",
    "<summary>Click for the answer <b>after</b> you've entered your guess above. <b>Don't scroll any further.</b></summary>\n",
    "    \n",
    "The correct answers are Option 2 and Option 6.\n",
    "\n",
    "</details>"
   ]
  },
  {
   "cell_type": "markdown",
   "id": "66c473a0",
   "metadata": {
    "slideshow": {
     "slide_type": "slide"
    }
   },
   "source": [
    "## Physicians 🩺"
   ]
  },
  {
   "cell_type": "markdown",
   "id": "8bf09302",
   "metadata": {
    "slideshow": {
     "slide_type": "slide"
    }
   },
   "source": [
    "### The setup\n",
    "\n",
    "You work as a family physician. You collect data and you find that in 6354 patients, 3115 were children and 3239 were adults.\n",
    "\n",
    "You want to test the following hypotheses:\n",
    "\n",
    "- **Null Hypothesis**: Family physicians see an equal number of children and adults.\n",
    "- **Alternative Hypothesis**: Family physicians see more adults than they see children."
   ]
  },
  {
   "cell_type": "markdown",
   "id": "128837c0",
   "metadata": {
    "slideshow": {
     "slide_type": "slide"
    }
   },
   "source": [
    "### Concept Check ✅ – Answer at [cc.dsc10.com](http://cc.dsc10.com) \n",
    "\n",
    "Which test statistic(s) could be used for this hypothesis test? Which values of the test statistic point towards the alternative?\n",
    "\n",
    "A. Proportion of children seen   \n",
    "B. Number of children seen  \n",
    "C. Number of children minus number of adults seen  \n",
    "D. Absolute value of number of children minus number of adults seen\n",
    "\n",
    "**There may be multiple correct answers; choose one.**"
   ]
  },
  {
   "cell_type": "markdown",
   "id": "76f6c56c",
   "metadata": {},
   "source": [
    "<details>\n",
    "<summary>Click for the answer <b>after</b> you've entered your guess above. <b>Don't scroll any further.</b></summary>\n",
    "    \n",
    "All of these but the last one would work for this alternative. Small values of these statistics would favor the alternative.\n",
    "    \n",
    "If the alternative was instead \"Family physicians see a different number of children and adults\", the last option would work while the first three wouldn't.\n",
    "\n",
    "</details>"
   ]
  },
  {
   "cell_type": "markdown",
   "id": "1c25d80b",
   "metadata": {
    "slideshow": {
     "slide_type": "slide"
    }
   },
   "source": [
    "Let's use option B, the number of children seen, as a test statistic. Small values of this statistic favor the alternative hypothesis.\n",
    "\n",
    "How do we generate a single value of the test statistic?"
   ]
  },
  {
   "cell_type": "code",
   "execution_count": null,
   "id": "4a8e9f73",
   "metadata": {},
   "outputs": [],
   "source": [
    "..."
   ]
  },
  {
   "cell_type": "markdown",
   "id": "1a4709c8",
   "metadata": {},
   "source": [
    "As usual, let's simulate the test statistic many, many times."
   ]
  },
  {
   "cell_type": "code",
   "execution_count": null,
   "id": "5c09f9c1",
   "metadata": {},
   "outputs": [],
   "source": [
    "test_stats = np.array([])\n",
    "\n",
    "..."
   ]
  },
  {
   "cell_type": "code",
   "execution_count": null,
   "id": "ccaadcd4",
   "metadata": {},
   "outputs": [],
   "source": [
    "test_stats"
   ]
  },
  {
   "cell_type": "code",
   "execution_count": null,
   "id": "c745ad4a",
   "metadata": {
    "slideshow": {
     "slide_type": "slide"
    }
   },
   "outputs": [],
   "source": [
    "bpd.DataFrame().assign(test_stats=test_stats) \\\n",
    "               .plot(kind='hist', density=True, ec='w', figsize=(10, 5), bins=20);\n",
    "plt.axvline(3115, lw=3, color='black', label='observed statistic')\n",
    "plt.legend();"
   ]
  },
  {
   "cell_type": "markdown",
   "id": "00f72ac3",
   "metadata": {},
   "source": [
    "Recall that you collected data and found that in 6354 patients, 3115 were children and 3239 were adults."
   ]
  },
  {
   "cell_type": "markdown",
   "id": "83274a4e",
   "metadata": {
    "slideshow": {
     "slide_type": "slide"
    }
   },
   "source": [
    "### Concept Check ✅ – Answer at [cc.dsc10.com](http://cc.dsc10.com) \n",
    "\n",
    "What goes in blank (a)?\n",
    "\n",
    "```py\n",
    "p_value = np.count_nonzero(test_stats __(a)__ 3115) / 10000\n",
    "```\n",
    "\n",
    "A. `>=`\n",
    "\n",
    "B. `>`\n",
    "\n",
    "C. `<=`\n",
    "\n",
    "D. `<`"
   ]
  },
  {
   "cell_type": "markdown",
   "id": "0526dc7e",
   "metadata": {},
   "source": [
    "<details>\n",
    "<summary>Click for the answer <b>after</b> you've entered your guess above. <b>Don't scroll any further.</b></summary>\n",
    "    <code><=</code>\n",
    "\n",
    "</details>"
   ]
  },
  {
   "cell_type": "code",
   "execution_count": null,
   "id": "2bc4f241",
   "metadata": {
    "slideshow": {
     "slide_type": "slide"
    }
   },
   "outputs": [],
   "source": [
    "# Calculate the p-value"
   ]
  },
  {
   "cell_type": "markdown",
   "id": "505be2a4",
   "metadata": {
    "slideshow": {
     "slide_type": "slide"
    }
   },
   "source": [
    "### Concept Check ✅ – Answer at [cc.dsc10.com](http://cc.dsc10.com) \n",
    "\n",
    "What do we do, assuming that we're using a 5% p-value cutoff?\n",
    "\n",
    "A. Reject the null  \n",
    "\n",
    "B. Fail to reject the null \n",
    "\n",
    "C. It depends"
   ]
  },
  {
   "cell_type": "markdown",
   "id": "80dcf392",
   "metadata": {},
   "source": [
    "<details>\n",
    "<summary>Click for the answer <b>after</b> you've entered your guess above. <b>Don't scroll any further.</b></summary>\n",
    "    Fail to reject the null, since the p-value is above 0.05.\n",
    "\n",
    "</details>"
   ]
  },
  {
   "cell_type": "markdown",
   "id": "b7f1952a",
   "metadata": {
    "slideshow": {
     "slide_type": "slide"
    }
   },
   "source": [
    "Note that while we used `np.random.multinomial` to simulate the test statistic, we could have used `np.random.choice`, too:"
   ]
  },
  {
   "cell_type": "code",
   "execution_count": null,
   "id": "fefb6a20",
   "metadata": {},
   "outputs": [],
   "source": [
    "choices = ...\n",
    "choices"
   ]
  },
  {
   "cell_type": "code",
   "execution_count": null,
   "id": "f6a321ee",
   "metadata": {},
   "outputs": [],
   "source": [
    "..."
   ]
  },
  {
   "cell_type": "markdown",
   "id": "5034e47e",
   "metadata": {},
   "source": [
    "### Concept Check ✅ – Answer at [cc.dsc10.com](http://cc.dsc10.com) \n",
    "\n",
    "Is this an example of bootstrapping?\n",
    "\n",
    "A. Yes, because we are sampling with replacement.\n",
    "\n",
    "B. No, this is not bootstrapping."
   ]
  },
  {
   "cell_type": "markdown",
   "id": "14ccd76e",
   "metadata": {},
   "source": [
    "<details>\n",
    "<summary>Click for the answer <b>after</b> you've entered your guess above. <b>Don't scroll any further.</b></summary>\n",
    "    No, this is not bootstrapping. Bootstrapping is when we resample from a single sample; here we're simulating data under the assumptions of a model.\n",
    "\n",
    "</details>"
   ]
  },
  {
   "cell_type": "markdown",
   "id": "4efc07b9",
   "metadata": {
    "slideshow": {
     "slide_type": "slide"
    }
   },
   "source": [
    "## Personal projects"
   ]
  },
  {
   "cell_type": "markdown",
   "id": "90c0603e",
   "metadata": {
    "slideshow": {
     "slide_type": "slide"
    }
   },
   "source": [
    "### Using Jupyter Notebooks after DSC 10\n",
    "\n",
    "- You may be interested in working on data science projects of your own.\n",
    "- In [this video](https://www.youtube.com/watch?v=Hq8VaNirDRQ), we show you how to make blank notebooks and upload datasets of your own to DataHub.\n",
    "- Depending on the classes you're in, you may not have access to DataHub. Eventually, you'll want to install Jupyter Notebooks on your computer.\n",
    "    - [Anaconda](https://docs.anaconda.com/anaconda/install/index.html) is a great way to do that, as it also installs many commonly used packages.\n",
    "    - You may want to download your work from DataHub so you can refer to it after the course ends.\n",
    "    - Remember, all `babypandas` code is regular `pandas` code, too!"
   ]
  },
  {
   "cell_type": "markdown",
   "id": "7f954941",
   "metadata": {
    "slideshow": {
     "slide_type": "slide"
    }
   },
   "source": [
    "### Finding data\n",
    "\n",
    "These sites allow you to search for datasets (in CSV format) from a variety of different domains. Some may require you to sign up for an account; these are generally reputable sources.\n",
    "\n",
    "Note that all of these links are also available at [rampure.org/find-datasets](https://rampure.org/find-datasets).\n",
    "\n",
    "- [Data is Plural](https://www.data-is-plural.com/archive/)\n",
    "- [FiveThirtyEight](https://data.fivethirtyeight.com/).\n",
    "- [CORGIS](https://corgis-edu.github.io/corgis/csv/).\n",
    "- [Kaggle Datasets](https://www.kaggle.com/datasets).\n",
    "- [Google’s dataset search](http://toolbox.google.com/datasetsearch).\n",
    "- [DataHub.io](https://datahub.io/collections).\n",
    "- [Data.world.](https://data.world/)\n",
    "- [R datasets](https://vincentarelbundock.github.io/Rdatasets/articles/data.html).\n",
    "- Wikipedia. (Use [this site](https://wikitable2csv.ggor.de/) to extract and download tables as CSVs.)\n",
    "- [Awesome Public Datasets GitHub repo](https://github.com/awesomedata/awesome-public-datasets).\n",
    "- [Links to even more sources](https://rockcontent.com/blog/data-sources/)."
   ]
  },
  {
   "cell_type": "markdown",
   "id": "f897bc62",
   "metadata": {
    "slideshow": {
     "slide_type": "slide"
    }
   },
   "source": [
    "### Domain-specific sources of data\n",
    "\n",
    "- Sports: [Basketball Reference](https://www.basketball-reference.com/), [Baseball Reference](https://www.baseball-reference.com/), etc.\n",
    "- US Government Sources: [census.gov](https://www.census.gov/data/tables.html), [data.gov](https://www.data.gov/), [data.ca.gov](https://data.ca.gov/), [data.sfgov.org](https://data.sfgov.org/browse?), [FBI’s Crime Data Explorer](https://crime-data-explorer.fr.cloud.gov/), [Centers for Disease Control and Prevention](https://data.cdc.gov/browse?category=NCHS).\n",
    "- Global Development: [data.worldbank.org](https://data.worldbank.org/), [databank.worldbank.org](https://databank.worldbank.org/home.aspx), [WHO](https://apps.who.int/gho/data/node.home).\n",
    "- Transportation: [New York Taxi trips](https://www1.nyc.gov/site/tlc/about/tlc-trip-record-data.page), [Bureau of Transportation Statistics](https://www.transtats.bts.gov/DataIndex.asp), [SFO Air Traffic Statistics](https://www.flysfo.com/media/facts-statistics/air-traffic-statistics).\n",
    "- Music: [Spotify Charts](https://spotifycharts.com/regional).\n",
    "- COVID: [Johns Hopkins](https://github.com/CSSEGISandData/COVID-19).\n",
    "- Any Google Forms survey you’ve administered! (Go to the results spreadsheet, then go to “File > Download > Comma-separated values”.)\n",
    "\n",
    "Tip: if a site only allows you to download a file as an Excel file, not a CSV file, you can download it, open it in a spreadsheet viewer (Excel, Numbers, Google Sheets), and export it to a CSV."
   ]
  },
  {
   "cell_type": "markdown",
   "id": "d7324457",
   "metadata": {
    "slideshow": {
     "slide_type": "slide"
    }
   },
   "source": [
    "### Join a DS3 Project Group 🤝\n",
    "\n",
    "The Data Science Student Society’s Projects Committee has opened its applications for the Winter 2023 cohort! \n",
    " - Students have the opportunity to join a team to pursue a unique data science project that will last two quarters. \n",
    " - At the end of the project, teams will have developed a polished, complete personal project which they will showcase to their peers, faculty, and companies in the data science industry. \n",
    " - If you don't have a lot of experience and are looking for that first data science project to get you started or if you're looking to build on your existing portfolio with a new experience, the Projects committee is a great platform.  \n",
    "\n",
    "[Apply here](https://tinyurl.com/bdhhddrk) by **Sunday at 11:59pm** (ignore the deadline on the form). Contact ds3projects@gmail.com with questions."
   ]
  },
  {
   "cell_type": "markdown",
   "id": "a12d38c4",
   "metadata": {
    "slideshow": {
     "slide_type": "slide"
    }
   },
   "source": [
    "## Demo: Gapminder 🌎"
   ]
  },
  {
   "cell_type": "markdown",
   "id": "216c6df5",
   "metadata": {
    "slideshow": {
     "slide_type": "slide"
    }
   },
   "source": [
    "### `plotly`\n",
    "\n",
    "- All of the visualizations (scatter plots, histograms, etc.) in this course were created using a library called `matplotlib`.\n",
    "    - This library was called under-the-hood everytime we wrote `df.plot`.\n",
    "- `plotly` is a different visualization library that allows us to create **interactive** visualizations.\n",
    "- You may learn about it in a future course, but we'll briefly show you some cool visualizations you can make with it."
   ]
  },
  {
   "cell_type": "code",
   "execution_count": null,
   "id": "36468da6",
   "metadata": {},
   "outputs": [],
   "source": [
    "import plotly.express as px"
   ]
  },
  {
   "cell_type": "markdown",
   "id": "49c91f0f",
   "metadata": {
    "slideshow": {
     "slide_type": "slide"
    }
   },
   "source": [
    "### Gapminder dataset\n",
    "\n",
    "> Gapminder Foundation is a non-profit venture registered in Stockholm, Sweden, that promotes sustainable global development and achievement of the United Nations Millennium Development Goals by increased use and understanding of statistics and other information about social, economic and environmental development at local, national and global levels. - [Gapminder Wikipedia](https://en.wikipedia.org/wiki/Gapminder_Foundation)"
   ]
  },
  {
   "cell_type": "code",
   "execution_count": null,
   "id": "6c744838",
   "metadata": {
    "slideshow": {
     "slide_type": "slide"
    }
   },
   "outputs": [],
   "source": [
    "gapminder = px.data.gapminder()\n",
    "gapminder"
   ]
  },
  {
   "cell_type": "markdown",
   "id": "2d6d3805",
   "metadata": {},
   "source": [
    "The dataset contains information for each country for several different years."
   ]
  },
  {
   "cell_type": "code",
   "execution_count": null,
   "id": "029236d9",
   "metadata": {},
   "outputs": [],
   "source": [
    "gapminder.get('year').unique()"
   ]
  },
  {
   "cell_type": "markdown",
   "id": "d9454f3e",
   "metadata": {
    "slideshow": {
     "slide_type": "slide"
    }
   },
   "source": [
    "Let's start by just looking at 2007 data (the most recent year in the dataset)."
   ]
  },
  {
   "cell_type": "code",
   "execution_count": null,
   "id": "f85373c1",
   "metadata": {},
   "outputs": [],
   "source": [
    "gapminder_2007 = gapminder[gapminder.get('year') == 2007]\n",
    "gapminder_2007"
   ]
  },
  {
   "cell_type": "markdown",
   "id": "12a61cc1",
   "metadata": {
    "slideshow": {
     "slide_type": "slide"
    }
   },
   "source": [
    "### Scatter plot\n",
    "\n",
    "We can plot life expectancy vs. GDP per capita. If you hover over a point, you will see the name of the country."
   ]
  },
  {
   "cell_type": "code",
   "execution_count": null,
   "id": "ac34f20a",
   "metadata": {},
   "outputs": [],
   "source": [
    "px.scatter(gapminder_2007, x='gdpPercap', y='lifeExp', hover_name='country')"
   ]
  },
  {
   "cell_type": "markdown",
   "id": "b46f018f",
   "metadata": {
    "slideshow": {
     "slide_type": "slide"
    }
   },
   "source": [
    "In future courses, you'll learn about transformations. Here, we'll apply a log transformation to the x-axis to make the plot look a little more linear."
   ]
  },
  {
   "cell_type": "code",
   "execution_count": null,
   "id": "860cfbfd",
   "metadata": {},
   "outputs": [],
   "source": [
    "px.scatter(gapminder_2007, x='gdpPercap', y='lifeExp', log_x=True, hover_name='country')"
   ]
  },
  {
   "cell_type": "markdown",
   "id": "99764d3b",
   "metadata": {
    "slideshow": {
     "slide_type": "slide"
    }
   },
   "source": [
    "### Animated scatter plot\n",
    "\n",
    "We can take things one step further."
   ]
  },
  {
   "cell_type": "code",
   "execution_count": null,
   "id": "048b0970",
   "metadata": {},
   "outputs": [],
   "source": [
    "px.scatter(gapminder,\n",
    "           x = 'gdpPercap',\n",
    "           y = 'lifeExp', \n",
    "           hover_name = 'country',\n",
    "           color = 'continent',\n",
    "           size = 'pop',\n",
    "           size_max = 60,\n",
    "           log_x = True,\n",
    "           range_y = [30, 90],\n",
    "           animation_frame = 'year',\n",
    "           title = 'Life Expectancy, GDP Per Capita, and Population over Time'\n",
    "          )"
   ]
  },
  {
   "cell_type": "markdown",
   "id": "b5c2ddf6",
   "metadata": {},
   "source": [
    "Watch [this video](https://www.youtube.com/watch?v=jbkSRLYSojo) if you want to see an even-more-animated version of this plot."
   ]
  },
  {
   "cell_type": "markdown",
   "id": "e6e4ca49",
   "metadata": {
    "slideshow": {
     "slide_type": "slide"
    }
   },
   "source": [
    "### Animated histogram"
   ]
  },
  {
   "cell_type": "code",
   "execution_count": null,
   "id": "1c8a137b",
   "metadata": {},
   "outputs": [],
   "source": [
    "px.histogram(gapminder,\n",
    "            x = 'lifeExp',\n",
    "            animation_frame = 'year',\n",
    "            range_x = [20, 90],\n",
    "            range_y = [0, 50],\n",
    "            title = 'Distribution of Life Expectancy over Time')"
   ]
  },
  {
   "cell_type": "markdown",
   "id": "ee51248a",
   "metadata": {
    "slideshow": {
     "slide_type": "slide"
    }
   },
   "source": [
    "### Choropleth"
   ]
  },
  {
   "cell_type": "code",
   "execution_count": null,
   "id": "a2769b27",
   "metadata": {},
   "outputs": [],
   "source": [
    "px.choropleth(gapminder,\n",
    "              locations = 'iso_alpha',\n",
    "              color = 'lifeExp',\n",
    "              hover_name = 'country',\n",
    "              hover_data = {'iso_alpha': False},\n",
    "              title = 'Life Expectancy Per Country',\n",
    "              color_continuous_scale = px.colors.sequential.tempo\n",
    ")"
   ]
  },
  {
   "cell_type": "markdown",
   "id": "559ea422",
   "metadata": {
    "slideshow": {
     "slide_type": "slide"
    }
   },
   "source": [
    "## Parting thoughts"
   ]
  },
  {
   "cell_type": "markdown",
   "id": "dd994b10",
   "metadata": {
    "slideshow": {
     "slide_type": "slide"
    }
   },
   "source": [
    "### From Lecture 1: What is \"data science\"?\n",
    "\n",
    "Data science is about **drawing useful conclusions from data using computation**. Throughout the quarter, we touched on several aspects of data science:"
   ]
  },
  {
   "cell_type": "markdown",
   "id": "711df5d8",
   "metadata": {
    "slideshow": {
     "slide_type": "fragment"
    }
   },
   "source": [
    "- In the first 4 weeks, we used Python to **explore** data.\n",
    "    - Lots of visualization 📈📊 and \"data manipulation\", using industry-standard tools."
   ]
  },
  {
   "cell_type": "markdown",
   "id": "2012760e",
   "metadata": {
    "slideshow": {
     "slide_type": "fragment"
    }
   },
   "source": [
    "- In the next 4 weeks, we used data to **infer** about a population, given just a sample.\n",
    "    - Rely heavily on simulation, rather than formulas."
   ]
  },
  {
   "cell_type": "markdown",
   "id": "86d143ce",
   "metadata": {
    "slideshow": {
     "slide_type": "fragment"
    }
   },
   "source": [
    "- In the last 2 weeks, we used data from the past to **predict** what may happen in the future.\n",
    "    - A taste of machine learning 🤖."
   ]
  },
  {
   "cell_type": "markdown",
   "id": "bdbc796c",
   "metadata": {
    "slideshow": {
     "slide_type": "fragment"
    }
   },
   "source": [
    "- In future courses – including DSC 20 and 40A, which you may be taking next quarter – you'll revisit all three of these aspects of data science."
   ]
  },
  {
   "cell_type": "markdown",
   "id": "f1a62ad4",
   "metadata": {
    "slideshow": {
     "slide_type": "slide"
    }
   },
   "source": [
    "### Note on grades\n",
    "\n",
    "<center><img src='data/transcript.png' width=60%><i>Suraj's freshman year transcript.</i></center>\n",
    "\n",
    "Don't let your grades define you, they don't tell the full story."
   ]
  },
  {
   "cell_type": "markdown",
   "id": "4643940a",
   "metadata": {
    "slideshow": {
     "slide_type": "slide"
    }
   },
   "source": [
    "### Procrastination\n",
    "\n",
    "Adjusting to life in college can be challenging, particularly because it can be hard to manage your time wisely.\n",
    "\n",
    "<center><img src='data/Workshop Flyer.png' width=25%></center>\n",
    "\n",
    "If you're interested, register to attend this workshop on overcoming procrastination taught by another data science professor next quarter – participants each receive a $50 Amazon gift card!"
   ]
  },
  {
   "cell_type": "markdown",
   "id": "e11cb900",
   "metadata": {
    "slideshow": {
     "slide_type": "slide"
    }
   },
   "source": [
    "### Thank you!\n",
    "\n",
    "This course would not have been possible without...\n",
    "- **Our graduate TA**: Dasha Veraksa.\n",
    "- **Our 20 undergraduate tutors**: Gabriel Cha, Eric Chen, John Driscoll, Daphne Fabella, Charisse Hao, Dylan Lee, Daniel Li, Anthony Li, Anna Liu, Anastasiya Markova, Yash Potdar, Harshita Saha, Selim Shaalan, Yutian (Skylar) Shi, Tony Ta, Vineet Tallavajhala, Andrew Tan, Jiaxin Ye, Tiffany Yu, and Diego Zavalza.\n",
    "\n",
    "\n",
    "- Learn [more about tutoring](https://datascience.ucsd.edu/academics/undergraduate/dsc-tutors/) – it's fun, and you can be a tutor as early as your 3rd quarter at UCSD!\n",
    "- Keep in touch! [dsc10.com/staff](https://dsc10.com/staff)\n",
    "    - After grades are released, we'll make a post on EdStem where you can ask course staff for advice on courses and UCSD more generally."
   ]
  },
  {
   "cell_type": "markdown",
   "id": "1ff60a86",
   "metadata": {
    "slideshow": {
     "slide_type": "slide"
    }
   },
   "source": [
    "## Good luck on your finals! 🎉\n",
    "\n",
    "### and see you tomorrow at 11:30am. ⏰"
   ]
  }
 ],
 "metadata": {
  "kernelspec": {
   "display_name": "Python 3 (ipykernel)",
   "language": "python",
   "name": "python3"
  },
  "language_info": {
   "codemirror_mode": {
    "name": "ipython",
    "version": 3
   },
   "file_extension": ".py",
   "mimetype": "text/x-python",
   "name": "python",
   "nbconvert_exporter": "python",
   "pygments_lexer": "ipython3",
   "version": "3.9.7"
  },
  "livereveal": {
   "scroll": true,
   "transition": "none"
  },
  "rise": {
   "enable_chalkboard": true
  }
 },
 "nbformat": 4,
 "nbformat_minor": 5
}
