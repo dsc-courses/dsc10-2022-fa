{
 "cells": [
  {
   "cell_type": "code",
   "execution_count": null,
   "metadata": {
    "slideshow": {
     "slide_type": "skip"
    }
   },
   "outputs": [],
   "source": [
    "# Set up packages for lecture. Don't worry about understanding this code, but\n",
    "# make sure to run it if you're following along.\n",
    "import numpy as np\n",
    "import babypandas as bpd\n",
    "import pandas as pd\n",
    "from matplotlib_inline.backend_inline import set_matplotlib_formats\n",
    "import matplotlib.pyplot as plt\n",
    "from scipy import stats\n",
    "import otter\n",
    "set_matplotlib_formats(\"svg\")\n",
    "plt.style.use('ggplot')\n",
    "\n",
    "import warnings\n",
    "warnings.simplefilter('ignore')\n",
    "\n",
    "np.set_printoptions(threshold=20, precision=2, suppress=True)\n",
    "pd.set_option(\"display.max_rows\", 7)\n",
    "pd.set_option(\"display.max_columns\", 8)\n",
    "pd.set_option(\"display.precision\", 2)\n",
    "\n",
    "# Animation\n",
    "from IPython.display import IFrame, display\n",
    "\n",
    "def show_clt_slides():\n",
    "    src = \"https://docs.google.com/presentation/d/e/2PACX-1vTcJd3U1H1KoXqBFcWGKFUPjZbeW4oiNZZLCFY8jqvSDsl4L1rRTg7980nPs1TGCAecYKUZxH5MZIBh/embed?start=false&loop=false&delayms=3000\"\n",
    "    width = 960\n",
    "    height = 509\n",
    "    display(IFrame(src, width, height))"
   ]
  },
  {
   "cell_type": "markdown",
   "metadata": {
    "slideshow": {
     "slide_type": "slide"
    }
   },
   "source": [
    "# Lecture 27 – Review\n",
    "## DSC 10, Fall 2022"
   ]
  },
  {
   "cell_type": "markdown",
   "metadata": {
    "slideshow": {
     "slide_type": "slide"
    }
   },
   "source": [
    "### Announcements\n",
    "\n",
    "- The Final Exam is **this Saturday 12/3 from 11:30am to 2:30pm**.\n",
    "    - More details coming tonight, but start studying!\n",
    "- There are several study sessions/group office hours this week, which should be helpful as you complete the final project and study for the final exam. Check the [calendar](https://dsc10.com/calendar) for all office hours.\n",
    "    - Wednesday 11/30 from 3-7pm in SDSC Auditorium (with no heat 🥶; dress warmly 🧣).\n",
    "    - Friday 12/2 from 5-9pm in WLH 2205.\n",
    "- If at least 80% of the class fills out both [CAPEs](https://cape.ucsd.edu) and the [End of Quarter Survey](https://docs.google.com/forms/d/e/1FAIpQLSeiZodx0wMHVxC-PfSGXu0mrI2R8XgS1RUzI-VZhZc9TbT3lA/viewform), then we will add 0.5% of extra credit to everyone's overall grade.\n",
    "    - We read every single piece of feedback!"
   ]
  },
  {
   "cell_type": "markdown",
   "metadata": {
    "slideshow": {
     "slide_type": "slide"
    }
   },
   "source": [
    "### Agenda\n",
    "\n",
    "- No new material – just review!\n",
    "- If you're attending lecture, fill in the code in the notebook as we go. We'll post the solutions later today."
   ]
  },
  {
   "cell_type": "markdown",
   "metadata": {
    "slideshow": {
     "slide_type": "slide"
    }
   },
   "source": [
    "## The data: Restaurants 🍟"
   ]
  },
  {
   "cell_type": "markdown",
   "metadata": {
    "slideshow": {
     "slide_type": "slide"
    }
   },
   "source": [
    "Our data comes from [data.sfgov.org](https://data.sfgov.org/Health-and-Social-Services/Restaurant-Scores-LIVES-Standard/pyih-qa8i/data)."
   ]
  },
  {
   "cell_type": "code",
   "execution_count": null,
   "metadata": {
    "scrolled": false,
    "slideshow": {
     "slide_type": "-"
    }
   },
   "outputs": [],
   "source": [
    "restaurants = bpd.read_csv('data/restaurants_no_null.csv')\n",
    "restaurants"
   ]
  },
  {
   "cell_type": "markdown",
   "metadata": {
    "slideshow": {
     "slide_type": "slide"
    }
   },
   "source": [
    "It seems like the city for every row is `'San Francisco'`. We can confirm this using `np.unique`:"
   ]
  },
  {
   "cell_type": "code",
   "execution_count": null,
   "metadata": {},
   "outputs": [],
   "source": [
    "..."
   ]
  },
  {
   "cell_type": "markdown",
   "metadata": {
    "slideshow": {
     "slide_type": "-"
    }
   },
   "source": [
    "As a result, the `'business_city'` column isn't telling us much. We won't look at many of the columns in our DataFrame, so let's just `get` the ones we're interested in."
   ]
  },
  {
   "cell_type": "code",
   "execution_count": null,
   "metadata": {},
   "outputs": [],
   "source": [
    "keep_cols = ['business_name', 'inspection_date', 'inspection_score', 'risk_category', 'Neighborhoods', 'Zip Codes']\n",
    "restaurants = ...\n",
    "restaurants"
   ]
  },
  {
   "cell_type": "markdown",
   "metadata": {
    "slideshow": {
     "slide_type": "slide"
    }
   },
   "source": [
    "## At-risk restaurants ⚠️"
   ]
  },
  {
   "cell_type": "markdown",
   "metadata": {
    "slideshow": {
     "slide_type": "slide"
    }
   },
   "source": [
    "For each restaurant, we have an inspection score."
   ]
  },
  {
   "cell_type": "code",
   "execution_count": null,
   "metadata": {
    "scrolled": true
   },
   "outputs": [],
   "source": [
    "restaurants.take(np.arange(5))"
   ]
  },
  {
   "cell_type": "markdown",
   "metadata": {},
   "source": [
    "In the preview above, we see...\n",
    "- A restaurant with an inspection score of 92 being classified as `'Low Risk'`,\n",
    "- A restaurant with an inspection score of 91 being classified as `'High Risk'`\n",
    "- A restaurant with an inspection score of 90 being classified as `'Low Risk'`\n",
    "\n",
    "This means that inspection scores don't directly translate to risk categories. Let's investigate the difference between the inspection scores of low risk and high risk restaurants."
   ]
  },
  {
   "cell_type": "markdown",
   "metadata": {
    "slideshow": {
     "slide_type": "slide"
    }
   },
   "source": [
    "Let's start by visualizing the distribution of inspection scores for low risk and high risk restaurants."
   ]
  },
  {
   "cell_type": "code",
   "execution_count": null,
   "metadata": {},
   "outputs": [],
   "source": [
    "# Don't worry about the plotting code here.\n",
    "fig, ax = plt.subplots()\n",
    "score_bins = np.arange(50, 102, 2)\n",
    "restaurants[restaurants.get('risk_category') == 'Low Risk'].plot(\n",
    "    kind='hist', y='inspection_score', density=True, ec='w', bins=score_bins, ax=ax,\n",
    "    figsize=(10, 5), title='Inspection Scores for Low Risk vs. High Risk Restaurants', alpha=0.65, label='Low Risk'\n",
    ");\n",
    "\n",
    "restaurants[restaurants.get('risk_category') == 'High Risk'].plot(\n",
    "    kind='hist', y='inspection_score', density=True, ec='w', bins=score_bins, ax=ax,\n",
    "    figsize=(10, 5), alpha=0.65, label='High Risk'\n",
    ");"
   ]
  },
  {
   "cell_type": "markdown",
   "metadata": {
    "slideshow": {
     "slide_type": "slide"
    }
   },
   "source": [
    "### Concept Check ✅ – Answer at [cc.dsc10.com](http://cc.dsc10.com) \n",
    "\n",
    "We want to compare high risk restaurants to low risk restaurants and see if their inspection scores are significantly different. What technique should we use?\n",
    "\n",
    "A. Standard hypothesis testing\n",
    "\n",
    "B. Permutation testing  \n",
    "\n",
    "C. Bootstrapping\n",
    "\n",
    "D. The Central Limit Theorem"
   ]
  },
  {
   "cell_type": "markdown",
   "metadata": {},
   "source": [
    "<details>\n",
    "<summary>Click for the answer <b>after</b> you've entered your guess above. <b>Don't scroll any further.</b></summary>\n",
    "    \n",
    "Permutation testing.\n",
    "\n",
    "</details>"
   ]
  },
  {
   "cell_type": "markdown",
   "metadata": {
    "slideshow": {
     "slide_type": "slide"
    }
   },
   "source": [
    "Let's keep only the relevant information."
   ]
  },
  {
   "cell_type": "code",
   "execution_count": null,
   "metadata": {
    "slideshow": {
     "slide_type": "-"
    }
   },
   "outputs": [],
   "source": [
    "high_low = ...\n",
    "high_low = ...\n",
    "high_low"
   ]
  },
  {
   "cell_type": "markdown",
   "metadata": {},
   "source": [
    "Now, let's try shuffling a single one of the columns above. (Does it matter which one?)"
   ]
  },
  {
   "cell_type": "code",
   "execution_count": null,
   "metadata": {},
   "outputs": [],
   "source": [
    "..."
   ]
  },
  {
   "cell_type": "markdown",
   "metadata": {},
   "source": [
    "Let's assign this shuffled column back into our original DataFrame. The resulting DataFrame is called `original_and_shuffled`."
   ]
  },
  {
   "cell_type": "code",
   "execution_count": null,
   "metadata": {},
   "outputs": [],
   "source": [
    "shuffled_labels = ...\n",
    "original_and_shuffled = ...\n",
    "original_and_shuffled"
   ]
  },
  {
   "cell_type": "markdown",
   "metadata": {
    "slideshow": {
     "slide_type": "slide"
    }
   },
   "source": [
    "Let's now visualize the distribution of inspection scores for low risk and high risk restaurants, in both our original dataset and after shuffling the labels."
   ]
  },
  {
   "cell_type": "code",
   "execution_count": null,
   "metadata": {},
   "outputs": [],
   "source": [
    "# Don't worry about the plotting code here.\n",
    "fig, ax = plt.subplots()\n",
    "score_bins = np.arange(50, 102, 2)\n",
    "restaurants[restaurants.get('risk_category') == 'Low Risk'].plot(\n",
    "    kind='hist', y='inspection_score', density=True, ec='w', bins=score_bins, ax=ax,\n",
    "    figsize=(10, 5), title='Inspection Scores for Low Risk vs. High Risk Restaurants Before Shuffling', alpha=0.65, label='Low Risk'\n",
    ");\n",
    "\n",
    "restaurants[restaurants.get('risk_category') == 'High Risk'].plot(\n",
    "    kind='hist', y='inspection_score', density=True, ec='w', bins=score_bins, ax=ax,\n",
    "    figsize=(10, 5), alpha=0.65, label='High Risk'\n",
    ");"
   ]
  },
  {
   "cell_type": "code",
   "execution_count": null,
   "metadata": {},
   "outputs": [],
   "source": [
    "# Don't worry about the plotting code here.\n",
    "fig, ax = plt.subplots()\n",
    "score_bins = np.arange(50, 102, 2)\n",
    "original_and_shuffled[original_and_shuffled.get('shuffled_label') == 'Low Risk'].plot(\n",
    "    kind='hist', y='inspection_score', density=True, ec='w', bins=score_bins, ax=ax,\n",
    "    figsize=(10, 5), title='Inspection Scores for Low Risk vs. High Risk Restaurants After Shuffling', alpha=0.65, label='Low Risk'\n",
    ");\n",
    "\n",
    "original_and_shuffled[original_and_shuffled.get('shuffled_label') == 'High Risk'].plot(\n",
    "    kind='hist', y='inspection_score', density=True, ec='w', bins=score_bins, ax=ax,\n",
    "    figsize=(10, 5), alpha=0.65, label='High Risk'\n",
    ");"
   ]
  },
  {
   "cell_type": "markdown",
   "metadata": {
    "slideshow": {
     "slide_type": "slide"
    }
   },
   "source": [
    "### Concept Check ✅ – Answer at [cc.dsc10.com](http://cc.dsc10.com) \n",
    "\n",
    "It looks like the two groups in the second histogram are substantially more different than the two groups in the first histogram. \n",
    "\n",
    "What test statistic(s) can we use to quantify the difference between the two groups displayed in a given histogram?\n",
    "\n",
    "A. Total variation distance  \n",
    "B. Difference in group means  \n",
    "C. Either of the above"
   ]
  },
  {
   "cell_type": "markdown",
   "metadata": {},
   "source": [
    "<details>\n",
    "<summary>Click for the answer <b>after</b> you've entered your guess above. <b>Don't scroll any further.</b></summary>\n",
    "    \n",
    "Difference in group means. TVD helps compare two categorical distributions, but we're dealing with two numerical distributions.\n",
    "\n",
    "</details>"
   ]
  },
  {
   "cell_type": "code",
   "execution_count": null,
   "metadata": {
    "slideshow": {
     "slide_type": "slide"
    }
   },
   "outputs": [],
   "source": [
    "..."
   ]
  },
  {
   "cell_type": "markdown",
   "metadata": {},
   "source": [
    "Let's compute the difference in mean inspection scores for the low risk group and high risk group (low minus high).\n",
    "\n",
    "First, for our observed data:"
   ]
  },
  {
   "cell_type": "code",
   "execution_count": null,
   "metadata": {},
   "outputs": [],
   "source": [
    "grouped = ...\n",
    "observed_difference = ...\n",
    "observed_difference"
   ]
  },
  {
   "cell_type": "markdown",
   "metadata": {},
   "source": [
    "Then, for our shuffled data:"
   ]
  },
  {
   "cell_type": "code",
   "execution_count": null,
   "metadata": {},
   "outputs": [],
   "source": [
    "..."
   ]
  },
  {
   "cell_type": "code",
   "execution_count": null,
   "metadata": {},
   "outputs": [],
   "source": [
    "shuffled_and_grouped = ...\n",
    "simulated_difference = ...\n",
    "simulated_difference"
   ]
  },
  {
   "cell_type": "markdown",
   "metadata": {
    "slideshow": {
     "slide_type": "slide"
    }
   },
   "source": [
    "We're going to need to shuffle the `'risk_category'` column many, many times, and compute this difference in group means each time.\n",
    "\n",
    "Let's put some of our code in a function to make it easier to repeat."
   ]
  },
  {
   "cell_type": "code",
   "execution_count": null,
   "metadata": {},
   "outputs": [],
   "source": [
    "def calculate_test_statistic():\n",
    "    ..."
   ]
  },
  {
   "cell_type": "markdown",
   "metadata": {},
   "source": [
    "Each time we call this function, it shuffles the `'risk_category'` column and returns the difference in group means (again, by taking low minus high)."
   ]
  },
  {
   "cell_type": "code",
   "execution_count": null,
   "metadata": {},
   "outputs": [],
   "source": [
    "calculate_test_statistic()"
   ]
  },
  {
   "cell_type": "markdown",
   "metadata": {
    "slideshow": {
     "slide_type": "slide"
    }
   },
   "source": [
    "We need to simulate this difference in group means many, many times. Let's call our function many, many times and keep track of its result in an array."
   ]
  },
  {
   "cell_type": "code",
   "execution_count": null,
   "metadata": {},
   "outputs": [],
   "source": [
    "simulated_stats = np.array([])\n",
    "n_reps = 100 # We're using a small number of reps to save time in lecture.\n",
    "\n",
    "..."
   ]
  },
  {
   "cell_type": "markdown",
   "metadata": {},
   "source": [
    "Now that we've done that, let's visualize the distribution of the simulated test statistics, and also see where the observed statistic lies:"
   ]
  },
  {
   "cell_type": "code",
   "execution_count": null,
   "metadata": {},
   "outputs": [],
   "source": [
    "bpd.DataFrame().assign(simulated_stats=simulated_stats) \\\n",
    "               .plot(kind='hist', density=True, ec='w', figsize=(10, 5), bins=20, label='difference in group means');\n",
    "plt.axvline(observed_difference, lw=3, color='black', label='observed statistic')\n",
    "plt.legend();"
   ]
  },
  {
   "cell_type": "markdown",
   "metadata": {
    "slideshow": {
     "slide_type": "slide"
    }
   },
   "source": [
    "What's the p-value? Well, it depends on what our alternative hypothesis is. Here, our alternative hypothesis is that low risk restaurants have higher inspection scores on average than high risk restaurants. "
   ]
  },
  {
   "cell_type": "markdown",
   "metadata": {
    "slideshow": {
     "slide_type": "fragment"
    }
   },
   "source": [
    "Since our test statistic was\n",
    "\n",
    "$$\\text{low risk mean} - \\text{high risk mean}$$\n",
    "\n",
    "larger values of the test statistic favor the alternative."
   ]
  },
  {
   "cell_type": "code",
   "execution_count": null,
   "metadata": {},
   "outputs": [],
   "source": [
    "..."
   ]
  },
  {
   "cell_type": "markdown",
   "metadata": {},
   "source": [
    "This is lower than any cutoff we'd consider, so we'd reject the null hypothesis that the two groups of restaurants have similar inspection scores."
   ]
  },
  {
   "cell_type": "markdown",
   "metadata": {
    "slideshow": {
     "slide_type": "slide"
    }
   },
   "source": [
    "## Bakeries 🧁\n",
    "\n",
    "<center>\n",
    "<table><tr>\n",
    "    <td><center><img src='data/pie.jpg'  style=\"width: 60%;\"/></center></td>\n",
    "    <td><center><img src='data/cupcakes.jpg'  style=\"width: 60%;\"/></center></td>\n",
    "</tr></table>\n",
    "</center>"
   ]
  },
  {
   "cell_type": "markdown",
   "metadata": {
    "slideshow": {
     "slide_type": "slide"
    }
   },
   "source": [
    "We'll load in a version of the restaurants dataset that has many more rows, some of which contain null values."
   ]
  },
  {
   "cell_type": "code",
   "execution_count": null,
   "metadata": {
    "slideshow": {
     "slide_type": "-"
    }
   },
   "outputs": [],
   "source": [
    "restaurants_full = bpd.read_csv('data/restaurants.csv').get(keep_cols)\n",
    "restaurants_full"
   ]
  },
  {
   "cell_type": "markdown",
   "metadata": {
    "slideshow": {
     "slide_type": "slide"
    }
   },
   "source": [
    "Let's look at just the restaurants with `'Bake'` in the name that we know the inspection score for.\n",
    "\n",
    "`.str.contains` can help us here."
   ]
  },
  {
   "cell_type": "code",
   "execution_count": null,
   "metadata": {},
   "outputs": [],
   "source": [
    "..."
   ]
  },
  {
   "cell_type": "markdown",
   "metadata": {},
   "source": [
    "Some bakeries may have `'bake'` in their name, rather than `'Bake'`. To account for this, we can convert the entire Series to lowercase using `.str.lower()`, and then use `.str.contains('bake')`."
   ]
  },
  {
   "cell_type": "code",
   "execution_count": null,
   "metadata": {},
   "outputs": [],
   "source": [
    "..."
   ]
  },
  {
   "cell_type": "code",
   "execution_count": null,
   "metadata": {
    "slideshow": {
     "slide_type": "-"
    }
   },
   "outputs": [],
   "source": [
    "bakeries = ...\n",
    "bakeries = ...\n",
    "bakeries"
   ]
  },
  {
   "cell_type": "markdown",
   "metadata": {
    "slideshow": {
     "slide_type": "slide"
    }
   },
   "source": [
    "We can plot the **population** distribution, i.e. the distribution of inspection scores for **all bakeries in San Francisco**."
   ]
  },
  {
   "cell_type": "code",
   "execution_count": null,
   "metadata": {
    "slideshow": {
     "slide_type": "-"
    }
   },
   "outputs": [],
   "source": [
    "bakeries.plot(kind='hist', y='inspection_score', density=True, bins=score_bins, ec='w', figsize=(10, 5),\n",
    "              title='Population Distribution');"
   ]
  },
  {
   "cell_type": "markdown",
   "metadata": {},
   "source": [
    "For reference, the mean and standard deviation of the population distribution are calculated below."
   ]
  },
  {
   "cell_type": "code",
   "execution_count": null,
   "metadata": {},
   "outputs": [],
   "source": [
    "..."
   ]
  },
  {
   "cell_type": "markdown",
   "metadata": {
    "slideshow": {
     "slide_type": "slide"
    }
   },
   "source": [
    "In this case we happen to have the inspection scores for all members of the population, but in reality we won't. So let's instead consider a random **sample** of the population.\n",
    "\n",
    "_Aside: Does the `.sample` method sample with or without replacement by default?_"
   ]
  },
  {
   "cell_type": "code",
   "execution_count": null,
   "metadata": {
    "scrolled": true
   },
   "outputs": [],
   "source": [
    "np.random.seed(23) # Ignore this\n",
    "\n",
    "sample_of_bakeries = ...\n",
    "sample_of_bakeries"
   ]
  },
  {
   "cell_type": "markdown",
   "metadata": {
    "slideshow": {
     "slide_type": "slide"
    }
   },
   "source": [
    "We can plot the sample distribution:"
   ]
  },
  {
   "cell_type": "code",
   "execution_count": null,
   "metadata": {},
   "outputs": [],
   "source": [
    "sample_of_bakeries.plot(kind='hist', y='inspection_score', density=True, bins=score_bins, ec='w', figsize=(10, 5),\n",
    "                        title='Sample Distribution');"
   ]
  },
  {
   "cell_type": "markdown",
   "metadata": {
    "slideshow": {
     "slide_type": "-"
    }
   },
   "source": [
    "Note that since we took a large, random sample of the population, we expect that our sample looks similiar to the population and has a similar mean and SD."
   ]
  },
  {
   "cell_type": "code",
   "execution_count": null,
   "metadata": {},
   "outputs": [],
   "source": [
    "..."
   ]
  },
  {
   "cell_type": "markdown",
   "metadata": {},
   "source": [
    "Indeed, the sample mean is quite close to the population mean, and the sample standard deviation is quite close to the population standard deviation."
   ]
  },
  {
   "cell_type": "markdown",
   "metadata": {
    "slideshow": {
     "slide_type": "slide"
    }
   },
   "source": [
    "Let's suppose we want to estimate the population mean (that is, the mean inspection score of all bakeries in SF).\n",
    "\n",
    "One estimate of the population mean is the mean of our sample."
   ]
  },
  {
   "cell_type": "code",
   "execution_count": null,
   "metadata": {},
   "outputs": [],
   "source": [
    "sample_of_bakeries.get('inspection_score').mean()"
   ]
  },
  {
   "cell_type": "markdown",
   "metadata": {},
   "source": [
    "However, our sample was random and could have been different, meaning our sample mean could also have been different.\n",
    "\n",
    "**Question**: What's a reasonable range of possible values for the sample mean? **What is the distribution of the sample mean?**"
   ]
  },
  {
   "cell_type": "markdown",
   "metadata": {
    "slideshow": {
     "slide_type": "slide"
    }
   },
   "source": [
    "### The Central Limit Theorem\n",
    "\n",
    "> The Central Limit Theorem (CLT) says that the probability distribution of the **sum or mean** of a large random sample drawn with replacement will be roughly normal, regardless of the distribution of the population from which the sample is drawn."
   ]
  },
  {
   "cell_type": "code",
   "execution_count": null,
   "metadata": {
    "slideshow": {
     "slide_type": "slide"
    }
   },
   "outputs": [],
   "source": [
    "show_clt_slides()"
   ]
  },
  {
   "cell_type": "markdown",
   "metadata": {
    "slideshow": {
     "slide_type": "slide"
    }
   },
   "source": [
    "To see an empirical distribution of the sample mean, let's take a large number of samples directly from the population and compute the mean of each one.\n",
    "\n",
    "Remember, in real life we wouldn't be able to do this, since we wouldn't have access to the population."
   ]
  },
  {
   "cell_type": "code",
   "execution_count": null,
   "metadata": {},
   "outputs": [],
   "source": [
    "sample_means = np.array([])\n",
    "\n",
    "..."
   ]
  },
  {
   "cell_type": "code",
   "execution_count": null,
   "metadata": {},
   "outputs": [],
   "source": [
    "sample_means"
   ]
  },
  {
   "cell_type": "code",
   "execution_count": null,
   "metadata": {
    "slideshow": {
     "slide_type": "slide"
    }
   },
   "outputs": [],
   "source": [
    "bpd.DataFrame().assign(sample_means=sample_means).plot(kind='hist', density=True, ec='w', bins=25, figsize=(10, 5));"
   ]
  },
  {
   "cell_type": "markdown",
   "metadata": {},
   "source": [
    "Unsurprisingly, the distribution of the sample mean is bell-shaped. The CLT told us that!"
   ]
  },
  {
   "cell_type": "markdown",
   "metadata": {
    "slideshow": {
     "slide_type": "slide"
    }
   },
   "source": [
    "The CLT also tells us that\n",
    "\n",
    "$$\\text{SD of Distribution of Possible Sample Means} = \\frac{\\text{Population SD}}{\\sqrt{\\text{sample size}}}$$\n",
    "\n"
   ]
  },
  {
   "cell_type": "markdown",
   "metadata": {},
   "source": [
    "Let's try this out."
   ]
  },
  {
   "cell_type": "code",
   "execution_count": null,
   "metadata": {},
   "outputs": [],
   "source": [
    "np.std(bakeries.get('inspection_score')) / np.sqrt(200)"
   ]
  },
  {
   "cell_type": "code",
   "execution_count": null,
   "metadata": {},
   "outputs": [],
   "source": [
    "np.std(sample_means)"
   ]
  },
  {
   "cell_type": "markdown",
   "metadata": {},
   "source": [
    "Pretty close! Remember that `sample_means` is an array of simulated sample means; the more samples we simulate, the closer that `np.std(sample_means)` will get to the SD described by the CLT.\n",
    "\n",
    "Note that in practice, we won't have the SD of the population, since we'll usually just have a single sample. In such cases, we can use the SD of the sample as an estimate of the SD of the population:"
   ]
  },
  {
   "cell_type": "code",
   "execution_count": null,
   "metadata": {},
   "outputs": [],
   "source": [
    "np.std(sample_of_bakeries.get('inspection_score')) / np.sqrt(200)"
   ]
  },
  {
   "cell_type": "markdown",
   "metadata": {
    "slideshow": {
     "slide_type": "slide"
    }
   },
   "source": [
    "Using the CLT, we have that the distribution of the sample mean:\n",
    "- is roughly normal,\n",
    "- is centered at the population mean (for which the sample mean is an estimate), and\n",
    "- has a standard deviation of $\\frac{\\text{Population SD}}{\\sqrt{\\text{sample size}}}$ (which can be estimated using $\\frac{\\text{Sample SD}}{\\sqrt{\\text{sample size}}}$).\n",
    "\n",
    "Using this information, we can build a confidence interval for where we think the population mean might be. A 95% confidence interval for the population mean is given by\n",
    "\n",
    "$$\n",
    "\\left[\n",
    "\\text{sample mean} - 2\\cdot \\frac{\\text{sample SD}}{\\sqrt{\\text{sample size}}}, \\\n",
    "\\text{sample mean} + 2\\cdot \\frac{\\text{sample SD}}{\\sqrt{\\text{sample size}}}\n",
    "\\right]\n",
    "$$"
   ]
  },
  {
   "cell_type": "code",
   "execution_count": null,
   "metadata": {},
   "outputs": [],
   "source": [
    "sample_mean = sample_of_bakeries.get('inspection_score').mean()\n",
    "sample_std = np.std(sample_of_bakeries.get('inspection_score'))"
   ]
  },
  {
   "cell_type": "code",
   "execution_count": null,
   "metadata": {},
   "outputs": [],
   "source": [
    "..."
   ]
  },
  {
   "cell_type": "markdown",
   "metadata": {
    "slideshow": {
     "slide_type": "slide"
    }
   },
   "source": [
    "### Concept Check ✅ – Answer at [cc.dsc10.com](http://cc.dsc10.com) \n",
    "\n",
    "Using a single sample of 200 bakeries, how can we estimate the **median** inspection score of all bakeries in San Francisco with an inspection score? What technique should we use?\n",
    "\n",
    "A. Standard hypothesis testing\n",
    "\n",
    "B. Permutation testing  \n",
    "\n",
    "C. Bootstrapping\n",
    "\n",
    "D. The Central Limit Theorem"
   ]
  },
  {
   "cell_type": "markdown",
   "metadata": {},
   "source": [
    "<details>\n",
    "<summary>Click for the answer <b>after</b> you've entered your guess above. <b>Don't scroll any further.</b></summary>\n",
    "    \n",
    "Bootstrapping. The CLT only applies to sample means (and sums), not to any other statistics.\n",
    "\n",
    "</details>"
   ]
  },
  {
   "cell_type": "markdown",
   "metadata": {
    "slideshow": {
     "slide_type": "slide"
    }
   },
   "source": [
    "There is no CLT for sample medians, so instead we'll have to resort to bootstrapping to estimate the distribution of the sample median.\n",
    "\n",
    "Recall, bootstrapping is the act of **sampling from the original sample, with replacement**. This is also called **resampling**."
   ]
  },
  {
   "cell_type": "code",
   "execution_count": null,
   "metadata": {},
   "outputs": [],
   "source": [
    "# The median of our original sample – this is just one number\n",
    "..."
   ]
  },
  {
   "cell_type": "code",
   "execution_count": null,
   "metadata": {},
   "outputs": [],
   "source": [
    "# The median of a single bootstrap resample – this is just one number\n",
    "..."
   ]
  },
  {
   "cell_type": "markdown",
   "metadata": {
    "slideshow": {
     "slide_type": "slide"
    }
   },
   "source": [
    "Let's resample repeatedly."
   ]
  },
  {
   "cell_type": "code",
   "execution_count": null,
   "metadata": {},
   "outputs": [],
   "source": [
    "np.random.seed(23) # Ignore this\n",
    "\n",
    "boot_medians = np.array([])\n",
    "\n",
    "..."
   ]
  },
  {
   "cell_type": "code",
   "execution_count": null,
   "metadata": {},
   "outputs": [],
   "source": [
    "boot_medians"
   ]
  },
  {
   "cell_type": "code",
   "execution_count": null,
   "metadata": {
    "slideshow": {
     "slide_type": "slide"
    }
   },
   "outputs": [],
   "source": [
    "bpd.DataFrame().assign(boot_medians=boot_medians).plot(kind='hist', density=True, ec='w', bins=10, figsize=(10, 5));"
   ]
  },
  {
   "cell_type": "markdown",
   "metadata": {},
   "source": [
    "Note that this distribution is not at all normal.\n",
    "\n",
    "To compute a 95% confidence interval, we take the middle 95% of the bootstrapped medians."
   ]
  },
  {
   "cell_type": "code",
   "execution_count": null,
   "metadata": {},
   "outputs": [],
   "source": [
    "..."
   ]
  },
  {
   "cell_type": "markdown",
   "metadata": {
    "slideshow": {
     "slide_type": "slide"
    }
   },
   "source": [
    "### Discussion Question\n",
    "\n",
    "Which of the following interpretations of this confidence interval are valid?\n",
    "\n",
    "1. 95% of SF bakeries have an inspection score between 85 and 88.  \n",
    "2. 95% of the resamples have a median inspection score between 85 and 88.  \n",
    "3. There is a 95% chance that our sample has a median inspection score between 85 and 88.  \n",
    "4. There is a 95% chance that the median inspection score of all SF bakeries is between 85 and 88.  \n",
    "5. If we had taken 100 samples from the same population, about 95 of these samples would have a median inspection score between 85 and 88.  \n",
    "6.  If we had taken 100 samples from the same population, about 95 of the confidence intervals created would contain the median inspection score of all SF bakeries.  "
   ]
  },
  {
   "cell_type": "markdown",
   "metadata": {},
   "source": [
    "<details>\n",
    "<summary>Click for the answer <b>after</b> you've entered your guess above. <b>Don't scroll any further.</b></summary>\n",
    "    \n",
    "The correct answers are Option 2 and Option 6.\n",
    "\n",
    "</details>"
   ]
  },
  {
   "cell_type": "markdown",
   "metadata": {
    "slideshow": {
     "slide_type": "slide"
    }
   },
   "source": [
    "## Next time"
   ]
  },
  {
   "cell_type": "markdown",
   "metadata": {
    "slideshow": {
     "slide_type": "slide"
    }
   },
   "source": [
    "### Next time\n",
    "\n",
    "- One more review example.\n",
    "- A high-level overview of the quarter.\n",
    "- Some parting thoughts."
   ]
  }
 ],
 "metadata": {
  "kernelspec": {
   "display_name": "Python 3 (ipykernel)",
   "language": "python",
   "name": "python3"
  },
  "language_info": {
   "codemirror_mode": {
    "name": "ipython",
    "version": 3
   },
   "file_extension": ".py",
   "mimetype": "text/x-python",
   "name": "python",
   "nbconvert_exporter": "python",
   "pygments_lexer": "ipython3",
   "version": "3.9.7"
  },
  "livereveal": {
   "scroll": true,
   "transition": "none"
  },
  "rise": {
   "enable_chalkboard": true
  }
 },
 "nbformat": 4,
 "nbformat_minor": 2
}
