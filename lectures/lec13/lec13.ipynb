{
 "cells": [
  {
   "cell_type": "code",
   "execution_count": null,
   "metadata": {
    "slideshow": {
     "slide_type": "skip"
    }
   },
   "outputs": [],
   "source": [
    "# Set up packages for lecture. Don't worry about understanding this code, but\n",
    "# make sure to run it if you're following along.\n",
    "import numpy as np\n",
    "import babypandas as bpd\n",
    "import pandas as pd\n",
    "from matplotlib_inline.backend_inline import set_matplotlib_formats\n",
    "import matplotlib.pyplot as plt\n",
    "%reload_ext pandas_tutor\n",
    "%set_pandas_tutor_options {'projectorMode': True}\n",
    "set_matplotlib_formats(\"svg\")\n",
    "plt.style.use('fivethirtyeight')\n",
    "\n",
    "np.set_printoptions(threshold=20, precision=2, suppress=True)\n",
    "pd.set_option(\"display.max_rows\", 7)\n",
    "pd.set_option(\"display.max_columns\", 8)\n",
    "pd.set_option(\"display.precision\", 2)"
   ]
  },
  {
   "cell_type": "markdown",
   "metadata": {
    "slideshow": {
     "slide_type": "slide"
    }
   },
   "source": [
    "# Lecture 13 – Simulation\n",
    "\n",
    "## DSC 10, Fall 2022"
   ]
  },
  {
   "cell_type": "markdown",
   "metadata": {
    "slideshow": {
     "slide_type": "slide"
    }
   },
   "source": [
    "### Announcements\n",
    "\n",
    "- Lab 4 is due **tomorrow at 11:59PM**.\n",
    "- Homework 4 is due on **Tuesday 10/25 at 11:59PM**.\n",
    "- The Midterm Project is due **Tuesday 11/1 at 11:59PM.** Use [pair programming 👯](https://dsc10.com/pair-programming/). See [this post](https://edstem.org/us/courses/29053/discussion/1992062) for clarifications. \n",
    "- 10+ more weekly office hours will be added starting next week!"
   ]
  },
  {
   "cell_type": "markdown",
   "metadata": {
    "slideshow": {
     "slide_type": "slide"
    }
   },
   "source": [
    "### Midterm Exam details\n",
    "\n",
    "The Midterm Exam is in one week, on **Friday, 10/28 during your assigned lecture**.\n",
    "- It will be a 50 minute, on-paper, closed-notes exam. We will provide you with first 2 pages of the [reference sheet](https://drive.google.com/file/d/1mQApk9Ovdi-QVqMgnNcq5dZcWucUKoG-/view).\n",
    "- It will consist of multiple choice, fill-in-the-blank code, and short answer questions.\n",
    "- Bring a pen/pencil/eraser and a photo ID. No scantron or blue book needed.\n",
    "- No calculator, computers, notes, or other aids are allowed.\n",
    "- Seating assignments and alternate details are coming next week.\n",
    "- **Today's material is on the midterm; next week's is not.**"
   ]
  },
  {
   "cell_type": "markdown",
   "metadata": {
    "slideshow": {
     "slide_type": "slide"
    }
   },
   "source": [
    "### Agenda\n",
    "\n",
    "Simulation.\n",
    " - Example: What's the probability of getting 60 or more heads if we flip 100 coins?\n",
    " - Example: The \"Monty Hall\" Problem."
   ]
  },
  {
   "cell_type": "markdown",
   "metadata": {
    "slideshow": {
     "slide_type": "slide"
    }
   },
   "source": [
    "## Simulation"
   ]
  },
  {
   "cell_type": "markdown",
   "metadata": {
    "slideshow": {
     "slide_type": "slide"
    }
   },
   "source": [
    "### Simulation\n",
    "\n",
    "- What is the probability of getting 60 or more heads if we flip 100 coins?"
   ]
  },
  {
   "cell_type": "markdown",
   "metadata": {
    "slideshow": {
     "slide_type": "fragment"
    }
   },
   "source": [
    "- While we _could_ calculate it by hand (and will learn how to in future courses), we can also approximate it using the computer:\n",
    "    1. Figure out how to do one experiment (i.e., flip 100 coins).\n",
    "    2. Run the experiment a bunch of times.\n",
    "    3. Find the proportion of experiments in which the number of heads was 60 or more."
   ]
  },
  {
   "cell_type": "markdown",
   "metadata": {
    "slideshow": {
     "slide_type": "fragment"
    }
   },
   "source": [
    "- This is how we'll use **simulation** – to approximate a probability through computation.\n",
    "    - The techniques we will introduce in today's lecture will appear in almost every lecture for the remainder of the quarter!"
   ]
  },
  {
   "cell_type": "markdown",
   "metadata": {
    "slideshow": {
     "slide_type": "slide"
    }
   },
   "source": [
    "### Making a random choice\n",
    "\n",
    "- To simulate, we need a way to perform a random experiment on the computer (e.g. flipping a coin, rolling a die)."
   ]
  },
  {
   "cell_type": "markdown",
   "metadata": {
    "slideshow": {
     "slide_type": "fragment"
    }
   },
   "source": [
    "- A helpful function is `np.random.choice(options)`.\n",
    "    - The input, `options`, is a list or array to choose from.\n",
    "    - The output is a random element in `options`. By default, all elements are equally likely to be chosen."
   ]
  },
  {
   "cell_type": "code",
   "execution_count": null,
   "metadata": {},
   "outputs": [],
   "source": [
    "# Simulate a fair coin flip\n",
    "np.random.choice(['Heads', 'Tails'])"
   ]
  },
  {
   "cell_type": "code",
   "execution_count": null,
   "metadata": {
    "scrolled": true
   },
   "outputs": [],
   "source": [
    "# Simulate a roll of a die\n",
    "np.random.choice(np.arange(1, 7))"
   ]
  },
  {
   "cell_type": "markdown",
   "metadata": {
    "slideshow": {
     "slide_type": "slide"
    }
   },
   "source": [
    "### Making multiple random choices\n",
    "\n",
    "`np.random.choice(options, n)` will return an array of `n` randomly selected elements from `options`."
   ]
  },
  {
   "cell_type": "code",
   "execution_count": null,
   "metadata": {
    "scrolled": true
   },
   "outputs": [],
   "source": [
    "# Simulate 10 fair coin flips\n",
    "np.random.choice(['Heads', 'Tails'], 10)"
   ]
  },
  {
   "cell_type": "markdown",
   "metadata": {
    "slideshow": {
     "slide_type": "slide"
    }
   },
   "source": [
    "### With replacement vs. without replacement\n",
    "\n",
    "- By default, `np.random.choice` selects **with** replacement.\n",
    "- That is, after making a selection, that option is still available.\n",
    "    - e.g. if every time you draw a marble from a bag, you put it back.\n",
    "- If an option can only be selected once, select **without** replacement by specifying `replace=False`.\n",
    "    - e.g. if every time you draw a marble from a bag, you do not put it back."
   ]
  },
  {
   "cell_type": "code",
   "execution_count": null,
   "metadata": {},
   "outputs": [],
   "source": [
    "# Choose three colleges to win free HDH swag\n",
    "colleges = ['Revelle', 'John Muir', 'Thurgood Marshall', \n",
    "            'Earl Warren', 'Eleanor Roosevelt', 'Sixth', 'Seventh']\n",
    "\n",
    "np.random.choice(colleges, 3, replace=False)"
   ]
  },
  {
   "cell_type": "markdown",
   "metadata": {
    "slideshow": {
     "slide_type": "slide"
    }
   },
   "source": [
    "## Example: What's the probability of getting 60 or more heads if we flip 100 coins?"
   ]
  },
  {
   "cell_type": "markdown",
   "metadata": {
    "slideshow": {
     "slide_type": "slide"
    }
   },
   "source": [
    "### Flipping coins\n",
    "\n",
    "What is the probability of getting 60 or more heads if we flip 100 coins?\n",
    "\n",
    "**Strategy:**\n",
    "\n",
    "1. Figure out how to do one experiment (i.e., flip 100 coins).\n",
    "2. Run the experiment a bunch of times.\n",
    "3. Find the proportion of experiments in which the number of heads was 60 or more."
   ]
  },
  {
   "cell_type": "markdown",
   "metadata": {
    "slideshow": {
     "slide_type": "slide"
    }
   },
   "source": [
    "### Step 1: Figure out how to do one experiment\n",
    "\n",
    "- Use `np.random.choice` to flip 100 coins.\n",
    "- Use `np.count_nonzero` to count the number of heads.\n",
    "    - `np.count_nonzero(array)` returns the number of entries in `array` that are `True`.\n",
    "    "
   ]
  },
  {
   "cell_type": "code",
   "execution_count": null,
   "metadata": {},
   "outputs": [],
   "source": [
    "coins = np.random.choice(['Heads', 'Tails'], 100)\n",
    "coins"
   ]
  },
  {
   "cell_type": "code",
   "execution_count": null,
   "metadata": {},
   "outputs": [],
   "source": [
    "(coins == 'Heads').sum()"
   ]
  },
  {
   "cell_type": "code",
   "execution_count": null,
   "metadata": {},
   "outputs": [],
   "source": [
    "np.count_nonzero(coins == 'Heads') # counts the number of Trues in sequence"
   ]
  },
  {
   "cell_type": "markdown",
   "metadata": {
    "slideshow": {
     "slide_type": "fragment"
    }
   },
   "source": [
    "- Q: Why is it called `count_nonzero`?\n",
    "- A: In Python, `True == 1` and `False == 0`, so counting the non-zero elements counts the number of `True`s."
   ]
  },
  {
   "cell_type": "markdown",
   "metadata": {
    "slideshow": {
     "slide_type": "slide"
    }
   },
   "source": [
    "### Aside: Putting the experiment in a function\n",
    "\n",
    "It's a good idea to do this, as it makes it easier to run the experiment repeatedly."
   ]
  },
  {
   "cell_type": "code",
   "execution_count": null,
   "metadata": {},
   "outputs": [],
   "source": [
    "def coin_experiment():\n",
    "    coins = np.random.choice(['Heads', 'Tails'], 100)\n",
    "    return np.count_nonzero(coins == 'Heads')"
   ]
  },
  {
   "cell_type": "code",
   "execution_count": null,
   "metadata": {},
   "outputs": [],
   "source": [
    "coin_experiment()"
   ]
  },
  {
   "cell_type": "markdown",
   "metadata": {
    "slideshow": {
     "slide_type": "slide"
    }
   },
   "source": [
    "### Step 2: Repeat the experiment\n",
    "\n",
    "- How do we run the same code many times? **Using a `for`-loop!**\n",
    "- Each time we run the experiment, we'll need to store the results in an array.\n",
    "    - To do this, we'll use `np.append`!"
   ]
  },
  {
   "cell_type": "code",
   "execution_count": null,
   "metadata": {},
   "outputs": [],
   "source": [
    "head_counts = np.array([])\n",
    "head_counts"
   ]
  },
  {
   "cell_type": "code",
   "execution_count": null,
   "metadata": {},
   "outputs": [],
   "source": [
    "head_counts = np.append(head_counts, 15)\n",
    "head_counts"
   ]
  },
  {
   "cell_type": "code",
   "execution_count": null,
   "metadata": {},
   "outputs": [],
   "source": [
    "head_counts = np.append(head_counts, 25)\n",
    "head_counts"
   ]
  },
  {
   "cell_type": "markdown",
   "metadata": {
    "slideshow": {
     "slide_type": "slide"
    }
   },
   "source": [
    "### Step 2: Repeat the experiment"
   ]
  },
  {
   "cell_type": "code",
   "execution_count": null,
   "metadata": {
    "slideshow": {
     "slide_type": "-"
    }
   },
   "outputs": [],
   "source": [
    "# Specify the number of repetitions\n",
    "repetitions = 10000\n",
    "\n",
    "# Create an empty array to store the results\n",
    "head_counts = np.array([])\n",
    "\n",
    "for i in np.arange(repetitions):\n",
    "    # For each repetition, run the experiment and add the result to head_counts\n",
    "    head_count = coin_experiment()\n",
    "    head_counts = np.append(head_counts, head_count)"
   ]
  },
  {
   "cell_type": "code",
   "execution_count": null,
   "metadata": {
    "scrolled": true
   },
   "outputs": [],
   "source": [
    "len(head_counts)"
   ]
  },
  {
   "cell_type": "code",
   "execution_count": null,
   "metadata": {},
   "outputs": [],
   "source": [
    "head_counts"
   ]
  },
  {
   "cell_type": "markdown",
   "metadata": {
    "slideshow": {
     "slide_type": "slide"
    }
   },
   "source": [
    "### Step 3: Find the proportion of experiments in which the number of heads was 60 or more"
   ]
  },
  {
   "cell_type": "code",
   "execution_count": null,
   "metadata": {},
   "outputs": [],
   "source": [
    "# In how many experiments was the number of heads >= 60?\n",
    "at_least_60 = np.count_nonzero(head_counts >= 60)\n",
    "at_least_60"
   ]
  },
  {
   "cell_type": "code",
   "execution_count": null,
   "metadata": {},
   "outputs": [],
   "source": [
    "# What is this as a proportion?\n",
    "at_least_60 / repetitions"
   ]
  },
  {
   "cell_type": "code",
   "execution_count": null,
   "metadata": {},
   "outputs": [],
   "source": [
    "# Can also use np.mean()! Why?\n",
    "np.mean(head_counts >= 60)"
   ]
  },
  {
   "cell_type": "markdown",
   "metadata": {},
   "source": [
    "This is quite close to the true theoretical answer!"
   ]
  },
  {
   "cell_type": "code",
   "execution_count": null,
   "metadata": {},
   "outputs": [],
   "source": [
    "# The theoretical answer – don't worry about how or why this code works\n",
    "import math\n",
    "sum([math.comb(100, i) * (1 / 2) ** 100 for i in np.arange(60, 101)])"
   ]
  },
  {
   "cell_type": "markdown",
   "metadata": {
    "slideshow": {
     "slide_type": "slide"
    }
   },
   "source": [
    "### Visualizing the distribution"
   ]
  },
  {
   "cell_type": "code",
   "execution_count": null,
   "metadata": {},
   "outputs": [],
   "source": [
    "bpd.DataFrame().assign(\n",
    "    Number_of_Heads=head_counts\n",
    ").plot(kind='hist', bins=np.arange(30, 70), density=True, ec='w', figsize=(10, 5));\n",
    "plt.axvline(60, color='C1');"
   ]
  },
  {
   "cell_type": "markdown",
   "metadata": {
    "slideshow": {
     "slide_type": "-"
    }
   },
   "source": [
    "- This histogram describes the distribution of the number of heads in each experiment.\n",
    "- Now we see another reason to use density histograms.\n",
    "    - Using density means that areas approximate **probabilities**."
   ]
  },
  {
   "cell_type": "markdown",
   "metadata": {
    "slideshow": {
     "slide_type": "slide"
    }
   },
   "source": [
    "## Example: The \"Monty Hall\" Problem"
   ]
  },
  {
   "cell_type": "markdown",
   "metadata": {
    "slideshow": {
     "slide_type": "slide"
    }
   },
   "source": [
    "<img src=\"data/monty_1.svg\" width=75% />"
   ]
  },
  {
   "cell_type": "markdown",
   "metadata": {
    "slideshow": {
     "slide_type": "slide"
    }
   },
   "source": [
    "<img src=\"data/monty_2.svg\" width=75% />"
   ]
  },
  {
   "cell_type": "markdown",
   "metadata": {
    "slideshow": {
     "slide_type": "slide"
    }
   },
   "source": [
    "<img src=\"data/monty_3.svg\" width=85% />"
   ]
  },
  {
   "cell_type": "markdown",
   "metadata": {
    "slideshow": {
     "slide_type": "slide"
    }
   },
   "source": [
    "### The \"Monty Hall\" Problem\n",
    "\n",
    "Suppose you’re on a game show, and you’re given the choice of three doors: behind one door is a car 🚗; behind the others, goats 🐐🐐. \n",
    "\n",
    "- You pick a door, say No. 2, and the host, **who knows what’s behind the doors**, opens another door, say No. 3, which has a goat. \n",
    "\n",
    "- He then says to you, “Do you want to pick door No. 1?” \n",
    "\n",
    "- **Question:** Is it to your advantage to switch your choice?\n",
    "\n",
    "_(The question was originally posed in Parade magazine’s \"Ask Marilyn\" column. It is called the \"Monty Hall problem\" because Monty Hall was the host of the game show in question, \"Let's Make a Deal.\")_"
   ]
  },
  {
   "cell_type": "markdown",
   "metadata": {
    "slideshow": {
     "slide_type": "slide"
    }
   },
   "source": [
    "### Concept Check ✅ – Answer at [cc.dsc10.com](http://cc.dsc10.com) \n",
    "\n",
    "You originally selected door #2. The host reveals door #3 to have a goat behind it. What should you do?\n",
    "\n",
    "A. Might as well stick with door number #2; it has just as high a chance of winning as door #1. It doesn't matter whether you switch or not.\n",
    "\n",
    "B. Switch to door number #1; it has a higher chance of winning than door #2."
   ]
  },
  {
   "cell_type": "markdown",
   "metadata": {
    "slideshow": {
     "slide_type": "slide"
    }
   },
   "source": [
    "### Let's see 🤔\n",
    "\n",
    "- We'll use simulation to compute:\n",
    "    - The probability of winning if we switch.\n",
    "    - The probability of winning if we stay.\n",
    "        - This is just 1 - (probability of winning if we switch).\n",
    "- Whichever strategy has the higher probability of winning is better!"
   ]
  },
  {
   "cell_type": "markdown",
   "metadata": {
    "slideshow": {
     "slide_type": "slide"
    }
   },
   "source": [
    "### Time to simulate!\n",
    "\n",
    "Let's **simulate** the Monty Hall problem many times to **estimate** the probability of winning.\n",
    "\n",
    "1. Figure out how to simulate one game of Monty Hall.\n",
    "2. Play the game many times.\n",
    "3. Count the proportion of wins for each strategy (stay or switch)."
   ]
  },
  {
   "cell_type": "markdown",
   "metadata": {
    "slideshow": {
     "slide_type": "slide"
    }
   },
   "source": [
    "### Step 1: Simulate a single game\n",
    "\n",
    "When a contestant picks their door, there are three equally-likely outcomes:\n",
    "\n",
    "1. Car.\n",
    "1. Goat #1.\n",
    "1. Goat #2."
   ]
  },
  {
   "cell_type": "code",
   "execution_count": null,
   "metadata": {},
   "outputs": [],
   "source": [
    "behind_picked_door = np.random.choice(['Car', 'Goat #1', 'Goat #2'])\n",
    "behind_picked_door"
   ]
  },
  {
   "cell_type": "markdown",
   "metadata": {
    "slideshow": {
     "slide_type": "slide"
    }
   },
   "source": [
    "### Step 1: Simulate a single game\n",
    "\n",
    "Suppose we can see what is behind their door (but the contestant can't).\n",
    "\n",
    "- If it is a car, they will win if they stay.\n",
    "- If it is a goat, they will win if they switch."
   ]
  },
  {
   "cell_type": "markdown",
   "metadata": {
    "slideshow": {
     "slide_type": "slide"
    }
   },
   "source": [
    "### Step 1: Simulate a single game"
   ]
  },
  {
   "cell_type": "code",
   "execution_count": null,
   "metadata": {},
   "outputs": [],
   "source": [
    "# Determine winning_strategy ('Stay' or 'Switch') based on what behind_picked_door is.\n",
    "\n",
    "if behind_picked_door == 'Car':\n",
    "    winning_strategy = 'Stay'\n",
    "else:\n",
    "    # A goat was behind the picked door. Monty will reveal the other goat. \n",
    "    # Switching wins:\n",
    "    winning_strategy = 'Switch'"
   ]
  },
  {
   "cell_type": "markdown",
   "metadata": {
    "slideshow": {
     "slide_type": "slide"
    }
   },
   "source": [
    "### Step 1: Simulate a single game\n",
    "\n",
    "Let's turn this into a function to make it easier to repeat:"
   ]
  },
  {
   "cell_type": "code",
   "execution_count": null,
   "metadata": {},
   "outputs": [],
   "source": [
    "def simulate_monty_hall():\n",
    "    behind_picked_door = np.random.choice(['Car', 'Goat #1', 'Goat #2'])\n",
    "    \n",
    "    if behind_picked_door == 'Car':\n",
    "        winning_strategy = 'Stay'\n",
    "    else:\n",
    "        winning_strategy = 'Switch'\n",
    "        \n",
    "#     print(behind_picked_door, 'was behind the door. Winning strategy:', winning_strategy)\n",
    "    return winning_strategy"
   ]
  },
  {
   "cell_type": "code",
   "execution_count": null,
   "metadata": {},
   "outputs": [],
   "source": [
    "simulate_monty_hall()"
   ]
  },
  {
   "cell_type": "markdown",
   "metadata": {
    "slideshow": {
     "slide_type": "slide"
    }
   },
   "source": [
    "### Step 2: Play the game many times\n",
    "\n",
    "We should save the winning strategies. To do so, let's use `np.append`:"
   ]
  },
  {
   "cell_type": "code",
   "execution_count": null,
   "metadata": {},
   "outputs": [],
   "source": [
    "repetitions = 10000\n",
    "\n",
    "winning_strategies = np.array([])\n",
    "\n",
    "for i in np.arange(repetitions):\n",
    "    winning_strategy = simulate_monty_hall()\n",
    "    winning_strategies = np.append(winning_strategies, winning_strategy)"
   ]
  },
  {
   "cell_type": "code",
   "execution_count": null,
   "metadata": {},
   "outputs": [],
   "source": [
    "winning_strategies"
   ]
  },
  {
   "cell_type": "markdown",
   "metadata": {
    "slideshow": {
     "slide_type": "slide"
    }
   },
   "source": [
    "### Step 3: Count the proportion of wins for each strategy (stay or switch)"
   ]
  },
  {
   "cell_type": "code",
   "execution_count": null,
   "metadata": {},
   "outputs": [],
   "source": [
    "winning_strategies"
   ]
  },
  {
   "cell_type": "code",
   "execution_count": null,
   "metadata": {},
   "outputs": [],
   "source": [
    "np.count_nonzero(winning_strategies == 'Switch')"
   ]
  },
  {
   "cell_type": "code",
   "execution_count": null,
   "metadata": {},
   "outputs": [],
   "source": [
    "np.count_nonzero(winning_strategies == 'Switch') / repetitions"
   ]
  },
  {
   "cell_type": "code",
   "execution_count": null,
   "metadata": {},
   "outputs": [],
   "source": [
    "np.count_nonzero(winning_strategies == 'Stay') / repetitions"
   ]
  },
  {
   "cell_type": "markdown",
   "metadata": {},
   "source": [
    "- These are quite close to the true probabilities of winning per strategy ($\\frac{2}{3}$ for switch, $\\frac{1}{3}$ for stay).\n",
    "- **Conclusion:** it is better to switch."
   ]
  },
  {
   "cell_type": "markdown",
   "metadata": {
    "slideshow": {
     "slide_type": "slide"
    }
   },
   "source": [
    "### Alternate implementation\n",
    "\n",
    "- Looking back at our implementation, we kept track of the winning strategy in each experiment."
   ]
  },
  {
   "cell_type": "markdown",
   "metadata": {
    "slideshow": {
     "slide_type": "fragment"
    }
   },
   "source": [
    "- However, all we really needed to keep track of was the **number of experiments** in which the winning strategy was `'Switch'` (or `'Stay'`)."
   ]
  },
  {
   "cell_type": "markdown",
   "metadata": {
    "slideshow": {
     "slide_type": "fragment"
    }
   },
   "source": [
    "- Idea: Keep a _tally_ of the number of times the winning strategy was `'Switch'`. That is, initialize `switch_count` to 0, and add 1 to it each time the winning strategy is `'Switch'`."
   ]
  },
  {
   "cell_type": "code",
   "execution_count": null,
   "metadata": {},
   "outputs": [],
   "source": [
    "switch_count = 0"
   ]
  },
  {
   "cell_type": "code",
   "execution_count": null,
   "metadata": {},
   "outputs": [],
   "source": [
    "for i in np.arange(repetitions):\n",
    "    winning_strategy = simulate_monty_hall()\n",
    "    if winning_strategy == 'Switch':\n",
    "        switch_count = switch_count + 1"
   ]
  },
  {
   "cell_type": "code",
   "execution_count": null,
   "metadata": {},
   "outputs": [],
   "source": [
    "switch_count / repetitions"
   ]
  },
  {
   "cell_type": "code",
   "execution_count": null,
   "metadata": {},
   "outputs": [],
   "source": [
    "1 - switch_count / repetitions"
   ]
  },
  {
   "cell_type": "markdown",
   "metadata": {
    "slideshow": {
     "slide_type": "fragment"
    }
   },
   "source": [
    "No arrays needed! This strategy won't always work; it depends on the goal of the simulation."
   ]
  },
  {
   "cell_type": "markdown",
   "metadata": {
    "slideshow": {
     "slide_type": "slide"
    }
   },
   "source": [
    "### Marilyn vos Savant's column\n",
    "\n",
    "\n",
    "<div style=\"display: flex; margin-top: .5in; margin-right: 1in\">\n",
    "<div style=\"width: 85%;\">\n",
    "    <ul>\n",
    "        <li>vos Savant asked the question in <i>Parade</i> magazine.</li>\n",
    "        <li>She stated the correct answer: <i>switch</i>.</li>\n",
    "        <li>She received over 10,000 letters in disagreement, including over 1,000 letters from people with Ph.D.s.</li>\n",
    "    </ul>\n",
    "</div>\n",
    "<div style=\"width: 40%;\">\n",
    "    <img src=\"data/vos_savant.jpg\" width=300>\n",
    "</div>\n",
    "</div>\n"
   ]
  },
  {
   "cell_type": "markdown",
   "metadata": {
    "slideshow": {
     "slide_type": "slide"
    }
   },
   "source": [
    "## Summary, next time"
   ]
  },
  {
   "cell_type": "markdown",
   "metadata": {
    "slideshow": {
     "slide_type": "slide"
    }
   },
   "source": [
    "### Simulation finds probabilities\n",
    "\n",
    "- Calculating probabilities is important, but can be hard!\n",
    "    - You'll learn plenty of formulas in future DSC classes.\n",
    "- Simulation lets us find probabilities through computing instead of math.\n",
    "- Many real-world scenarios are complicated.\n",
    "    - Simulation is much easier than math in many of these cases."
   ]
  },
  {
   "cell_type": "markdown",
   "metadata": {
    "slideshow": {
     "slide_type": "slide"
    }
   },
   "source": [
    "### The simulation \"recipe\"\n",
    "\n",
    "To estimate the probability of an event through simulation:\n",
    "1. Make a function that runs the experiment once.\n",
    "2. Run that function many, many times (usually 10000) with a `for`-loop, and save the results in an array with `np.append`.\n",
    "3. Compute the proportion of times the event occurs using `np.count_nonzero`."
   ]
  },
  {
   "cell_type": "markdown",
   "metadata": {
    "slideshow": {
     "slide_type": "slide"
    }
   },
   "source": [
    "### What's next?\n",
    "\n",
    "- In the next class, we will start talking about sampling.\n",
    "    - Key idea: We want to learn something about a large population (e.g. all undergraduates at UCSD). However, it's far too difficult to survey everyone. If we collect a sample, what can we infer about the larger population?\n",
    "- **Today's material is on the midterm; next week's is not.**"
   ]
  }
 ],
 "metadata": {
  "kernelspec": {
   "display_name": "Python 3 (ipykernel)",
   "language": "python",
   "name": "python3"
  },
  "language_info": {
   "codemirror_mode": {
    "name": "ipython",
    "version": 3
   },
   "file_extension": ".py",
   "mimetype": "text/x-python",
   "name": "python",
   "nbconvert_exporter": "python",
   "pygments_lexer": "ipython3",
   "version": "3.9.7"
  },
  "livereveal": {
   "scroll": true,
   "transition": "none"
  },
  "rise": {
   "enable_chalkboard": true
  }
 },
 "nbformat": 4,
 "nbformat_minor": 2
}
