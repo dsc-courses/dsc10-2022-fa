{
 "cells": [
  {
   "cell_type": "code",
   "execution_count": null,
   "metadata": {
    "slideshow": {
     "slide_type": "skip"
    }
   },
   "outputs": [],
   "source": [
    "# Set up packages for lecture. Don't worry about understanding this code, but\n",
    "# make sure to run it if you're following along.\n",
    "import numpy as np\n",
    "import babypandas as bpd\n",
    "\n",
    "%reload_ext pandas_tutor\n",
    "%set_pandas_tutor_options {'projectorMode': True}\n",
    "\n",
    "import matplotlib.pyplot as plt\n",
    "from matplotlib_inline.backend_inline import set_matplotlib_formats\n",
    "set_matplotlib_formats(\"svg\")\n",
    "plt.style.use('ggplot')"
   ]
  },
  {
   "cell_type": "markdown",
   "metadata": {
    "slideshow": {
     "slide_type": "slide"
    }
   },
   "source": [
    "# Lecture 6 –  More Queries and GroupBy\n",
    "\n",
    "## DSC 10, Fall 2022"
   ]
  },
  {
   "cell_type": "markdown",
   "metadata": {
    "slideshow": {
     "slide_type": "slide"
    }
   },
   "source": [
    "### Announcements\n",
    "\n",
    "- Lab 2 is due on **Saturday 10/8 at 11:59pm**.\n",
    "- Homework 2 is due on **Tuesday 10/11 at 11:59pm**.\n",
    "- [Avoid submission errors](https://dsc10.com/syllabus/#submission-errors). You are responsible for submitting your work in the right format to Gradescope by the deadline.\n",
    "    - If you're unable to submit on time, take a look at our [Deadlines and Slip Days](https://dsc10.com/syllabus/#deadlines-and-slip-days) policy.\n",
    "- Discussion solutions are posted on Monday evenings to [practice.dsc10.com](https://practice.dsc10.com)."
   ]
  },
  {
   "cell_type": "markdown",
   "metadata": {
    "slideshow": {
     "slide_type": "slide"
    }
   },
   "source": [
    "### Agenda\n",
    "\n",
    "- Recap: queries.\n",
    "- Queries with multiple conditions.\n",
    "- GroupBy.\n",
    "- Extra practice, including challenge problems.\n",
    "\n",
    "#### Resources:\n",
    "- [DSC 10 Reference Sheet](https://drive.google.com/file/d/1mQApk9Ovdi-QVqMgnNcq5dZcWucUKoG-/view).\n",
    "- [`babypandas` notes](https://notes.dsc10.com).\n",
    "- [`babypandas` documentation](https://babypandas.readthedocs.io/en/latest/index.html).\n",
    "- [Resources tab of the course website](https://dsc10.com/resources/)"
   ]
  },
  {
   "cell_type": "markdown",
   "metadata": {
    "slideshow": {
     "slide_type": "slide"
    }
   },
   "source": [
    "### About the Data: Get It Done service requests 👷\n",
    "<center>\n",
    "<img height=75% src=\"images/get-it-done.jpg\"/ width=500>\n",
    "</center>\n",
    "\n",
    "The `requests` DataFrame contains a summary of all service requests so far in 2022, broken down by neighborhood and service."
   ]
  },
  {
   "cell_type": "code",
   "execution_count": null,
   "metadata": {},
   "outputs": [],
   "source": [
    "requests = bpd.read_csv('data/get-it-done-requests.csv')\n",
    "requests = requests.assign(total=requests.get('closed') + requests.get('open'))\n",
    "requests"
   ]
  },
  {
   "cell_type": "markdown",
   "metadata": {
    "slideshow": {
     "slide_type": "slide"
    }
   },
   "source": [
    "## Recap: queries"
   ]
  },
  {
   "cell_type": "markdown",
   "metadata": {
    "slideshow": {
     "slide_type": "slide"
    }
   },
   "source": [
    "### What is a query? 🤔\n",
    "\n",
    "- A \"query\" is code that extracts rows from a DataFrame for which certain condition(s) are true.\n",
    "- We often use queries to _filter_ DataFrames so that they only contain the rows that satisfy the conditions stated in our questions."
   ]
  },
  {
   "cell_type": "markdown",
   "metadata": {
    "slideshow": {
     "slide_type": "slide"
    }
   },
   "source": [
    "### How do we query a DataFrame?\n",
    "\n",
    "To select only certain rows of `requests`:\n",
    "\n",
    "1. Make a sequence (list/array/Series) of `True`s (keep) and `False`s (toss), usually by making a comparison.\n",
    "2. Then pass it into `requests[sequence_goes_here]`."
   ]
  },
  {
   "cell_type": "markdown",
   "metadata": {
    "slideshow": {
     "slide_type": "slide"
    }
   },
   "source": [
    "### Element-wise comparisons\n",
    "\n",
    "There are several types of comparisons we can make.\n",
    "\n",
    "|symbol|meaning|\n",
    "|--------|--------|\n",
    "|`==` |equal to |\n",
    "|`!=` |not equal to |\n",
    "|`<`|less than|\n",
    "|`<=`|less than or equal to|\n",
    "|`>`|greater than|\n",
    "|`>=`|greater than or equal to|"
   ]
  },
  {
   "cell_type": "markdown",
   "metadata": {
    "slideshow": {
     "slide_type": "slide"
    }
   },
   "source": [
    "## Example 6: Which neighborhood has the most `'Weed Cleanup'` requests?\n",
    "\n",
    "**Key concept**: Selecting rows (via Boolean indexing)."
   ]
  },
  {
   "cell_type": "markdown",
   "metadata": {
    "slideshow": {
     "slide_type": "slide"
    }
   },
   "source": [
    "### Strategy\n",
    "\n",
    "1. Query to extract a DataFrame of just the `'Weed Cleanup'` requests.\n",
    "2. Sort by `'total'` in descending order.\n",
    "3. Extract the first element from the `'neighborhood'` column."
   ]
  },
  {
   "cell_type": "code",
   "execution_count": null,
   "metadata": {},
   "outputs": [],
   "source": [
    "weed_cleanup_only = requests[requests.get('service') == 'Weed Cleanup']\n",
    "weed_cleanup_only"
   ]
  },
  {
   "cell_type": "code",
   "execution_count": null,
   "metadata": {},
   "outputs": [],
   "source": [
    "weed_cleanup_sorted = weed_cleanup_only.sort_values(by='total', ascending=False)\n",
    "weed_cleanup_sorted"
   ]
  },
  {
   "cell_type": "code",
   "execution_count": null,
   "metadata": {},
   "outputs": [],
   "source": [
    "weed_cleanup_sorted.get('neighborhood').iloc[0]"
   ]
  },
  {
   "cell_type": "markdown",
   "metadata": {
    "slideshow": {
     "slide_type": "slide"
    }
   },
   "source": [
    "### What if the condition isn't satisfied?"
   ]
  },
  {
   "cell_type": "code",
   "execution_count": null,
   "metadata": {},
   "outputs": [],
   "source": [
    "requests[requests.get('service') == 'Lime Cleanup']"
   ]
  },
  {
   "cell_type": "markdown",
   "metadata": {
    "slideshow": {
     "slide_type": "slide"
    }
   },
   "source": [
    "### Concept Check ✅ – Answer at [cc.dsc10.com](http://cc.dsc10.com) \n",
    "\n",
    "Which expression below evaluates to **the total number of service requests in the `'Downtown'` neighborhood**?\n",
    "\n",
    "A. `requests[requests.get('neighborhood') == 'Downtown'].get('total').sum()`\n",
    "\n",
    "B. `requests.get('total').sum()[requests.get('neighborhood') == 'Downtown']`\n",
    "\n",
    "C. `requests['Downtown'].get('total').sum()`\n",
    "   \n",
    "D. More than one of the above."
   ]
  },
  {
   "cell_type": "code",
   "execution_count": null,
   "metadata": {},
   "outputs": [],
   "source": [
    "..."
   ]
  },
  {
   "cell_type": "markdown",
   "metadata": {
    "slideshow": {
     "slide_type": "slide"
    }
   },
   "source": [
    "### Activity 🚘\n",
    "\n",
    "**Question**: What is the most commonly requested service in the `'University'` neighborhood (near UCSD)?\n",
    "\n",
    "Write one line of code that evaluates to the answer."
   ]
  },
  {
   "cell_type": "code",
   "execution_count": null,
   "metadata": {
    "scrolled": true
   },
   "outputs": [],
   "source": [
    "..."
   ]
  },
  {
   "cell_type": "markdown",
   "metadata": {
    "slideshow": {
     "slide_type": "slide"
    }
   },
   "source": [
    "## Example 7: How many service requests were for `'Pothole'` or `'Pavement Maintenance'`?\n",
    "\n",
    "**Key concept**: Queries with multiple conditions."
   ]
  },
  {
   "cell_type": "markdown",
   "metadata": {
    "slideshow": {
     "slide_type": "slide"
    }
   },
   "source": [
    "### Multiple conditions\n",
    "\n",
    "- To write a query with multiple conditions, use `&` for \"and\" and `|` for \"or\".\n",
    "- **You must use `(`parentheses`)` around each condition!**\n",
    "- ⚠️ Don't use the Python keywords `and` and `or` here! They do not behave as you'd want.\n",
    "    - See [BPD 10.3](https://notes.dsc10.com/02-data_sets/querying.html#multiple-conditions) for an explanation."
   ]
  },
  {
   "cell_type": "code",
   "execution_count": null,
   "metadata": {
    "scrolled": false
   },
   "outputs": [],
   "source": [
    "requests[(requests.get('service') == 'Pothole') | (requests.get('service') == 'Pavement Maintenance')]"
   ]
  },
  {
   "cell_type": "code",
   "execution_count": null,
   "metadata": {
    "scrolled": true
   },
   "outputs": [],
   "source": [
    "# You can add line breaks within brackets or parentheses\n",
    "requests[(requests.get('service') == 'Pothole') | \n",
    "         (requests.get('service') == 'Pavement Maintenance')]"
   ]
  },
  {
   "cell_type": "markdown",
   "metadata": {
    "slideshow": {
     "slide_type": "slide"
    }
   },
   "source": [
    "### The `&` and `|` operators work element-wise"
   ]
  },
  {
   "cell_type": "code",
   "execution_count": null,
   "metadata": {},
   "outputs": [],
   "source": [
    "(requests.get('service') == 'Pothole')"
   ]
  },
  {
   "cell_type": "code",
   "execution_count": null,
   "metadata": {},
   "outputs": [],
   "source": [
    "(requests.get('service') == 'Pavement Maintenance')"
   ]
  },
  {
   "cell_type": "code",
   "execution_count": null,
   "metadata": {},
   "outputs": [],
   "source": [
    "(requests.get('service') == 'Pothole') | (requests.get('service') == 'Pavement Maintenance')"
   ]
  },
  {
   "cell_type": "markdown",
   "metadata": {
    "slideshow": {
     "slide_type": "slide"
    }
   },
   "source": [
    "### Original Question: How many service requests were for `'Pothole'` or `'Pavement Maintenance'`?"
   ]
  },
  {
   "cell_type": "code",
   "execution_count": null,
   "metadata": {
    "scrolled": true
   },
   "outputs": [],
   "source": [
    "requests[(requests.get('service') == 'Pothole') | \n",
    "         (requests.get('service') == 'Pavement Maintenance')].get('total').sum()"
   ]
  },
  {
   "cell_type": "markdown",
   "metadata": {
    "slideshow": {
     "slide_type": "slide"
    }
   },
   "source": [
    "### Concept Check ✅ – Answer at [cc.dsc10.com](http://cc.dsc10.com) \n",
    "\n",
    "Each of the following questions can be answered by querying the `requests` DataFrame.\n",
    "\n",
    "1. Which neighborhood had the most `'Street Flooded'` requests?\n",
    "2. In the `'Kearny Mesa'` neighborhood, how many different types of services have open requests?\n",
    "3. How many requests have been closed in the `'La Jolla'` neighborhood?\n",
    "\n",
    "How many of the questions above **require** the query to have **multiple conditions**?\n",
    "\n",
    "A. 0 &nbsp;&nbsp;&nbsp;&nbsp;&nbsp;&nbsp;&nbsp;&nbsp;&nbsp;&nbsp;&nbsp;&nbsp;\n",
    "B. 1 &nbsp;&nbsp;&nbsp;&nbsp;&nbsp;&nbsp;&nbsp;&nbsp;&nbsp;&nbsp;&nbsp;&nbsp;\n",
    "C. 2 &nbsp;&nbsp;&nbsp;&nbsp;&nbsp;&nbsp;&nbsp;&nbsp;&nbsp;&nbsp;&nbsp;&nbsp;   D. 3\n",
    "\n",
    "**Bonus**: Try to write the code to answer each question."
   ]
  },
  {
   "cell_type": "code",
   "execution_count": null,
   "metadata": {},
   "outputs": [],
   "source": [
    "..."
   ]
  },
  {
   "cell_type": "markdown",
   "metadata": {
    "slideshow": {
     "slide_type": "slide"
    }
   },
   "source": [
    "## Example 8: Which neighborhood had the most Get It Done requests?\n",
    "\n",
    "**Key concept**: Grouping by one column."
   ]
  },
  {
   "cell_type": "markdown",
   "metadata": {
    "slideshow": {
     "slide_type": "slide"
    }
   },
   "source": [
    "### Organizing requests by neighborhood\n",
    "\n",
    "- We can find the total number of Get It Done requests for any one neighborhood.\n",
    "    - For example, `requests[requests.get('neighborhood') == 'Carmel Valley'].get('total').sum()`.\n",
    "- But how can we find the total requests for **every** neighborhood at the same time?"
   ]
  },
  {
   "cell_type": "code",
   "execution_count": null,
   "metadata": {
    "scrolled": true,
    "slideshow": {
     "slide_type": "slide"
    }
   },
   "outputs": [],
   "source": [
    "requests[requests.get('neighborhood') == 'Carmel Valley'].get('total').sum()"
   ]
  },
  {
   "cell_type": "code",
   "execution_count": null,
   "metadata": {
    "slideshow": {
     "slide_type": "-"
    }
   },
   "outputs": [],
   "source": [
    "requests[requests.get('neighborhood') == 'Torrey Hills'].get('total').sum()"
   ]
  },
  {
   "cell_type": "markdown",
   "metadata": {
    "slideshow": {
     "slide_type": "fragment"
    }
   },
   "source": [
    "It seems like there has to be a better way. And there is!"
   ]
  },
  {
   "cell_type": "markdown",
   "metadata": {
    "slideshow": {
     "slide_type": "slide"
    }
   },
   "source": [
    "### GroupBy: Split, aggregate, and combine\n",
    "\n",
    "Observe what happens when we use the `.groupby` method on `requests` with the argument `'neighborhood'`."
   ]
  },
  {
   "cell_type": "code",
   "execution_count": null,
   "metadata": {
    "slideshow": {
     "slide_type": "-"
    }
   },
   "outputs": [],
   "source": [
    "requests.groupby('neighborhood').sum()"
   ]
  },
  {
   "cell_type": "markdown",
   "metadata": {
    "slideshow": {
     "slide_type": "fragment"
    }
   },
   "source": [
    "Note that the `'total'` counts for Carmel Valley and Torrey Hills are the same as we saw on the previous slide. What just happened? 🤯"
   ]
  },
  {
   "cell_type": "markdown",
   "metadata": {
    "slideshow": {
     "slide_type": "slide"
    }
   },
   "source": [
    "### An illustrative example: Pets 🐱 🐶🐹\n",
    "\n",
    "Consider the DataFrame `pets` containing pet species, colors, and weights.\n"
   ]
  },
  {
   "cell_type": "code",
   "execution_count": null,
   "metadata": {
    "slideshow": {
     "slide_type": "-"
    }
   },
   "outputs": [],
   "source": [
    "pets = bpd.DataFrame().assign(\n",
    "    Species=['dog', 'cat', 'cat', 'dog', 'dog', 'hamster'],\n",
    "    Color=['black', 'golden', 'black', 'white', 'golden', 'golden'],\n",
    "    Weight=[40, 15, 20, 80, 25, 1],\n",
    "    Age=[5, 8, 9, 2, 0.5, 3]\n",
    ")\n",
    "pets"
   ]
  },
  {
   "cell_type": "markdown",
   "metadata": {
    "slideshow": {
     "slide_type": "slide"
    }
   },
   "source": [
    "### Visualizing `pets.groupby('Species').mean()`\n",
    "\n",
    "1. **Split** the rows of `pets` into \"groups\" according to their values in the `'Species'` column.\n",
    "2. **Aggregate** the rows with the same value of `'Species'` by taking the `mean` of all numerical columns.\n",
    "3. **Combine** these means into a new DataFrame that is indexed by `'Species'` and sorted by `'Species'` in ascending order.\n",
    "\n",
    "Note that the result contains just one row for cats, one row for dogs, and one row for hamsters!"
   ]
  },
  {
   "cell_type": "code",
   "execution_count": null,
   "metadata": {
    "scrolled": false
   },
   "outputs": [],
   "source": [
    "%%pt\n",
    "\n",
    "pets.groupby('Species').mean()"
   ]
  },
  {
   "cell_type": "markdown",
   "metadata": {
    "slideshow": {
     "slide_type": "slide"
    }
   },
   "source": [
    "### Pandas Tutor\n",
    "\n",
    "- In the last cell, we saw not just the output of the code, but a visualization of the inner workings of the code.\n",
    "- This is thanks to Pandas Tutor, a new tool developed by [Sam Lau](https://www.samlau.me), who taught this course over the summer.\n",
    "- Pandas Tutor draws diagrams to explain `pandas` (and `babypandas`) code.\n",
    "- Add `%%pt` to the top of a code cell to explain the last line of `babypandas` code.\n",
    "    - This requires Pandas Tutor to be imported, which we already did in this notebook.\n",
    "- You can also use Pandas Tutor through its website, [pandastutor.com](https://pandastutor.com/)."
   ]
  },
  {
   "cell_type": "code",
   "execution_count": null,
   "metadata": {
    "scrolled": true,
    "slideshow": {
     "slide_type": "-"
    }
   },
   "outputs": [],
   "source": [
    "# Without Pandas Tutor\n",
    "pets.groupby('Species').mean()"
   ]
  },
  {
   "cell_type": "code",
   "execution_count": null,
   "metadata": {},
   "outputs": [],
   "source": [
    "%%pt\n",
    "\n",
    "# With Pandas Tutor\n",
    "pets.groupby('Species').mean()"
   ]
  },
  {
   "cell_type": "markdown",
   "metadata": {
    "slideshow": {
     "slide_type": "slide"
    }
   },
   "source": [
    "### Back to Get It Done service requests 👷"
   ]
  },
  {
   "cell_type": "code",
   "execution_count": null,
   "metadata": {},
   "outputs": [],
   "source": [
    "requests"
   ]
  },
  {
   "cell_type": "code",
   "execution_count": null,
   "metadata": {},
   "outputs": [],
   "source": [
    "requests.groupby('neighborhood').sum()"
   ]
  },
  {
   "cell_type": "markdown",
   "metadata": {
    "slideshow": {
     "slide_type": "slide"
    }
   },
   "source": [
    "### Using `.groupby` in general\n",
    "\n",
    "In short, `.groupby` aggregates all rows with the same value in a specified column (e.g. `'neighborhood'`) into a single row in the resulting DataFrame, using an aggregation method (e.g. `.sum()`) to combine values.\n",
    "\n",
    "1. **Choose a column to group by**.\n",
    "    - `.groupby(column_name)` will gather rows which have the same value in the specified column (`column_name`).\n",
    "    - On the previous slide, we grouped by `'neighborhood'`.\n",
    "    - In the resulting DataFrame, there was one row for every unique value of `'neighborhood'`.\n",
    "2. **Choose an aggregation method**.\n",
    "    - The aggregation method will be applied **within** each group.\n",
    "    - On the previous slide, we applied the `.sum()` method to every `'neighborhood'`.\n",
    "    - The aggregation method is applied individually to each column (e.g. the sums were computed separately for `'closed'`, `'open'`, and `'total'`). \n",
    "        - If it doesn't make sense to use the aggregation method on a column, the column is dropped from the output – we'll look at this in more detail shortly.\n",
    "    - Common aggregation methods include `.count()`, `.sum()`, `.mean()`, `.median()`, `.max()`, and `.min()`."
   ]
  },
  {
   "cell_type": "markdown",
   "metadata": {
    "slideshow": {
     "slide_type": "slide"
    }
   },
   "source": [
    "### Observation #1\n",
    "\n",
    "- The index has changed to neighborhood names.\n",
    "- In general, the new row labels are the *group labels* (i.e., the unique values in the column that we grouped on)."
   ]
  },
  {
   "cell_type": "code",
   "execution_count": null,
   "metadata": {
    "slideshow": {
     "slide_type": "-"
    }
   },
   "outputs": [],
   "source": [
    "requests"
   ]
  },
  {
   "cell_type": "code",
   "execution_count": null,
   "metadata": {},
   "outputs": [],
   "source": [
    "requests.groupby('neighborhood').sum()"
   ]
  },
  {
   "cell_type": "markdown",
   "metadata": {
    "slideshow": {
     "slide_type": "slide"
    }
   },
   "source": [
    "### Observation #2\n",
    "\n",
    "The `'service'` column has disappeared. Why?"
   ]
  },
  {
   "cell_type": "code",
   "execution_count": null,
   "metadata": {},
   "outputs": [],
   "source": [
    "requests"
   ]
  },
  {
   "cell_type": "code",
   "execution_count": null,
   "metadata": {
    "scrolled": false
   },
   "outputs": [],
   "source": [
    "requests.groupby('neighborhood').sum()"
   ]
  },
  {
   "cell_type": "markdown",
   "metadata": {
    "slideshow": {
     "slide_type": "slide"
    }
   },
   "source": [
    "### Disappearing columns ✨🐇🎩  \n",
    "\n",
    "- The aggregation method – `.sum()`, in this case – is applied to each column.\n",
    "- If it doesn't make sense to apply it to a particular column, that column will disappear.\n",
    "- For instance, we _can't_ sum strings, like in the `'service'` column.\n",
    "- However, we _can_ compute the max of several strings. How?"
   ]
  },
  {
   "cell_type": "code",
   "execution_count": null,
   "metadata": {},
   "outputs": [],
   "source": [
    "# Can you guess how the max position is determined?\n",
    "requests.groupby('neighborhood').max() "
   ]
  },
  {
   "cell_type": "markdown",
   "metadata": {
    "slideshow": {
     "slide_type": "slide"
    }
   },
   "source": [
    "### Observation #3\n",
    "\n",
    "- The aggregation method is applied to each column **separately**.\n",
    "- The rows of the resulting DataFrame need to be interpreted with care."
   ]
  },
  {
   "cell_type": "code",
   "execution_count": null,
   "metadata": {},
   "outputs": [],
   "source": [
    "requests.groupby('neighborhood').max()"
   ]
  },
  {
   "cell_type": "markdown",
   "metadata": {
    "slideshow": {
     "slide_type": "fragment"
    }
   },
   "source": [
    "- Have there been 1703 `'Weed Cleanup'` requests in Balboa Park so far this year?\n",
    "- Why isn't the `'total'` column equal to the sum of the `'closed'` and `'open'` columns, as it originally was?"
   ]
  },
  {
   "cell_type": "markdown",
   "metadata": {
    "slideshow": {
     "slide_type": "slide"
    }
   },
   "source": [
    "### Activity\n",
    "\n",
    "Write a line of code that evaluates to **the service that has been requested in the fewest number of neighborhoods**. \n",
    "\n",
    "**Strategy**:\n",
    "   1. Choose a column to group by.\n",
    "   2. Choose an aggregation method. Some common ones are `.count()`, `.sum()`, `.mean()`, `.median()`, `.max()`, and `.min()`.\n",
    "   3. Sort the resulting DataFrame and extract the relevant piece of information (the service name)."
   ]
  },
  {
   "cell_type": "code",
   "execution_count": null,
   "metadata": {
    "scrolled": false
   },
   "outputs": [],
   "source": [
    "..."
   ]
  },
  {
   "cell_type": "markdown",
   "metadata": {
    "slideshow": {
     "slide_type": "fragment"
    }
   },
   "source": [
    "_Note:_ On an assignment, in questions like this with multiple correct answers (a tie for the fewest), you can put any one of them. We'll accept any correct answer."
   ]
  },
  {
   "cell_type": "markdown",
   "metadata": {
    "slideshow": {
     "slide_type": "slide"
    }
   },
   "source": [
    "### Observation #4\n",
    "\n",
    "- The column names of the output of `.groupby` don't make sense when using the `.count()` aggregation method.\n",
    "- Consider dropping unneeded columns and renaming columns as follows:\n",
    "    1. Use `.assign` to create a new column containing the same values as the old column(s).\n",
    "    2. Use `.drop(columns=list_of_column_labels)` to drop the old column(s)."
   ]
  },
  {
   "cell_type": "code",
   "execution_count": null,
   "metadata": {
    "slideshow": {
     "slide_type": "-"
    }
   },
   "outputs": [],
   "source": [
    "num_neighborhoods = requests.groupby('service').count()\n",
    "num_neighborhoods"
   ]
  },
  {
   "cell_type": "code",
   "execution_count": null,
   "metadata": {},
   "outputs": [],
   "source": [
    "num_neighborhoods = num_neighborhoods.assign(\n",
    "                    neighborhoods_requesting=num_neighborhoods.get('total')\n",
    "                    ).drop(columns=['neighborhood', 'closed', 'open', 'total'])\n",
    "num_neighborhoods"
   ]
  },
  {
   "cell_type": "markdown",
   "metadata": {
    "slideshow": {
     "slide_type": "slide"
    }
   },
   "source": [
    "## More practice: IMDb dataset 🎞️"
   ]
  },
  {
   "cell_type": "markdown",
   "metadata": {
    "slideshow": {
     "slide_type": "-"
    }
   },
   "source": [
    "<center>\n",
    "<img width=40% src=\"images/imdb.png\"/>\n",
    "</center>"
   ]
  },
  {
   "cell_type": "code",
   "execution_count": null,
   "metadata": {
    "slideshow": {
     "slide_type": "slide"
    }
   },
   "outputs": [],
   "source": [
    "imdb = bpd.read_csv('data/imdb.csv').set_index('Title').sort_values(by='Rating')\n",
    "imdb"
   ]
  },
  {
   "cell_type": "markdown",
   "metadata": {
    "slideshow": {
     "slide_type": "slide"
    }
   },
   "source": [
    "### Question: How many movies appear from each decade?"
   ]
  },
  {
   "cell_type": "code",
   "execution_count": null,
   "metadata": {},
   "outputs": [],
   "source": [
    "imdb.groupby('Decade').count()"
   ]
  },
  {
   "cell_type": "code",
   "execution_count": null,
   "metadata": {
    "scrolled": true
   },
   "outputs": [],
   "source": [
    "# We'll learn how to make plots like this in the next lecture!\n",
    "imdb.groupby('Decade').count().plot(y='Year');"
   ]
  },
  {
   "cell_type": "markdown",
   "metadata": {
    "slideshow": {
     "slide_type": "slide"
    }
   },
   "source": [
    "### Question: What was the highest rated movie of the 1990s?\n",
    "\n",
    "Let's try to do this two different ways."
   ]
  },
  {
   "cell_type": "markdown",
   "metadata": {
    "slideshow": {
     "slide_type": "slide"
    }
   },
   "source": [
    "#### Without grouping"
   ]
  },
  {
   "cell_type": "code",
   "execution_count": null,
   "metadata": {},
   "outputs": [],
   "source": [
    "%%pt\n",
    "imdb[imdb.get('Decade') == 1990].sort_values('Rating', ascending=False).index[0]"
   ]
  },
  {
   "cell_type": "markdown",
   "metadata": {
    "slideshow": {
     "slide_type": "fragment"
    }
   },
   "source": [
    "_Note:_ The command to extract the index of a DataFrame is `.index` - no parentheses! This is different than the way we extract columns, with `.get()`, because the index is not a column."
   ]
  },
  {
   "cell_type": "markdown",
   "metadata": {
    "slideshow": {
     "slide_type": "slide"
    }
   },
   "source": [
    "#### With grouping"
   ]
  },
  {
   "cell_type": "code",
   "execution_count": null,
   "metadata": {},
   "outputs": [],
   "source": [
    "%%pt\n",
    "imdb.reset_index().groupby('Decade').max()"
   ]
  },
  {
   "cell_type": "markdown",
   "metadata": {
    "slideshow": {
     "slide_type": "fragment"
    }
   },
   "source": [
    "- It turns out that this method **does not** yield the correct answer. \n",
    "- When we use an aggregation method (e.g. `.max()`), aggregation is done to each column individually. \n",
    "- While it's true that the highest rated movie from the 1990s has a rating of 9.2, that movie is **not** Unforgiven – instead, Unforgiven is the movie that's the latest in the alphabet among all movies from the 1990s.\n",
    "- Taking the `max` is not helpful here."
   ]
  },
  {
   "cell_type": "markdown",
   "metadata": {
    "slideshow": {
     "slide_type": "slide"
    }
   },
   "source": [
    "## Challenge problems\n",
    "\n",
    "We won't cover these problems in class, but they're here for you to practice with some harder examples. To access the solutions, you'll need to watch [this solution walkthrough video](https://youtu.be/xg7rnjWnZ48) (start at 10:00).\n",
    "\n",
    "Before watching the video, **make sure to try these problems on your own** – they're great prep for homeworks, projects, and exams!"
   ]
  },
  {
   "cell_type": "markdown",
   "metadata": {
    "slideshow": {
     "slide_type": "slide"
    }
   },
   "source": [
    "### Question: How many years have more than 3 movies rated above 8.5?"
   ]
  },
  {
   "cell_type": "code",
   "execution_count": null,
   "metadata": {},
   "outputs": [],
   "source": []
  },
  {
   "cell_type": "markdown",
   "metadata": {
    "slideshow": {
     "slide_type": "slide"
    }
   },
   "source": [
    "#### Aside: Using `.sum()` on a Boolean array/Series\n",
    "\n",
    "- Summing a Boolean array/Series gives a count of the number of `True` elements. This is because Python treats `True` as 1 and `False` as 0. \n",
    "- Can you use that fact here?"
   ]
  },
  {
   "cell_type": "code",
   "execution_count": null,
   "metadata": {},
   "outputs": [],
   "source": []
  },
  {
   "cell_type": "markdown",
   "metadata": {
    "slideshow": {
     "slide_type": "slide"
    }
   },
   "source": [
    "### Question: Out of the years with more than 3 movies, which had the highest average rating?"
   ]
  },
  {
   "cell_type": "code",
   "execution_count": null,
   "metadata": {},
   "outputs": [],
   "source": []
  },
  {
   "cell_type": "markdown",
   "metadata": {
    "slideshow": {
     "slide_type": "slide"
    }
   },
   "source": [
    "### Question: Which year had the longest movie titles, on average?\n",
    "\n",
    "_Hint:_ Use `.str.len()` on the column or index that contains the names of the movies."
   ]
  },
  {
   "cell_type": "code",
   "execution_count": null,
   "metadata": {},
   "outputs": [],
   "source": []
  },
  {
   "cell_type": "markdown",
   "metadata": {
    "slideshow": {
     "slide_type": "slide"
    }
   },
   "source": [
    "### Question: What is the average rating of movies from years that had at least 3 movies in the Top 250?"
   ]
  },
  {
   "cell_type": "code",
   "execution_count": null,
   "metadata": {},
   "outputs": [],
   "source": []
  },
  {
   "cell_type": "markdown",
   "metadata": {
    "slideshow": {
     "slide_type": "slide"
    }
   },
   "source": [
    "## Summary, next time"
   ]
  },
  {
   "cell_type": "markdown",
   "metadata": {
    "slideshow": {
     "slide_type": "slide"
    }
   },
   "source": [
    "### Summary\n",
    "\n",
    "- We can write queries that involve multiple conditions, as long as we:\n",
    "    - Put parentheses around all conditions.\n",
    "    - Separate conditions using `&` if you require all to be true, or `|` if you require at least one to be true.\n",
    "- The method call `df.groupby(column_name).agg_method()` **aggregates** all rows with the same value for `column_name` into a single row in the resulting DataFrame, using `agg_method()` to combine values.\n",
    "    - Aggregation methods to know: `.count()`, `.sum()`, `.mean()`, `.median()`, `.max()`, and `.min()`."
   ]
  },
  {
   "cell_type": "markdown",
   "metadata": {
    "slideshow": {
     "slide_type": "slide"
    }
   },
   "source": [
    "### Next time\n",
    "\n",
    " A picture is worth a 1000 words – it's time to visualize!"
   ]
  }
 ],
 "metadata": {
  "kernelspec": {
   "display_name": "Python 3 (ipykernel)",
   "language": "python",
   "name": "python3"
  },
  "language_info": {
   "codemirror_mode": {
    "name": "ipython",
    "version": 3
   },
   "file_extension": ".py",
   "mimetype": "text/x-python",
   "name": "python",
   "nbconvert_exporter": "python",
   "pygments_lexer": "ipython3",
   "version": "3.9.7"
  },
  "livereveal": {
   "scroll": true,
   "transition": "none"
  },
  "rise": {
   "enable_chalkboard": true
  }
 },
 "nbformat": 4,
 "nbformat_minor": 2
}
