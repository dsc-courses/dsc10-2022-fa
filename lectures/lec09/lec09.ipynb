{
 "cells": [
  {
   "cell_type": "code",
   "execution_count": null,
   "metadata": {
    "slideshow": {
     "slide_type": "skip"
    }
   },
   "outputs": [],
   "source": [
    "# Set up packages for lecture. Don't worry about understanding this code, but\n",
    "# make sure to run it if you're following along.\n",
    "import numpy as np\n",
    "import babypandas as bpd\n",
    "import pandas as pd\n",
    "from matplotlib_inline.backend_inline import set_matplotlib_formats\n",
    "import matplotlib.pyplot as plt\n",
    "%reload_ext pandas_tutor\n",
    "%set_pandas_tutor_options {'projectorMode': True}\n",
    "set_matplotlib_formats(\"svg\")\n",
    "plt.style.use('ggplot')\n",
    "\n",
    "np.set_printoptions(threshold=20, precision=2, suppress=True)\n",
    "pd.set_option(\"display.max_rows\", 7)\n",
    "pd.set_option(\"display.max_columns\", 8)\n",
    "pd.set_option(\"display.precision\", 2)\n",
    "\n",
    "from IPython.display import display, IFrame\n",
    "def show_def():\n",
    "    src = \"https://docs.google.com/presentation/d/e/2PACX-1vRKMMwGtrQOeLefj31fCtmbNOaJuKY32eBz1VwHi_5ui0AGYV3MoCjPUtQ_4SB1f9x4Iu6gbH0vFvmB/embed?start=false&loop=false&delayms=60000\"\n",
    "    width = 960 \n",
    "    height = 569\n",
    "    display(IFrame(src, width, height))"
   ]
  },
  {
   "cell_type": "markdown",
   "metadata": {
    "slideshow": {
     "slide_type": "slide"
    }
   },
   "source": [
    "# Lecture 9 – Functions and Apply\n",
    "\n",
    "## DSC 10, Fall 2022"
   ]
  },
  {
   "cell_type": "markdown",
   "metadata": {
    "slideshow": {
     "slide_type": "slide"
    }
   },
   "source": [
    "### Announcements\n",
    "\n",
    "- Lab 3 is due on **Saturday 10/15 at 11:59PM**.\n",
    "- Homework 3 is due on **Tuesday 10/18 at 11:59PM**.\n",
    "- The Midterm Project will be released one week from today – start thinking about who you may want to partner up with!\n",
    "    - You don't have to work with a partner.\n",
    "    - If you do, your partner doesn't have to be from your lecture section."
   ]
  },
  {
   "cell_type": "markdown",
   "metadata": {
    "slideshow": {
     "slide_type": "slide"
    }
   },
   "source": [
    "### Agenda\n",
    "\n",
    "- Functions.\n",
    "- Applying functions to DataFrames.\n",
    "- Example: Student names.\n",
    "\n",
    "**Reminder:** Use the [DSC 10 Reference Sheet](https://drive.google.com/file/d/1mQApk9Ovdi-QVqMgnNcq5dZcWucUKoG-/view). You can also use it on exams!"
   ]
  },
  {
   "cell_type": "markdown",
   "metadata": {
    "slideshow": {
     "slide_type": "slide"
    }
   },
   "source": [
    "## Functions"
   ]
  },
  {
   "cell_type": "markdown",
   "metadata": {
    "slideshow": {
     "slide_type": "slide"
    }
   },
   "source": [
    "### Defining functions\n",
    "* We've learned how to do quite a bit in Python:\n",
    "    * Manipulate arrays, Series, and DataFrames.\n",
    "    * Perform operations on strings.\n",
    "    * Create visualizations.\n",
    "* But so far, we've been restricted to using existing functions (e.g. `max`, `np.sqrt`, `len`) and methods (e.g. `.groupby`, `.assign`, `.plot`). "
   ]
  },
  {
   "cell_type": "markdown",
   "metadata": {
    "slideshow": {
     "slide_type": "slide"
    }
   },
   "source": [
    "### Motivation\n",
    "\n",
    "Suppose you drive to a restaurant 🥘 in LA, located exactly 100 miles away.\n",
    "\n",
    "- For the first 50 miles, you drive at 80 miles per hour.\n",
    "- For the last 50 miles, you drive at 60 miles per hour."
   ]
  },
  {
   "cell_type": "markdown",
   "metadata": {
    "slideshow": {
     "slide_type": "fragment"
    }
   },
   "source": [
    "- **Question:** What is your **average speed** throughout the journey?"
   ]
  },
  {
   "cell_type": "markdown",
   "metadata": {
    "slideshow": {
     "slide_type": "fragment"
    }
   },
   "source": [
    "- 🚨 The answer is not 70 miles per hour! Remember, from Homework 1, you need to use the fact that $\\text{speed} = \\frac{\\text{distance}}{\\text{time}}$."
   ]
  },
  {
   "cell_type": "markdown",
   "metadata": {
    "slideshow": {
     "slide_type": "slide"
    }
   },
   "source": [
    "$$\\text{average speed} = \\frac{\\text{distance}}{\\text{time}} = \\frac{50 + 50}{\\text{time}_1 + \\text{time}_2} \\text{ miles per hour}$$"
   ]
  },
  {
   "cell_type": "markdown",
   "metadata": {
    "slideshow": {
     "slide_type": "fragment"
    }
   },
   "source": [
    "In segment 1, when you drove 50 miles at 80 miles per hour, you drove for $\\frac{50}{80}$ hours:\n",
    "\n",
    "$$\\text{speed}_1 = \\frac{\\text{distance}_1}{\\text{time}_1}$$"
   ]
  },
  {
   "cell_type": "markdown",
   "metadata": {
    "slideshow": {
     "slide_type": "fragment"
    }
   },
   "source": [
    "$$80 \\text{ miles per hour} = \\frac{50 \\text{ miles}}{\\text{time}_1} \\implies \\text{time}_1 = \\frac{50}{80} \\text{ hours}$$"
   ]
  },
  {
   "cell_type": "markdown",
   "metadata": {
    "slideshow": {
     "slide_type": "fragment"
    }
   },
   "source": [
    "Similarly, in segment 2, when you drove 50 miles at 60 miles per hour, you drove for $\\text{time}_2 = \\frac{50}{60} \\text{ hours}$."
   ]
  },
  {
   "cell_type": "markdown",
   "metadata": {
    "slideshow": {
     "slide_type": "fragment"
    }
   },
   "source": [
    "Then,\n",
    "\n",
    "$$\\text{average speed} = \\frac{50 + 50}{\\frac{50}{80} + \\frac{50}{60}}  \\text{ miles per hour} $$"
   ]
  },
  {
   "cell_type": "markdown",
   "metadata": {
    "slideshow": {
     "slide_type": "fragment"
    }
   },
   "source": [
    "$$\\begin{align*}\\text{average speed} &= \\frac{50}{50} \\cdot \\frac{1 + 1}{\\frac{1}{80} + \\frac{1}{60}} \\text{ miles per hour} \\\\  &= \\frac{2}{\\frac{1}{80} + \\frac{1}{60}} \\text{ miles per hour} \\end{align*}$$"
   ]
  },
  {
   "cell_type": "markdown",
   "metadata": {
    "slideshow": {
     "slide_type": "slide"
    }
   },
   "source": [
    "### Example: Harmonic mean\n",
    "\n",
    "The **harmonic mean** ($\\text{HM}$) of two positive numbers, $a$ and $b$, is defined as\n",
    "\n",
    "$$\\text{HM} = \\frac{2}{\\frac{1}{a} + \\frac{1}{b}}$$\n",
    "\n",
    "It is often used to find the average of multiple **rates**."
   ]
  },
  {
   "cell_type": "markdown",
   "metadata": {
    "slideshow": {
     "slide_type": "fragment"
    }
   },
   "source": [
    "Finding the harmonic mean of 80 and 60 is not hard:"
   ]
  },
  {
   "cell_type": "code",
   "execution_count": null,
   "metadata": {},
   "outputs": [],
   "source": [
    "2 / (1 / 80 + 1 / 60)"
   ]
  },
  {
   "cell_type": "markdown",
   "metadata": {},
   "source": [
    "But what if we want to find the harmonic mean of 80 and 70? 80 and 90? 20 and 40? **This would require a lot of copy-pasting, which is prone to error.**"
   ]
  },
  {
   "cell_type": "markdown",
   "metadata": {
    "slideshow": {
     "slide_type": "slide"
    }
   },
   "source": [
    "It turns out that we can **define** our own \"harmonic mean\" **function** just once, and re-use it multiple times."
   ]
  },
  {
   "cell_type": "code",
   "execution_count": null,
   "metadata": {},
   "outputs": [],
   "source": [
    "def harmonic_mean(a, b):\n",
    "    return 2 / (1 / a + 1 / b)"
   ]
  },
  {
   "cell_type": "code",
   "execution_count": null,
   "metadata": {
    "scrolled": true
   },
   "outputs": [],
   "source": [
    "harmonic_mean(80, 60)"
   ]
  },
  {
   "cell_type": "code",
   "execution_count": null,
   "metadata": {},
   "outputs": [],
   "source": [
    "harmonic_mean(20, 40)"
   ]
  },
  {
   "cell_type": "markdown",
   "metadata": {
    "slideshow": {
     "slide_type": "fragment"
    }
   },
   "source": [
    "Note that we only had to specify how to calculate the harmonic mean once!"
   ]
  },
  {
   "cell_type": "markdown",
   "metadata": {
    "slideshow": {
     "slide_type": "slide"
    }
   },
   "source": [
    "### Functions\n",
    "\n",
    "Functions are a way to divide our code into small subparts to prevent us from writing repetitive code. Each time we **define** our own function in Python, we will use the following pattern."
   ]
  },
  {
   "cell_type": "code",
   "execution_count": null,
   "metadata": {},
   "outputs": [],
   "source": [
    "show_def()"
   ]
  },
  {
   "cell_type": "markdown",
   "metadata": {
    "slideshow": {
     "slide_type": "slide"
    }
   },
   "source": [
    "### Functions are \"recipes\"\n",
    "\n",
    "- Functions take in inputs, known as **arguments**, do something, and produce some outputs.\n",
    "- The beauty of functions is that **you don't need to know how they are implemented in order to use them!**\n",
    "    - This is the premise of the idea of **abstraction** in computer science – you'll hear a lot about this in DSC 20."
   ]
  },
  {
   "cell_type": "code",
   "execution_count": null,
   "metadata": {},
   "outputs": [],
   "source": [
    "harmonic_mean(20, 40)"
   ]
  },
  {
   "cell_type": "code",
   "execution_count": null,
   "metadata": {},
   "outputs": [],
   "source": [
    "harmonic_mean(79, 894)"
   ]
  },
  {
   "cell_type": "code",
   "execution_count": null,
   "metadata": {},
   "outputs": [],
   "source": [
    "harmonic_mean(-2, 4)"
   ]
  },
  {
   "cell_type": "markdown",
   "metadata": {
    "slideshow": {
     "slide_type": "slide"
    }
   },
   "source": [
    "### Parameters and arguments\n",
    "\n",
    "`triple` has one **parameter**, `x`."
   ]
  },
  {
   "cell_type": "code",
   "execution_count": null,
   "metadata": {},
   "outputs": [],
   "source": [
    "def triple(x):\n",
    "    return x * 3"
   ]
  },
  {
   "cell_type": "markdown",
   "metadata": {},
   "source": [
    "When we call `triple` with the **argument** 5, you can pretend that there's an invisible first line in the body of `triple` that says `x = 5`."
   ]
  },
  {
   "cell_type": "code",
   "execution_count": null,
   "metadata": {},
   "outputs": [],
   "source": [
    "triple(5)"
   ]
  },
  {
   "cell_type": "markdown",
   "metadata": {
    "slideshow": {
     "slide_type": "fragment"
    }
   },
   "source": [
    "Note that arguments can be of any type!"
   ]
  },
  {
   "cell_type": "code",
   "execution_count": null,
   "metadata": {},
   "outputs": [],
   "source": [
    "triple('triton')"
   ]
  },
  {
   "cell_type": "markdown",
   "metadata": {
    "slideshow": {
     "slide_type": "slide"
    }
   },
   "source": [
    "### Functions can take 0 or more arguments\n",
    "\n",
    "Functions can have any number of arguments. So far, we've created a function that takes two arguments – `harmonic_mean` – and a function that takes one argument – `triple`."
   ]
  },
  {
   "cell_type": "markdown",
   "metadata": {
    "slideshow": {
     "slide_type": "fragment"
    }
   },
   "source": [
    "`greeting` takes no arguments!"
   ]
  },
  {
   "cell_type": "code",
   "execution_count": null,
   "metadata": {
    "slideshow": {
     "slide_type": "-"
    }
   },
   "outputs": [],
   "source": [
    "def greeting():\n",
    "    return 'Hi! 👋'"
   ]
  },
  {
   "cell_type": "code",
   "execution_count": null,
   "metadata": {},
   "outputs": [],
   "source": [
    "greeting()"
   ]
  },
  {
   "cell_type": "markdown",
   "metadata": {
    "slideshow": {
     "slide_type": "slide"
    }
   },
   "source": [
    "### Functions don't run until you call them!\n",
    "\n",
    "The body of a function is not run until you use (**call**) the function.\n",
    "\n",
    "Here, we can define `where_is_the_error` without seeing an error message. "
   ]
  },
  {
   "cell_type": "code",
   "execution_count": null,
   "metadata": {},
   "outputs": [],
   "source": [
    "def where_is_the_error(something):\n",
    "    '''You can describe your function within triple quotes. For example, this function \n",
    "    illustrates that errors don't occur until functions are executed (called).'''\n",
    "    return (1 / 0) + something"
   ]
  },
  {
   "cell_type": "markdown",
   "metadata": {},
   "source": [
    "It is only when we **call** `where_is_the_error` that Python gives us an error message."
   ]
  },
  {
   "cell_type": "code",
   "execution_count": null,
   "metadata": {
    "tags": [
     "raises-exception"
    ]
   },
   "outputs": [],
   "source": [
    "where_is_the_error(5)"
   ]
  },
  {
   "cell_type": "markdown",
   "metadata": {
    "slideshow": {
     "slide_type": "slide"
    }
   },
   "source": [
    "### Example: `first_name`\n",
    "\n",
    "Let's create a function called `first_name` that takes in someone's full name and returns their first name. Example behavior is shown below.\n",
    "```py\n",
    ">>> first_name('Pradeep Khosla')\n",
    "'Pradeep'\n",
    "```\n",
    "*Hint*: Use the string method `.split`."
   ]
  },
  {
   "cell_type": "markdown",
   "metadata": {
    "slideshow": {
     "slide_type": "fragment"
    }
   },
   "source": [
    "General strategy for writing functions: \n",
    "1. First, try and get the behavior to work on a single example. \n",
    "2. Then, encapsulate that behavior inside a function."
   ]
  },
  {
   "cell_type": "code",
   "execution_count": null,
   "metadata": {},
   "outputs": [],
   "source": [
    "'Pradeep Khosla'.split(' ')[0]"
   ]
  },
  {
   "cell_type": "code",
   "execution_count": null,
   "metadata": {},
   "outputs": [],
   "source": [
    "def first_name(full_name):\n",
    "    '''Returns the first name given a full name.'''\n",
    "    return full_name.split(' ')[0]"
   ]
  },
  {
   "cell_type": "code",
   "execution_count": null,
   "metadata": {},
   "outputs": [],
   "source": [
    "first_name('Pradeep Khosla')"
   ]
  },
  {
   "cell_type": "code",
   "execution_count": null,
   "metadata": {},
   "outputs": [],
   "source": [
    "# What if there are three names?\n",
    "first_name('Chancellor Pradeep Khosla')"
   ]
  },
  {
   "cell_type": "markdown",
   "metadata": {
    "slideshow": {
     "slide_type": "slide"
    }
   },
   "source": [
    "### Returning\n",
    "\n",
    "- The `return` keyword specifies what the output of your function should be, i.e. what a call to your function will evaluate to.\n",
    "- Most functions we write will use `return`, but using `return` is not required.\n",
    "- Be careful: `print` and `return` work differently!"
   ]
  },
  {
   "cell_type": "code",
   "execution_count": null,
   "metadata": {},
   "outputs": [],
   "source": [
    "def pythagorean(a, b):\n",
    "    '''Computes the hypotenuse length of a triangle with legs a and b.'''\n",
    "    c = (a ** 2 + b ** 2) ** 0.5\n",
    "    print(c)"
   ]
  },
  {
   "cell_type": "code",
   "execution_count": null,
   "metadata": {},
   "outputs": [],
   "source": [
    "x = pythagorean(3, 4)"
   ]
  },
  {
   "cell_type": "code",
   "execution_count": null,
   "metadata": {},
   "outputs": [],
   "source": [
    "# No output – why?\n",
    "x"
   ]
  },
  {
   "cell_type": "code",
   "execution_count": null,
   "metadata": {
    "tags": [
     "raises-exception"
    ]
   },
   "outputs": [],
   "source": [
    "# Errors – why?\n",
    "x + 10"
   ]
  },
  {
   "cell_type": "code",
   "execution_count": null,
   "metadata": {
    "slideshow": {
     "slide_type": "slide"
    }
   },
   "outputs": [],
   "source": [
    "def better_pythagorean(a, b):\n",
    "    '''Computes the hypotenuse length of a triangle with legs a and b, and actually returns the result.'''\n",
    "    c = (a ** 2 + b ** 2) ** 0.5\n",
    "    return c"
   ]
  },
  {
   "cell_type": "code",
   "execution_count": null,
   "metadata": {},
   "outputs": [],
   "source": [
    "x = better_pythagorean(3, 4)\n",
    "x"
   ]
  },
  {
   "cell_type": "code",
   "execution_count": null,
   "metadata": {},
   "outputs": [],
   "source": [
    "x + 10"
   ]
  },
  {
   "cell_type": "markdown",
   "metadata": {
    "slideshow": {
     "slide_type": "slide"
    }
   },
   "source": [
    "### Returning\n",
    "Once a function executes a `return` statement, it stops running."
   ]
  },
  {
   "cell_type": "code",
   "execution_count": null,
   "metadata": {},
   "outputs": [],
   "source": [
    "def motivational(quote):\n",
    "    return 0\n",
    "    print(\"Here's a motivational quote:\", quote)"
   ]
  },
  {
   "cell_type": "code",
   "execution_count": null,
   "metadata": {},
   "outputs": [],
   "source": [
    "motivational('Fall seven times and stand up eight.')"
   ]
  },
  {
   "cell_type": "markdown",
   "metadata": {
    "slideshow": {
     "slide_type": "slide"
    }
   },
   "source": [
    "### Scope 🩺\n",
    "\n",
    "The names you choose for a function’s parameters are only known to that function (known as **local scope**). The rest of your notebook is unaffected by parameter names."
   ]
  },
  {
   "cell_type": "code",
   "execution_count": null,
   "metadata": {},
   "outputs": [],
   "source": [
    "def what_is_awesome(s):\n",
    "    return s + ' is awesome!'"
   ]
  },
  {
   "cell_type": "code",
   "execution_count": null,
   "metadata": {},
   "outputs": [],
   "source": [
    "what_is_awesome('data science')"
   ]
  },
  {
   "cell_type": "code",
   "execution_count": null,
   "metadata": {},
   "outputs": [],
   "source": [
    "s"
   ]
  },
  {
   "cell_type": "code",
   "execution_count": null,
   "metadata": {},
   "outputs": [],
   "source": [
    "s = 'DSC 10'"
   ]
  },
  {
   "cell_type": "code",
   "execution_count": null,
   "metadata": {},
   "outputs": [],
   "source": [
    "what_is_awesome('data science')"
   ]
  },
  {
   "cell_type": "markdown",
   "metadata": {
    "slideshow": {
     "slide_type": "slide"
    }
   },
   "source": [
    "## Applying functions to DataFrames"
   ]
  },
  {
   "cell_type": "markdown",
   "metadata": {
    "slideshow": {
     "slide_type": "slide"
    }
   },
   "source": [
    "### DSC 10 student data\n",
    "\n",
    "The DataFrame `roster` contains the names and lecture sections of all students enrolled in DSC 10 this quarter. The first names are real, while the last names have been anonymized for privacy."
   ]
  },
  {
   "cell_type": "code",
   "execution_count": null,
   "metadata": {
    "scrolled": false
   },
   "outputs": [],
   "source": [
    "roster = bpd.read_csv('data/roster-anon.csv')\n",
    "roster"
   ]
  },
  {
   "cell_type": "markdown",
   "metadata": {
    "slideshow": {
     "slide_type": "slide"
    }
   },
   "source": [
    "### Example: Common first names\n",
    "\n",
    "What is the most common first name among DSC 10 students? (Any guesses?)"
   ]
  },
  {
   "cell_type": "code",
   "execution_count": null,
   "metadata": {},
   "outputs": [],
   "source": [
    "roster"
   ]
  },
  {
   "cell_type": "markdown",
   "metadata": {
    "slideshow": {
     "slide_type": "fragment"
    }
   },
   "source": [
    "- **Problem**: We can't answer that right now, since we don't have a column with first names. If we did, we could group by it.\n",
    "\n"
   ]
  },
  {
   "cell_type": "markdown",
   "metadata": {
    "slideshow": {
     "slide_type": "fragment"
    }
   },
   "source": [
    "- **Solution**: Use our function that extracts first names on _every_ element of the `'name'` column."
   ]
  },
  {
   "cell_type": "markdown",
   "metadata": {
    "slideshow": {
     "slide_type": "slide"
    }
   },
   "source": [
    "### Using our `first_name` function\n",
    "\n",
    "Somehow, we need to call `first_name` on every student's `'name'`."
   ]
  },
  {
   "cell_type": "code",
   "execution_count": null,
   "metadata": {
    "scrolled": false
   },
   "outputs": [],
   "source": [
    "roster"
   ]
  },
  {
   "cell_type": "code",
   "execution_count": null,
   "metadata": {
    "scrolled": true
   },
   "outputs": [],
   "source": [
    "roster.get('name').iloc[0]"
   ]
  },
  {
   "cell_type": "code",
   "execution_count": null,
   "metadata": {},
   "outputs": [],
   "source": [
    "first_name(roster.get('name').iloc[0])"
   ]
  },
  {
   "cell_type": "code",
   "execution_count": null,
   "metadata": {},
   "outputs": [],
   "source": [
    "first_name(roster.get('name').iloc[1])"
   ]
  },
  {
   "cell_type": "markdown",
   "metadata": {},
   "source": [
    "Ideally, there's a better solution than doing this 411 times..."
   ]
  },
  {
   "cell_type": "markdown",
   "metadata": {
    "slideshow": {
     "slide_type": "slide"
    }
   },
   "source": [
    "### `.apply`\n",
    "\n",
    "- To **apply** a function to every element of column `column_name` in DataFrame `df`, use\n",
    "\n",
    "<br>\n",
    "\n",
    "<center><code>df.get(column_name).apply(function_name)</code></center>"
   ]
  },
  {
   "cell_type": "markdown",
   "metadata": {
    "slideshow": {
     "slide_type": "fragment"
    }
   },
   "source": [
    "- The `.apply` method is a **Series** method.\n",
    "    - **Important:** We use `.apply` on Series, **not** DataFrames.\n",
    "    - The output of `.apply` is also a Series."
   ]
  },
  {
   "cell_type": "markdown",
   "metadata": {
    "slideshow": {
     "slide_type": "fragment"
    }
   },
   "source": [
    "- Pass _just the name_ of the function – don't call it!\n",
    "    - Good ✅: `.apply(first_name)`.\n",
    "    - Bad ❌: `.apply(first_name())`."
   ]
  },
  {
   "cell_type": "code",
   "execution_count": null,
   "metadata": {
    "scrolled": true,
    "slideshow": {
     "slide_type": "fragment"
    }
   },
   "outputs": [],
   "source": [
    "roster.get('name').apply(first_name)"
   ]
  },
  {
   "cell_type": "code",
   "execution_count": null,
   "metadata": {},
   "outputs": [],
   "source": [
    "%%pt\n",
    "\n",
    "roster.get('name').apply(first_name)"
   ]
  },
  {
   "cell_type": "markdown",
   "metadata": {
    "slideshow": {
     "slide_type": "slide"
    }
   },
   "source": [
    "### Example: Common first names"
   ]
  },
  {
   "cell_type": "code",
   "execution_count": null,
   "metadata": {
    "scrolled": false
   },
   "outputs": [],
   "source": [
    "with_first = roster.assign(\n",
    "    first=roster.get('name').apply(first_name)\n",
    ")\n",
    "with_first"
   ]
  },
  {
   "cell_type": "code",
   "execution_count": null,
   "metadata": {
    "scrolled": true
   },
   "outputs": [],
   "source": [
    "first_counts = with_first.groupby('first').count().sort_values('name', ascending=False).get(['name'])\n",
    "first_counts"
   ]
  },
  {
   "cell_type": "markdown",
   "metadata": {
    "slideshow": {
     "slide_type": "slide"
    }
   },
   "source": [
    "### Activity\n",
    "\n",
    "Below:\n",
    "- Create a **bar chart** showing the number of students with each first name, but only include first names shared by at least two students.\n",
    "- Determine the **proportion** of students in DSC 10 who have a first name that is shared by at least two students."
   ]
  },
  {
   "cell_type": "code",
   "execution_count": null,
   "metadata": {},
   "outputs": [],
   "source": []
  },
  {
   "cell_type": "markdown",
   "metadata": {
    "slideshow": {
     "slide_type": "slide"
    }
   },
   "source": [
    "### Note: `.apply` works with built-in functions, too!\n",
    "\n",
    "For instance, to find the length of each name, we might use the `len` function:"
   ]
  },
  {
   "cell_type": "code",
   "execution_count": null,
   "metadata": {},
   "outputs": [],
   "source": [
    "with_first"
   ]
  },
  {
   "cell_type": "code",
   "execution_count": null,
   "metadata": {
    "scrolled": false
   },
   "outputs": [],
   "source": [
    "with_first.get('first').apply(len)"
   ]
  },
  {
   "cell_type": "markdown",
   "metadata": {
    "slideshow": {
     "slide_type": "slide"
    }
   },
   "source": [
    "### Aside: what if names are in the index?\n",
    "\n",
    "We were able to apply `first_name` to the `'name'` column because it's a Series. The `.apply` method doesn't work on the index, because the index is not a Series."
   ]
  },
  {
   "cell_type": "code",
   "execution_count": null,
   "metadata": {
    "scrolled": true
   },
   "outputs": [],
   "source": [
    "indexed_by_name = roster.set_index('name')\n",
    "indexed_by_name"
   ]
  },
  {
   "cell_type": "code",
   "execution_count": null,
   "metadata": {},
   "outputs": [],
   "source": [
    "indexed_by_name.index.apply(first_name)"
   ]
  },
  {
   "cell_type": "markdown",
   "metadata": {
    "slideshow": {
     "slide_type": "slide"
    }
   },
   "source": [
    "### Solution: `.reset_index()`\n",
    "\n",
    "Use `.reset_index()` to turn the index of a DataFrame into a column, and to reset the index back to the default of 0, 1, 2, 3, and so on."
   ]
  },
  {
   "cell_type": "code",
   "execution_count": null,
   "metadata": {},
   "outputs": [],
   "source": [
    "indexed_by_name.reset_index()"
   ]
  },
  {
   "cell_type": "code",
   "execution_count": null,
   "metadata": {},
   "outputs": [],
   "source": [
    "indexed_by_name.reset_index().get('name').apply(first_name)"
   ]
  },
  {
   "cell_type": "markdown",
   "metadata": {
    "slideshow": {
     "slide_type": "slide"
    }
   },
   "source": [
    "### Example: Shared first names and sections\n",
    "\n",
    "- Suppose you're one of the $\\approx$20\\% of students in DSC 10 who has a first name that is shared with at least one other student.\n",
    "- Let's try and determine whether someone **in your lecture section** shares the same first name as you."
   ]
  },
  {
   "cell_type": "code",
   "execution_count": null,
   "metadata": {
    "scrolled": false
   },
   "outputs": [],
   "source": [
    "with_first"
   ]
  },
  {
   "cell_type": "markdown",
   "metadata": {
    "slideshow": {
     "slide_type": "fragment"
    }
   },
   "source": [
    "For example, maybe `'Ryan Ufhwdl'` wants to see if there's another `'Ryan'` in their section. \n",
    "\n",
    "Strategy:\n",
    "1. What section is `'Ryan Ufhwdl'` in?\n",
    "2. How many people are in that section and named `'Ryan'`?"
   ]
  },
  {
   "cell_type": "code",
   "execution_count": null,
   "metadata": {},
   "outputs": [],
   "source": [
    "what_section = with_first[with_first.get('name') == 'Ryan Ufhwdl'].get('section').iloc[0]\n",
    "what_section"
   ]
  },
  {
   "cell_type": "code",
   "execution_count": null,
   "metadata": {},
   "outputs": [],
   "source": [
    "how_many = with_first[(with_first.get('section') == what_section) & (with_first.get('first') == 'Ryan')].shape[0]\n",
    "how_many"
   ]
  },
  {
   "cell_type": "markdown",
   "metadata": {
    "slideshow": {
     "slide_type": "slide"
    }
   },
   "source": [
    "### Another function: `shared_first_and_section`\n",
    "\n",
    "Let's create a function named `shared_first_and_section`. It will take in the **full name** of a student and return **the number** of students in their section with the same first name and section (including them).\n",
    "\n",
    "*Note*: This is the first function we're writing that involves using a DataFrame within the function – this is fine!"
   ]
  },
  {
   "cell_type": "code",
   "execution_count": null,
   "metadata": {},
   "outputs": [],
   "source": [
    "def shared_first_and_section(name):\n",
    "    # First, find the row corresponding to that full name in with_first.\n",
    "    # We're assuming that full names are unique.\n",
    "    row = with_first[with_first.get('name') == name]\n",
    "    \n",
    "    # Then, get that student's first name and section.\n",
    "    first = row.get('first').iloc[0]\n",
    "    section = row.get('section').iloc[0]\n",
    "    \n",
    "    # Now, find all the students with the same first name and section.\n",
    "    shared_info = with_first[(with_first.get('first') == first) & (with_first.get('section') == section)]\n",
    "    \n",
    "    # Return the number of such students.\n",
    "    return shared_info.shape[0]"
   ]
  },
  {
   "cell_type": "code",
   "execution_count": null,
   "metadata": {},
   "outputs": [],
   "source": [
    "shared_first_and_section('Ryan Ufhwdl')"
   ]
  },
  {
   "cell_type": "code",
   "execution_count": null,
   "metadata": {},
   "outputs": [],
   "source": [
    "shared_first_and_section('Dory Xaghsk')"
   ]
  },
  {
   "cell_type": "markdown",
   "metadata": {},
   "source": [
    "Now, let's add a column to `with_first` that contains the values returned by `shared_first_and_section`."
   ]
  },
  {
   "cell_type": "code",
   "execution_count": null,
   "metadata": {},
   "outputs": [],
   "source": [
    "with_first = with_first.assign(shared=with_first.get('name').apply(shared_first_and_section))\n",
    "with_first"
   ]
  },
  {
   "cell_type": "markdown",
   "metadata": {
    "slideshow": {
     "slide_type": "slide"
    }
   },
   "source": [
    "Let's look at all the students who are in a section with someone that has the same first name as them."
   ]
  },
  {
   "cell_type": "code",
   "execution_count": null,
   "metadata": {
    "scrolled": true
   },
   "outputs": [],
   "source": [
    "with_first[(with_first.get('shared') > 1)].sort_values('shared', ascending=False)"
   ]
  },
  {
   "cell_type": "markdown",
   "metadata": {
    "slideshow": {
     "slide_type": "fragment"
    }
   },
   "source": [
    "We can narrow this down to a particular lecture section if we'd like."
   ]
  },
  {
   "cell_type": "code",
   "execution_count": null,
   "metadata": {},
   "outputs": [],
   "source": [
    "one_section_only = with_first[(with_first.get('shared') > 1) & \n",
    "                              (with_first.get('section') == '10AM')].sort_values('shared', ascending=False)\n",
    "one_section_only"
   ]
  },
  {
   "cell_type": "code",
   "execution_count": null,
   "metadata": {},
   "outputs": [],
   "source": [
    "one_section_only.get('first').unique()"
   ]
  },
  {
   "cell_type": "markdown",
   "metadata": {
    "slideshow": {
     "slide_type": "slide"
    }
   },
   "source": [
    "### Sneak peek\n",
    "\n",
    "While the DataFrames on the previous slide contain the info we were looking for, they're not organized very conveniently. For instance, there are three rows containing the fact that there are 3 `'Andrew'`s in the 10AM lecture section. \n",
    "\n",
    "Wouldn't it be great if we could create a DataFrame like the one below? We'll see how on Friday!"
   ]
  },
  {
   "cell_type": "markdown",
   "metadata": {
    "slideshow": {
     "slide_type": "-"
    }
   },
   "source": [
    "|    | section   | first   |   count |\n",
    "|---:|:----------|:--------|--------:|\n",
    "|  0 | 10AM      | Andrew  |       3 |\n",
    "|  1 | 1PM       | Ethan   |       3 |\n",
    "|  2 | 1PM       | Samuel  |       3 |\n",
    "|  3 | 10AM      | Kevin   |       2 |\n",
    "|  4 | 11AM      | Connor  |       2 |"
   ]
  },
  {
   "cell_type": "markdown",
   "metadata": {
    "slideshow": {
     "slide_type": "slide"
    }
   },
   "source": [
    "### Activity\n",
    "\n",
    "Find the longest first name in the class that is shared by at least two students in the same section.\n",
    "\n",
    "*Hint*: You'll have to use both `assign` and `apply`."
   ]
  },
  {
   "cell_type": "code",
   "execution_count": null,
   "metadata": {},
   "outputs": [],
   "source": [
    "..."
   ]
  },
  {
   "cell_type": "markdown",
   "metadata": {
    "slideshow": {
     "slide_type": "slide"
    }
   },
   "source": [
    "## Summary, next time"
   ]
  },
  {
   "cell_type": "markdown",
   "metadata": {
    "slideshow": {
     "slide_type": "slide"
    }
   },
   "source": [
    "### Summary\n",
    "\n",
    "- Functions are a way to divide our code into small subparts to prevent us from writing repetitive code.\n",
    "- The `.apply` method allows us to call a function on every single element of a Series, which usually comes from `.get`ting a column of a DataFrame."
   ]
  },
  {
   "cell_type": "markdown",
   "metadata": {
    "slideshow": {
     "slide_type": "slide"
    }
   },
   "source": [
    "### Next time\n",
    "\n",
    "More advanced DataFrame manipulations!"
   ]
  }
 ],
 "metadata": {
  "kernelspec": {
   "display_name": "Python 3 (ipykernel)",
   "language": "python",
   "name": "python3"
  },
  "language_info": {
   "codemirror_mode": {
    "name": "ipython",
    "version": 3
   },
   "file_extension": ".py",
   "mimetype": "text/x-python",
   "name": "python",
   "nbconvert_exporter": "python",
   "pygments_lexer": "ipython3",
   "version": "3.9.7"
  },
  "livereveal": {
   "scroll": true,
   "transition": "none"
  },
  "rise": {
   "enable_chalkboard": true
  }
 },
 "nbformat": 4,
 "nbformat_minor": 2
}
