{
 "cells": [
  {
   "cell_type": "markdown",
   "metadata": {
    "slideshow": {
     "slide_type": "slide"
    }
   },
   "source": [
    "# Lecture 2 – Association and Causality\n",
    "\n",
    "## DSC 10, Fall 2022"
   ]
  },
  {
   "cell_type": "markdown",
   "metadata": {
    "slideshow": {
     "slide_type": "slide"
    }
   },
   "source": [
    "### Announcements\n",
    "\n",
    "- Check out the [Syllabus](https://dsc10.com/syllabus) on the course website, [dsc10.com](https://dsc10.com).\n",
    "- Complete the [Beginning of Quarter Survey](https://docs.google.com/forms/d/e/1FAIpQLSfLu8OrIQ7_mRWeI7EWTf34Xeh6QLyHYW4-7TaZYw2rZYr_QA/viewform?usp=sf_link).\n",
    "- Lab 1 is released and is due **Saturday at 11:59PM** to Gradescope.\n",
    "    - Don't worry if it looks foreign. It's guided and Wednesday's class will help.\n",
    "    - Post on [EdStem](https://edstem.org/us/courses/29053/discussion/1824962) or come to [office hours](https://dsc10.com/calendar/) for help!\n",
    "    - If you have trouble accessing Gradescope, look at [this](https://edstem.org/us/courses/29053/discussion/1827122) thread on EdStem.\n",
    "- The first [discussion section](https://dsc10.com/syllabus/#lecture-and-discussion) is tonight. Earn some extra credit and prepare for exams starting Week 1! 💯\n",
    "- Make sure to complete the readings alongside each lecture."
   ]
  },
  {
   "cell_type": "markdown",
   "metadata": {
    "slideshow": {
     "slide_type": "slide"
    }
   },
   "source": [
    "### Agenda\n",
    "\n",
    "- Association and causation.\n",
    "- Case study: London in 1854.\n",
    "- Confounding factors and randomized control experiments."
   ]
  },
  {
   "cell_type": "markdown",
   "metadata": {
    "slideshow": {
     "slide_type": "slide"
    }
   },
   "source": [
    "## Association and causation"
   ]
  },
  {
   "cell_type": "markdown",
   "metadata": {
    "slideshow": {
     "slide_type": "slide"
    }
   },
   "source": [
    "### A link 🔗\n",
    "\n",
    "The following headline, in [Everyday Health](https://www.everydayhealth.com/diet-nutrition/eating-chocolate-regularly-linked-to-lower-heart-attack-risk/), is about a review published in July 2020 in the European Journal of Preventive Cardiology.\n",
    "\n",
    "<div align=center>\n",
    "<img src='images/chocolate-article.png' width=800 />\n",
    "</div>"
   ]
  },
  {
   "cell_type": "markdown",
   "metadata": {
    "slideshow": {
     "slide_type": "slide"
    }
   },
   "source": [
    "### Some terminology:\n",
    "\n",
    "- **Individuals**, study subjects, participants, units.\n",
    "    - 336,289 American, Swedish, and Australian adults in several studies 🧍.\n",
    "- **Treatment**.\n",
    "    - Chocolate consumption 🍫.\n",
    "- **Outcome**.\n",
    "    - Coronary artery disease, which causes heart attacks ❤️."
   ]
  },
  {
   "cell_type": "markdown",
   "metadata": {
    "slideshow": {
     "slide_type": "slide"
    }
   },
   "source": [
    "### The first question\n",
    "\n",
    "Is there **any relation** between chocolate consumption 🍫 and heart disease ❤️?\n",
    "\n",
    "**Association** is another term for \"any relation\" or \"link\" 🔗."
   ]
  },
  {
   "cell_type": "markdown",
   "metadata": {
    "slideshow": {
     "slide_type": "slide"
    }
   },
   "source": [
    "### Some data\n",
    "\n",
    "> _Researchers examined [...] a total of 336,289 participants [...] which found that eating any kind of chocolate more than once per week was linked with an 8 percent reduced risk of coronary artery disease._"
   ]
  },
  {
   "cell_type": "markdown",
   "metadata": {
    "slideshow": {
     "slide_type": "slide"
    }
   },
   "source": [
    "### The second question\n",
    "\n",
    "Does chocolate consumption 🍫  **lead to** a reduction in heart disease  ❤️?\n",
    "\n",
    "This is called **causation** or a \"causal\" relation. "
   ]
  },
  {
   "cell_type": "markdown",
   "metadata": {
    "slideshow": {
     "slide_type": "slide"
    }
   },
   "source": [
    "### More headlines\n",
    "\n",
    "Other headlines about the same research article:"
   ]
  },
  {
   "cell_type": "markdown",
   "metadata": {
    "slideshow": {
     "slide_type": "fragment"
    }
   },
   "source": [
    "<center><img src=\"images/chocolate-causal-article1.png\" width=60%>"
   ]
  },
  {
   "cell_type": "markdown",
   "metadata": {
    "slideshow": {
     "slide_type": "fragment"
    }
   },
   "source": [
    "<center><img src=\"images/chocolate-causal-article2.png\" width=60%>"
   ]
  },
  {
   "cell_type": "markdown",
   "metadata": {
    "slideshow": {
     "slide_type": "slide"
    }
   },
   "source": [
    "### Concept Check ✅ – Answer at [cc.dsc10.com](http://cc.dsc10.com) \n",
    "\n",
    "**What can you say about the relationship between chocolate consumption 🍫  and a reduction in heart disease ❤️?**\n",
    "\n",
    "A. The data shows that there is an association and this is a causal link. Eating chocolate reduces the risk of heart disease.\n",
    "\n",
    "B. The data shows evidence of an association but not causation. \n",
    "\n",
    "C. The data doesn't necessarily show an association, as there could be another explanation for these results not considered here.\n"
   ]
  },
  {
   "cell_type": "markdown",
   "metadata": {
    "slideshow": {
     "slide_type": "slide"
    }
   },
   "source": [
    "## Case study: London in 1854"
   ]
  },
  {
   "cell_type": "markdown",
   "metadata": {
    "slideshow": {
     "slide_type": "slide"
    }
   },
   "source": [
    "### Miasmas, miasmatism, miasmatists\n",
    "\n",
    "- **Miasma** is a term for bad smells 👃 given off by waste and rotting matter."
   ]
  },
  {
   "cell_type": "markdown",
   "metadata": {
    "slideshow": {
     "slide_type": "fragment"
    }
   },
   "source": [
    "- At one point, miasmas were thought to be the main source of disease. Those who believed that miasmas caused disease were called **miasmatists**."
   ]
  },
  {
   "cell_type": "markdown",
   "metadata": {
    "slideshow": {
     "slide_type": "fragment"
    }
   },
   "source": [
    "- Suggested remedies for disease:\n",
    "    - “Fly to clene air”. ✈️\n",
    "    - “A pocket full o’posies”. 💐\n",
    "    - “Fire off barrels of gunpowder”. 🎆"
   ]
  },
  {
   "cell_type": "markdown",
   "metadata": {
    "slideshow": {
     "slide_type": "fragment"
    }
   },
   "source": [
    "\n",
    "- Staunch believers in miasmatism:\n",
    "    - Florence Nightingale, founder of modern nursing. 👩‍⚕️\n",
    "    - Edwin Chadwick, Commissioner of General Board of Health."
   ]
  },
  {
   "cell_type": "markdown",
   "metadata": {
    "slideshow": {
     "slide_type": "slide"
    }
   },
   "source": [
    "### John Snow, 1813-1858 ❄️\n",
    "\n",
    "<div align=center>\n",
    "<img src=\"images\\snow.jpg\" width=400>\n",
    "</div>"
   ]
  },
  {
   "cell_type": "markdown",
   "metadata": {
    "slideshow": {
     "slide_type": "fragment"
    }
   },
   "source": [
    "\n",
    "Not this Jon Snow...\n",
    "\n",
    "<div align=center>\n",
    "<img src=\"images/got.jpg\" width=400>\n",
    "</div>"
   ]
  },
  {
   "cell_type": "markdown",
   "metadata": {
    "slideshow": {
     "slide_type": "slide"
    }
   },
   "source": [
    "### Map of SoHo, London\n",
    "\n",
    "Each bar represents a death by cholera. What do you notice?\n",
    "\n",
    "<div align=center>\n",
    "<img src=\"images/map.jpg\" width=750>\n",
    "</div>"
   ]
  },
  {
   "cell_type": "code",
   "execution_count": null,
   "metadata": {
    "slideshow": {
     "slide_type": "slide"
    }
   },
   "outputs": [],
   "source": [
    "from IPython.display import HTML\n",
    "HTML('images/snow_map.html')"
   ]
  },
  {
   "cell_type": "markdown",
   "metadata": {
    "slideshow": {
     "slide_type": "slide"
    }
   },
   "source": [
    "### Broad Street Pump\n",
    "\n",
    "<div align=center>\n",
    "<img src=\"images/pump.png\" width=900>\n",
    "</div>\n",
    "\n",
    "Now the site of a pub 🍻."
   ]
  },
  {
   "cell_type": "markdown",
   "metadata": {
    "slideshow": {
     "slide_type": "slide"
    }
   },
   "source": [
    "## Establishing causation"
   ]
  },
  {
   "cell_type": "markdown",
   "metadata": {
    "slideshow": {
     "slide_type": "slide"
    }
   },
   "source": [
    "<div align=center>\n",
    "<img src=\"images/watersupplymap.png\">\n",
    "</div>\n",
    "\n",
    "- **S&V**: dirty water.\n",
    "- **Lambeth**: clean water."
   ]
  },
  {
   "cell_type": "markdown",
   "metadata": {
    "slideshow": {
     "slide_type": "slide"
    }
   },
   "source": [
    "<center><img src='images/river-diagram.png'</center>"
   ]
  },
  {
   "cell_type": "markdown",
   "metadata": {
    "slideshow": {
     "slide_type": "slide"
    }
   },
   "source": [
    "### Comparision ⚖️\n",
    "\n",
    "- **Treatment group**: does receive the treatment.\n",
    "- **Control group**: does not receive the treatment."
   ]
  },
  {
   "cell_type": "markdown",
   "metadata": {
    "slideshow": {
     "slide_type": "slide"
    }
   },
   "source": [
    " ### Concept Check ✅ – Answer at [cc.dsc10.com](http://cc.dsc10.com) \n",
    "\n",
    "**Which houses 🏠 were part of the treatment group?** \n",
    "\n",
    "A. All houses in the region of overlap.\n",
    "\n",
    "B. Houses served by S&V (dirty water) in the region of overlap.\n",
    "\n",
    "C. Houses served by Lambeth (clean water) in the region of overlap."
   ]
  },
  {
   "cell_type": "markdown",
   "metadata": {
    "slideshow": {
     "slide_type": "slide"
    }
   },
   "source": [
    "### Snow's \"Grand Experiment\"\n",
    "\n",
    "> “… there is no difference whatever in the houses or the people receiving the supply of the two Water Companies, or in any of the physical conditions with which they are surrounded …”\n",
    "\n",
    "In other words, the two groups were _similar except for the treatment_."
   ]
  },
  {
   "cell_type": "markdown",
   "metadata": {
    "slideshow": {
     "slide_type": "slide"
    }
   },
   "source": [
    " ### Concept Check ✅ – Answer at [cc.dsc10.com](http://cc.dsc10.com) \n",
    "\n",
    "Snow collected this data: \n",
    "<div align=center>\n",
    "<img src=\"images/table.png\" width=60%>\n",
    "</div>\n",
    "\n",
    "**Does dirty water cause cholera?** \n",
    "\n",
    "A. Yes ✔️, I think so.\n",
    "\n",
    "B. No ❌, I don't think so.\n",
    "\n",
    "C. Maybe ❔, I can't tell."
   ]
  },
  {
   "cell_type": "markdown",
   "metadata": {
    "slideshow": {
     "slide_type": "slide"
    }
   },
   "source": [
    "### Key to establishing causality 🗝️\n",
    "\n",
    "If the treatment and control groups are _similar apart from the treatment_, then the differences between the outcomes in the two groups can be ascribed to the treatment."
   ]
  },
  {
   "cell_type": "markdown",
   "metadata": {
    "slideshow": {
     "slide_type": "slide"
    }
   },
   "source": [
    "## Confounding factors"
   ]
  },
  {
   "cell_type": "markdown",
   "metadata": {
    "slideshow": {
     "slide_type": "slide"
    }
   },
   "source": [
    "### Trouble ⚠️\n",
    "\n",
    "If the treatment and control groups have _systematic differences other than the treatment_, then it might be difficult to identify causality.\n",
    "\n",
    "- Such differences are often present in **observational studies**. 👀\n",
    "- In an observational study, participants self-select or naturally fall into groups. Not controlled and not random!\n",
    "\n",
    "- Are the outcomes different because of the treatment or because of other systematic differences? 😕 **Hard to tell!**\n",
    "- These other differences are called _confounding factors_ (confounding means confusing).\n",
    "\n",
    "- **Example:** previously, it was widely accepted that coffee ☕ caused lung cancer. Why?"
   ]
  },
  {
   "cell_type": "markdown",
   "metadata": {
    "slideshow": {
     "slide_type": "slide"
    }
   },
   "source": [
    "### Randomize! 🎲\n",
    "\n",
    "- If you assign individuals to the treatment and control groups **at random**, then the two groups are likely to be similar apart from the treatment.\n",
    "\n",
    "- You can account – mathematically – for variability in the assignment.\n",
    "\n",
    "- Such an experiment is known as a **randomized controlled experiment** (or \"randomized controlled trial\" or RCT)."
   ]
  },
  {
   "cell_type": "markdown",
   "metadata": {
    "slideshow": {
     "slide_type": "fragment"
    }
   },
   "source": [
    "- **Question:** suppose you have a population of 400 individuals. How would you randomly divide them into treatment and control groups of equal size?"
   ]
  },
  {
   "cell_type": "markdown",
   "metadata": {
    "slideshow": {
     "slide_type": "fragment"
    }
   },
   "source": [
    "- **One answer:** write down each person's name (or unique identifier) on a ticket. Shuffle the 400 tickets and draw 200 of them. These individuals are in the treatment group; the rest are in the control group."
   ]
  },
  {
   "cell_type": "markdown",
   "metadata": {
    "slideshow": {
     "slide_type": "slide"
    }
   },
   "source": [
    "### Careful...\n",
    "\n",
    "Regardless of what the dictionary says...\n",
    "\n",
    "<center><h3> In probability theory, random ≠ haphazard! </h3></center>"
   ]
  },
  {
   "cell_type": "markdown",
   "metadata": {
    "slideshow": {
     "slide_type": "slide"
    }
   },
   "source": [
    " ### Concept Check ✅ – Answer at [cc.dsc10.com](http://cc.dsc10.com) \n",
    "\n",
    "**Which of these questions would we _not_ be able to answer by setting up a randomized controlled trial?**\n",
    "\n",
    "A. Does daily meditation 😌 reduce anxiety?\n",
    "\n",
    "B. Does playing video games 🎮 increase aggressive behavior?\n",
    "\n",
    "C. Does smoking cigarettes 🚬 cause weight loss?\n",
    "\n",
    "D. Does early exposure to classical music 🎻 increase a person’s IQ?\n"
   ]
  },
  {
   "cell_type": "markdown",
   "metadata": {
    "slideshow": {
     "slide_type": "slide"
    }
   },
   "source": [
    "### Ethical and practical limitations of establishing causality\n",
    "\n",
    "<center><img src='images/rct-covid.png' width=800>\n",
    "    <a href=\"https://www.cnn.com/2022/01/03/health/covid-weight-loss-wellness/index.html\">source</a>\n",
    "</center>"
   ]
  },
  {
   "cell_type": "markdown",
   "metadata": {
    "slideshow": {
     "slide_type": "slide"
    }
   },
   "source": [
    "## Summary: cause and effect"
   ]
  },
  {
   "cell_type": "markdown",
   "metadata": {
    "slideshow": {
     "slide_type": "slide"
    }
   },
   "source": [
    "### Comparison ⚖️\n",
    "\n",
    "- Group by some **treatment** and measure some **outcome**.\n",
    "\n",
    "- Simplest setting: a **treatment group** and a **control group**.\n",
    "\n",
    "- If the outcome differs between these two groups, that's evidence of an **association** (or **relation**).\n",
    "    - E.g., the chocolate eaters have lower rates of heart disease.\n",
    "\n",
    "- If, in addition, the two groups are similar in all ways but the treatment, differences in the outcome can be ascribed to the treatment. This is **causation**.\n",
    "    - E.g., two groups of London residents are similar in all ways besides the water they drink. If one group develops cholera more than the other, it's because of the water."
   ]
  },
  {
   "cell_type": "markdown",
   "metadata": {
    "slideshow": {
     "slide_type": "slide"
    }
   },
   "source": [
    "### Confounding 😕\n",
    "\n",
    "- If the treatment and control groups have systematic differences other than the treatment itself, then it's hard to identify a causal link.\n",
    "\n",
    "- Such systematic differences are called **confounding factors**.\n",
    "\n",
    "- Confounding factors are often present in observational studies.\n",
    "    - **Observational study**: the researcher does not choose which subjects receive the treatment.\n",
    "    - **Controlled experiment**: the researcher designs a procedure for selecting the treatment and control groups. Usually this procedure involves randomization."
   ]
  },
  {
   "cell_type": "markdown",
   "metadata": {
    "slideshow": {
     "slide_type": "slide"
    }
   },
   "source": [
    "### Randomize! 🎲\n",
    "\n",
    "- When subjects are split up **randomly**, it's unlikely that there will be systematic differences between the groups.\n",
    "\n",
    "- And it's possible to account for the chance of a difference.\n",
    "\n",
    "- Therefore, **randomized controlled experiments** are the most reliable way to establish causal relations."
   ]
  },
  {
   "cell_type": "markdown",
   "metadata": {
    "slideshow": {
     "slide_type": "slide"
    }
   },
   "source": [
    "### Next time\n",
    "\n",
    "On Wednesday, we'll switch gears and start programming 💻 in Python 🐍.\n",
    "\n",
    "<br>\n",
    "\n",
    "**Further reading 📖**: [The Medical Detective: John Snow, Cholera and the Mystery of the Broad Street Pump](https://www.amazon.com/gp/product/1862079374/ref=dbs_a_def_rwt_hsch_vapi_taft_p1_i2)"
   ]
  },
  {
   "cell_type": "markdown",
   "metadata": {
    "slideshow": {
     "slide_type": "slide"
    }
   },
   "source": [
    "### Field trip ✈️\n",
    "\n",
    "<center><img src=\"images/pump-suraj.png\" width=50%></center>"
   ]
  }
 ],
 "metadata": {
  "celltoolbar": "Slideshow",
  "kernelspec": {
   "display_name": "Python 3 (ipykernel)",
   "language": "python",
   "name": "python3"
  },
  "language_info": {
   "codemirror_mode": {
    "name": "ipython",
    "version": 3
   },
   "file_extension": ".py",
   "mimetype": "text/x-python",
   "name": "python",
   "nbconvert_exporter": "python",
   "pygments_lexer": "ipython3",
   "version": "3.9.7"
  },
  "livereveal": {
   "scroll": true,
   "transition": "none"
  },
  "rise": {
   "enable_chalkboard": true
  }
 },
 "nbformat": 4,
 "nbformat_minor": 4
}
