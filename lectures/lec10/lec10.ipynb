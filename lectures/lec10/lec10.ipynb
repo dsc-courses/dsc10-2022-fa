{
 "cells": [
  {
   "cell_type": "code",
   "execution_count": null,
   "metadata": {
    "slideshow": {
     "slide_type": "skip"
    }
   },
   "outputs": [],
   "source": [
    "# Set up packages for lecture. Don't worry about understanding this code, but\n",
    "# make sure to run it if you're following along.\n",
    "import numpy as np\n",
    "import babypandas as bpd\n",
    "import pandas as pd\n",
    "from matplotlib_inline.backend_inline import set_matplotlib_formats\n",
    "import matplotlib.pyplot as plt\n",
    "%reload_ext pandas_tutor\n",
    "%set_pandas_tutor_options {'projectorMode': True}\n",
    "set_matplotlib_formats(\"svg\")\n",
    "plt.style.use('ggplot')\n",
    "\n",
    "np.set_printoptions(threshold=20, precision=2, suppress=True)\n",
    "pd.set_option(\"display.max_rows\", 7)\n",
    "pd.set_option(\"display.max_columns\", 8)\n",
    "pd.set_option(\"display.precision\", 2)\n",
    "\n",
    "from IPython.display import display, IFrame\n",
    "\n",
    "def merging_animation():\n",
    "    src=\"https://docs.google.com/presentation/d/e/2PACX-1vSk2FfJ4K_An_CQwcN_Yu5unpJckOZjVQDFqZ78ZTTMmowUsCQKKVnum0_m6TaiGquQ44E3FiS9g2Y4/embed?start=false&loop=false&delayms=60000\"\n",
    "    width=825\n",
    "    height=500\n",
    "    display(IFrame(src, width, height))"
   ]
  },
  {
   "cell_type": "markdown",
   "metadata": {
    "slideshow": {
     "slide_type": "slide"
    }
   },
   "source": [
    "# Lecture 10 – Grouping with Subgroups, Merging\n",
    "\n",
    "## DSC 10, Fall 2022"
   ]
  },
  {
   "cell_type": "markdown",
   "metadata": {
    "slideshow": {
     "slide_type": "slide"
    }
   },
   "source": [
    "### Announcements\n",
    "\n",
    "- Lab 3 is due **tomorrow at 11:59PM**.\n",
    "- Homework 3 is due on **Tuesday 10/18 at 11:59PM**.\n",
    "- The Midterm Project will be released Wednesday!\n",
    "    - Partners are not required, but strongly encouraged.\n",
    "    - Your partner doesn't have to be from your lecture section.\n",
    "    - Before or after discussion on Monday, we'll host a mixer to help you find a partner! More details soon.\n",
    "    - You must use the [pair programming](https://dsc10.com/pair-programming/) model when working with a partner.\n",
    "- If you have a **conflict** with your assigned discussion, email TA Dasha (dveraksa@ucsd.edu) to request to attend another.\n",
    "- EdStem posts:\n",
    "    - If it includes code or your solution, post privately.\n",
    "    - Otherwise, post in the designated thread for the corresponding HW/Lab question."
   ]
  },
  {
   "cell_type": "markdown",
   "metadata": {
    "slideshow": {
     "slide_type": "slide"
    }
   },
   "source": [
    "### Agenda\n",
    "\n",
    "- Grouping with subgroups.\n",
    "- Merging."
   ]
  },
  {
   "cell_type": "markdown",
   "metadata": {
    "slideshow": {
     "slide_type": "slide"
    }
   },
   "source": [
    "## Grouping with subgroups"
   ]
  },
  {
   "cell_type": "markdown",
   "metadata": {
    "slideshow": {
     "slide_type": "slide"
    }
   },
   "source": [
    "### DSC 10 student data"
   ]
  },
  {
   "cell_type": "code",
   "execution_count": null,
   "metadata": {},
   "outputs": [],
   "source": [
    "roster = bpd.read_csv('data/roster-anon.csv')\n",
    "roster"
   ]
  },
  {
   "cell_type": "markdown",
   "metadata": {
    "slideshow": {
     "slide_type": "fragment"
    }
   },
   "source": [
    "Recall, last class, we extracted the first name of each student in the class."
   ]
  },
  {
   "cell_type": "code",
   "execution_count": null,
   "metadata": {},
   "outputs": [],
   "source": [
    "def first_name(full_name):\n",
    "    '''Returns the first name given a full name.'''\n",
    "    return full_name.split(' ')[0]"
   ]
  },
  {
   "cell_type": "code",
   "execution_count": null,
   "metadata": {},
   "outputs": [],
   "source": [
    "with_first = roster.assign(\n",
    "    first=roster.get('name').apply(first_name)\n",
    ")\n",
    "with_first"
   ]
  },
  {
   "cell_type": "markdown",
   "metadata": {
    "slideshow": {
     "slide_type": "slide"
    }
   },
   "source": [
    "### How many students named `'Ethan'` are in each section?\n",
    "\n",
    "We discovered that `'Ethan'` is the most popular first name overall."
   ]
  },
  {
   "cell_type": "code",
   "execution_count": null,
   "metadata": {},
   "outputs": [],
   "source": [
    "first_counts = (with_first.groupby('first').count()\n",
    "                .sort_values('name', ascending=False)\n",
    "                .get(['name']))\n",
    "first_counts"
   ]
  },
  {
   "cell_type": "markdown",
   "metadata": {
    "slideshow": {
     "slide_type": "slide"
    }
   },
   "source": [
    "To find the number of `'Ethan'`s in each lecture section, we can query for only the rows corresponding to `'Ethan'`s, and then group by `'section'`."
   ]
  },
  {
   "cell_type": "code",
   "execution_count": null,
   "metadata": {},
   "outputs": [],
   "source": [
    "with_first[with_first.get('first') == 'Ethan'].groupby('section').count()"
   ]
  },
  {
   "cell_type": "markdown",
   "metadata": {
    "slideshow": {
     "slide_type": "fragment"
    }
   },
   "source": [
    "But what if we want to know the number of `'Emily'`s and `'Yuen'`s per section, too?"
   ]
  },
  {
   "cell_type": "code",
   "execution_count": null,
   "metadata": {},
   "outputs": [],
   "source": [
    "with_first[with_first.get('first') == 'Emily'].groupby('section').count()"
   ]
  },
  {
   "cell_type": "code",
   "execution_count": null,
   "metadata": {},
   "outputs": [],
   "source": [
    "with_first[with_first.get('first') == 'Yuen'].groupby('section').count()"
   ]
  },
  {
   "cell_type": "markdown",
   "metadata": {},
   "source": [
    "Is there a way to do this **for all first names and sections** all at once?"
   ]
  },
  {
   "cell_type": "markdown",
   "metadata": {
    "slideshow": {
     "slide_type": "slide"
    }
   },
   "source": [
    "### How many students with each first name does each lecture section have?\n",
    "\n",
    "- It seems like grouping would be helpful here, but currently we only know how to group by a single column.\n",
    "    - Right now, we can count the number of students with each first name.\n",
    "    - Separately, we can count the number of students in each lecture section."
   ]
  },
  {
   "cell_type": "markdown",
   "metadata": {
    "slideshow": {
     "slide_type": "fragment"
    }
   },
   "source": [
    "- Here, we want to somehow group by multiple columns. \n",
    "    - Specifically, we want the number of students with each first name in each lecture section.\n",
    "    - e.g. the number of `'Ethan'`s in the 1PM section, the number of `'Emily'`s in the 10AM section."
   ]
  },
  {
   "cell_type": "markdown",
   "metadata": {
    "slideshow": {
     "slide_type": "fragment"
    }
   },
   "source": [
    "- **We can!**"
   ]
  },
  {
   "cell_type": "code",
   "execution_count": null,
   "metadata": {
    "slideshow": {
     "slide_type": "slide"
    }
   },
   "outputs": [],
   "source": [
    "with_first"
   ]
  },
  {
   "cell_type": "code",
   "execution_count": null,
   "metadata": {},
   "outputs": [],
   "source": [
    "with_first.groupby(['section', 'first']).count()"
   ]
  },
  {
   "cell_type": "markdown",
   "metadata": {},
   "source": [
    "The above DataFrame is telling us, for instance, that there is 1 student with the first name `'Adrian'` in the 10AM section.\n",
    "\n",
    "It is **not** saying that there is only 1 `'Adrian'` in the course overall – in fact, there are 2!"
   ]
  },
  {
   "cell_type": "code",
   "execution_count": null,
   "metadata": {},
   "outputs": [],
   "source": [
    "with_first[with_first.get('first') == 'Adrian']"
   ]
  },
  {
   "cell_type": "markdown",
   "metadata": {
    "slideshow": {
     "slide_type": "slide"
    }
   },
   "source": [
    "### `.groupby` with subgroups\n",
    "\n",
    "- To make subgroups – that is, groups within groups – pass a **list** of column names to `.groupby`:\n",
    "\n",
    "<br>\n",
    "\n",
    "<center><code>df.groupby([col_1, col_2, ..., col_k])</code></center>\n",
    "\n",
    "\n",
    "- Group by `col_1` first.\n",
    "- Within each group, group by `col_2`, and so on.\n",
    "- The resulting DataFrame has one row per unique combination of entries in the specified columns."
   ]
  },
  {
   "cell_type": "markdown",
   "metadata": {
    "slideshow": {
     "slide_type": "slide"
    }
   },
   "source": [
    "### Notice the index... 🤔\n",
    "\n",
    "- This is called a \"[MultiIndex](https://pandas.pydata.org/pandas-docs/stable/user_guide/advanced.html)\".\n",
    "    - The DataFrame is indexed by `'section'` **and** `'first'`.\n",
    "- We won't worry about the details of MultiIndexes.\n",
    "- We can use `.reset_index()` to \"flatten\" our DataFrame back to normal."
   ]
  },
  {
   "cell_type": "code",
   "execution_count": null,
   "metadata": {
    "scrolled": false
   },
   "outputs": [],
   "source": [
    "with_first.groupby(['section', 'first']).count().reset_index()"
   ]
  },
  {
   "cell_type": "markdown",
   "metadata": {
    "slideshow": {
     "slide_type": "slide"
    }
   },
   "source": [
    "### Does order matter?"
   ]
  },
  {
   "cell_type": "code",
   "execution_count": null,
   "metadata": {
    "scrolled": false
   },
   "outputs": [],
   "source": [
    "with_first.groupby(['section', 'first']).count().reset_index()"
   ]
  },
  {
   "cell_type": "code",
   "execution_count": null,
   "metadata": {},
   "outputs": [],
   "source": [
    "with_first.groupby(['first', 'section']).count().reset_index()"
   ]
  },
  {
   "cell_type": "markdown",
   "metadata": {
    "slideshow": {
     "slide_type": "fragment"
    }
   },
   "source": [
    "**Answer:** Kind of. The order of the rows and columns will be different, but the content will be the same."
   ]
  },
  {
   "cell_type": "markdown",
   "metadata": {
    "slideshow": {
     "slide_type": "slide"
    }
   },
   "source": [
    "### Activity\n",
    "\n",
    "Using `counts`, find the lecture section with the most `'Ryan'`s."
   ]
  },
  {
   "cell_type": "code",
   "execution_count": null,
   "metadata": {},
   "outputs": [],
   "source": [
    "counts = with_first.groupby(['section', 'first']).count().reset_index()\n",
    "counts"
   ]
  },
  {
   "cell_type": "code",
   "execution_count": null,
   "metadata": {},
   "outputs": [],
   "source": [
    "..."
   ]
  },
  {
   "cell_type": "markdown",
   "metadata": {
    "slideshow": {
     "slide_type": "slide"
    }
   },
   "source": [
    "### Activity\n",
    "\n",
    "Using `counts`, find the longest first name in the class that is shared by at least two students in the same section.\n",
    "\n",
    "*Note*: This was an activity in the last class. There, we had to use our `shared_first_and_section` function; that's not needed here!"
   ]
  },
  {
   "cell_type": "code",
   "execution_count": null,
   "metadata": {},
   "outputs": [],
   "source": [
    "counts"
   ]
  },
  {
   "cell_type": "code",
   "execution_count": null,
   "metadata": {},
   "outputs": [],
   "source": [
    "..."
   ]
  },
  {
   "cell_type": "markdown",
   "metadata": {
    "slideshow": {
     "slide_type": "slide"
    }
   },
   "source": [
    "### New dataset: Sea temperatures 🌊\n",
    "\n",
    "This dataset contains the sea surface temperature in La Jolla, on many days ranging from August 22, 1916 to December 31, 2020."
   ]
  },
  {
   "cell_type": "code",
   "execution_count": null,
   "metadata": {},
   "outputs": [],
   "source": [
    "sea_temp = bpd.read_csv('data/sea_temp.csv')\n",
    "sea_temp"
   ]
  },
  {
   "cell_type": "markdown",
   "metadata": {
    "slideshow": {
     "slide_type": "slide"
    }
   },
   "source": [
    "### Concept Check ✅ – Answer at [cc.dsc10.com](http://cc.dsc10.com) \n",
    "\n",
    "We want to find the single month (e.g. November 1998) with the highest average `'SURFACE_TEMP'`.\n",
    "\n",
    "Which of the following would help us achieve this goal?\n",
    "\n",
    "A. `sea_temp.groupby('SURFACE_TEMP').mean()`\n",
    "\n",
    "B. `sea_temp.groupby('MONTH').mean()`\n",
    "\n",
    "C. `sea_temp.groupby(['YEAR', 'MONTH']).mean()`\n",
    "\n",
    "D. `sea_temp.groupby(['MONTH', 'DAY']).mean()`\n",
    "\n",
    "E. `sea_temp.groupby(['MONTH', 'SURFACE_TEMP']).mean()`"
   ]
  },
  {
   "cell_type": "code",
   "execution_count": null,
   "metadata": {},
   "outputs": [],
   "source": [
    "..."
   ]
  },
  {
   "cell_type": "markdown",
   "metadata": {
    "slideshow": {
     "slide_type": "slide"
    }
   },
   "source": [
    "### Plots of monthly and yearly average surface temperature 📈"
   ]
  },
  {
   "cell_type": "code",
   "execution_count": null,
   "metadata": {},
   "outputs": [],
   "source": [
    "(sea_temp\n",
    " .groupby('MONTH') \n",
    " .mean() \n",
    " .plot(kind='line', y='SURFACE_TEMP')\n",
    ");"
   ]
  },
  {
   "cell_type": "code",
   "execution_count": null,
   "metadata": {},
   "outputs": [],
   "source": [
    "(sea_temp\n",
    " .groupby('YEAR') \n",
    " .mean() \n",
    " .plot(kind='line', y='SURFACE_TEMP')\n",
    ");"
   ]
  },
  {
   "cell_type": "markdown",
   "metadata": {
    "slideshow": {
     "slide_type": "slide"
    }
   },
   "source": [
    "### Summary: `.groupby` with subgroups\n",
    "\n",
    "- Pass a list of columns to `.groupby` to make subgroups.\n",
    "- Use `.reset_index()` after grouping with subgroups to move the MultiIndex back to the columns."
   ]
  },
  {
   "cell_type": "markdown",
   "metadata": {
    "slideshow": {
     "slide_type": "slide"
    }
   },
   "source": [
    "## Merging 🚗"
   ]
  },
  {
   "cell_type": "code",
   "execution_count": null,
   "metadata": {
    "slideshow": {
     "slide_type": "slide"
    }
   },
   "outputs": [],
   "source": [
    "phones = bpd.DataFrame().assign(\n",
    "    Model=['iPhone 13', 'iPhone 13 Pro Max', 'Samsung Galaxy Z Flip', 'Pixel 5a'],\n",
    "    Price=[799, 1099, 999, 449],\n",
    "    Screen=[6.1, 6.7, 6.7, 6.3]\n",
    ")\n",
    "\n",
    "inventory = bpd.DataFrame().assign(\n",
    "    Handset=['iPhone 13 Pro Max', 'iPhone 13', 'Pixel 5a', 'iPhone 13'],\n",
    "    Units=[50, 40, 10, 100],\n",
    "    Store=['Westfield UTC', 'Westfield UTC', 'Fashion Valley', 'Downtown']\n",
    ")"
   ]
  },
  {
   "cell_type": "code",
   "execution_count": null,
   "metadata": {
    "slideshow": {
     "slide_type": "slide"
    }
   },
   "outputs": [],
   "source": [
    "# Phones on the market right now\n",
    "phones"
   ]
  },
  {
   "cell_type": "code",
   "execution_count": null,
   "metadata": {},
   "outputs": [],
   "source": [
    "# Which phones my stores have in stock in the area\n",
    "inventory"
   ]
  },
  {
   "cell_type": "markdown",
   "metadata": {
    "slideshow": {
     "slide_type": "fragment"
    }
   },
   "source": [
    "**Question:** If I sell all of the phones in my inventory, how much will I make in revenue?"
   ]
  },
  {
   "cell_type": "markdown",
   "metadata": {
    "slideshow": {
     "slide_type": "slide"
    }
   },
   "source": [
    "### If I sell all of the phones in my inventory, how much will I make in revenue?"
   ]
  },
  {
   "cell_type": "code",
   "execution_count": null,
   "metadata": {},
   "outputs": [],
   "source": [
    "phones.merge(inventory, left_on='Model', right_on='Handset')"
   ]
  },
  {
   "cell_type": "markdown",
   "metadata": {
    "slideshow": {
     "slide_type": "slide"
    }
   },
   "source": [
    "### What just happened!? 🤯"
   ]
  },
  {
   "cell_type": "code",
   "execution_count": null,
   "metadata": {
    "scrolled": false
   },
   "outputs": [],
   "source": [
    "# Click through the presentation that appears\n",
    "merging_animation()"
   ]
  },
  {
   "cell_type": "markdown",
   "metadata": {
    "slideshow": {
     "slide_type": "slide"
    }
   },
   "source": [
    "### `.merge`\n",
    "\n",
    "- Pick a \"left\" and \"right\" DataFrame.\n",
    "- Choose a column from each to \"merge on\".\n",
    "```python\n",
    "left_df.merge(\n",
    "    right_df, \n",
    "    left_on=left_column_name,\n",
    "    right_on=right_column_name\n",
    ")\n",
    "```\n",
    "- `left_on` and `right_on` should be column names (they don't have to be the same).\n",
    "- The resulting DataFrame contains a single row for every match between the two columns.\n",
    "- Rows in either DataFrame without a match disappear!"
   ]
  },
  {
   "cell_type": "markdown",
   "metadata": {
    "slideshow": {
     "slide_type": "slide"
    }
   },
   "source": [
    "### If I sell all of the phones in my inventory, how much will I make in revenue?"
   ]
  },
  {
   "cell_type": "code",
   "execution_count": null,
   "metadata": {},
   "outputs": [],
   "source": [
    "%%pt\n",
    "\n",
    "# Notice there's no Samsung Galaxy Z Flip4 in phones_merged\n",
    "phones_merged = phones.merge(inventory, left_on='Model', right_on='Handset')"
   ]
  },
  {
   "cell_type": "code",
   "execution_count": null,
   "metadata": {},
   "outputs": [],
   "source": [
    "(phones_merged.get('Price') * phones_merged.get('Units')).sum()"
   ]
  },
  {
   "cell_type": "markdown",
   "metadata": {
    "slideshow": {
     "slide_type": "slide"
    }
   },
   "source": [
    "### Shortcut if column names are the same: `on`"
   ]
  },
  {
   "cell_type": "code",
   "execution_count": null,
   "metadata": {},
   "outputs": [],
   "source": [
    "inventory_relabeled = inventory.assign(Model=inventory.get('Handset')).drop(columns=['Handset'])\n",
    "inventory_relabeled"
   ]
  },
  {
   "cell_type": "code",
   "execution_count": null,
   "metadata": {},
   "outputs": [],
   "source": [
    "phones.merge(inventory_relabeled, on='Model')"
   ]
  },
  {
   "cell_type": "markdown",
   "metadata": {
    "slideshow": {
     "slide_type": "fragment"
    }
   },
   "source": [
    "**Notice**: There's only one column containing phone names now."
   ]
  },
  {
   "cell_type": "markdown",
   "metadata": {
    "slideshow": {
     "slide_type": "slide"
    }
   },
   "source": [
    "### Does order matter? 🤔"
   ]
  },
  {
   "cell_type": "code",
   "execution_count": null,
   "metadata": {},
   "outputs": [],
   "source": [
    "%%pt\n",
    "\n",
    "inventory.merge(phones, left_on='Handset', right_on='Model')"
   ]
  },
  {
   "cell_type": "markdown",
   "metadata": {
    "slideshow": {
     "slide_type": "fragment"
    }
   },
   "source": [
    "**Answer:** The order of the rows and columns will be different, but the content will be the same."
   ]
  },
  {
   "cell_type": "markdown",
   "metadata": {
    "slideshow": {
     "slide_type": "slide"
    }
   },
   "source": [
    "### What if we want to \"merge on\" an index?\n",
    "\n",
    "Instead of using `left_on` or `right_on`, use `left_index=True` or `right_index=True`."
   ]
  },
  {
   "cell_type": "code",
   "execution_count": null,
   "metadata": {},
   "outputs": [],
   "source": [
    "phones"
   ]
  },
  {
   "cell_type": "code",
   "execution_count": null,
   "metadata": {},
   "outputs": [],
   "source": [
    "inventory_by_handset = inventory.set_index('Handset')\n",
    "inventory_by_handset"
   ]
  },
  {
   "cell_type": "code",
   "execution_count": null,
   "metadata": {},
   "outputs": [],
   "source": [
    "phones.merge(inventory_by_handset, left_on='Model', right_index=True)"
   ]
  },
  {
   "cell_type": "markdown",
   "metadata": {
    "slideshow": {
     "slide_type": "slide"
    }
   },
   "source": [
    "### Activity setup"
   ]
  },
  {
   "cell_type": "code",
   "execution_count": null,
   "metadata": {},
   "outputs": [],
   "source": [
    "nice_weather_cities = bpd.DataFrame().assign(\n",
    "    city=['La Jolla', 'San Diego', 'Austin', 'Los Angeles'],\n",
    "    state=['California', 'California', 'Texas', 'California'],\n",
    "    today_high_temp=['79', '83', '87', '87']\n",
    "    \n",
    ")\n",
    "\n",
    "schools = bpd.DataFrame().assign(\n",
    "    name=['UCSD', 'University of Chicago', 'University of San Diego','Johns Hopkins University', 'UT Austin', 'SDSU', 'UCLA'], \n",
    "    city=['La Jolla', 'Chicago', 'San Diego', 'Baltimore', 'Austin', 'San Diego', 'Los Angeles'],\n",
    "    state=['California', 'Illinois', 'California', 'Maryland', 'Texas', 'California', 'California'],\n",
    "    graduation_rate=[0.87, 0.94, 0.78, 0.92, 0.81, 0.83, 0.91 ]\n",
    ")"
   ]
  },
  {
   "cell_type": "markdown",
   "metadata": {
    "slideshow": {
     "slide_type": "slide"
    }
   },
   "source": [
    "### Concept Check ✅ – Answer at [cc.dsc10.com](http://cc.dsc10.com) \n",
    "\n",
    "**Without writing code**, how many rows are in `nice_weather_cities.merge(schools, on='city')`?\n",
    "\n",
    "    A. 4    B. 5    C. 6    D. 7    E. 8"
   ]
  },
  {
   "cell_type": "code",
   "execution_count": null,
   "metadata": {},
   "outputs": [],
   "source": [
    "nice_weather_cities"
   ]
  },
  {
   "cell_type": "code",
   "execution_count": null,
   "metadata": {},
   "outputs": [],
   "source": [
    "schools"
   ]
  },
  {
   "cell_type": "code",
   "execution_count": null,
   "metadata": {},
   "outputs": [],
   "source": []
  },
  {
   "cell_type": "markdown",
   "metadata": {
    "slideshow": {
     "slide_type": "slide"
    }
   },
   "source": [
    "### Followup activity\n",
    "\n",
    "**Without writing code**, how many rows are in `nice_weather_cities.merge(schools, on='state')`?\n",
    "\n",
    "*Hint*: It's more than you might guess at first!"
   ]
  },
  {
   "cell_type": "code",
   "execution_count": null,
   "metadata": {},
   "outputs": [],
   "source": [
    "%%pt\n",
    "\n",
    "nice_weather_cities.merge(schools, on='state')"
   ]
  },
  {
   "cell_type": "code",
   "execution_count": null,
   "metadata": {},
   "outputs": [],
   "source": [
    "nice_weather_cities.merge(schools, on='state').shape[0]"
   ]
  },
  {
   "cell_type": "markdown",
   "metadata": {
    "slideshow": {
     "slide_type": "slide"
    }
   },
   "source": [
    "## Summary, next time"
   ]
  },
  {
   "cell_type": "markdown",
   "metadata": {
    "slideshow": {
     "slide_type": "slide"
    }
   },
   "source": [
    "### Summary\n",
    "\n",
    "- To create groups within a group, pass a list to `.groupby`.\n",
    "    - The result has one row for every unique combination of elements in the specified columns.\n",
    "- To combine information from multiple DataFrames, use `.merge`.\n",
    "    - When using `.merge`, Python searches for a match between a specified column in each DataFrame and combines the rows with a match.\n",
    "    - If there are no matches, the row disappears!"
   ]
  },
  {
   "cell_type": "markdown",
   "metadata": {
    "slideshow": {
     "slide_type": "slide"
    }
   },
   "source": [
    "### Next time\n",
    "\n",
    "- **If-statements**, to execute code only when certain conditions are met.\n",
    "- **For-loops**, to repeat code many times.\n",
    "- Both are foundational programming tools. 🛠"
   ]
  }
 ],
 "metadata": {
  "kernelspec": {
   "display_name": "Python 3 (ipykernel)",
   "language": "python",
   "name": "python3"
  },
  "language_info": {
   "codemirror_mode": {
    "name": "ipython",
    "version": 3
   },
   "file_extension": ".py",
   "mimetype": "text/x-python",
   "name": "python",
   "nbconvert_exporter": "python",
   "pygments_lexer": "ipython3",
   "version": "3.9.7"
  },
  "livereveal": {
   "scroll": true,
   "transition": "none"
  },
  "rise": {
   "enable_chalkboard": true
  }
 },
 "nbformat": 4,
 "nbformat_minor": 2
}
